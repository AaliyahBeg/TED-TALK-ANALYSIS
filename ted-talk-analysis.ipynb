{
 "cells": [
  {
   "cell_type": "code",
   "execution_count": 1,
   "id": "14ab53d5",
   "metadata": {
    "_cell_guid": "b1076dfc-b9ad-4769-8c92-a6c4dae69d19",
    "_uuid": "8f2839f25d086af736a60e9eeb907d3b93b6e0e5",
    "execution": {
     "iopub.execute_input": "2022-05-12T12:48:29.758047Z",
     "iopub.status.busy": "2022-05-12T12:48:29.757496Z",
     "iopub.status.idle": "2022-05-12T12:48:29.778685Z",
     "shell.execute_reply": "2022-05-12T12:48:29.778002Z"
    },
    "papermill": {
     "duration": 0.081538,
     "end_time": "2022-05-12T12:48:29.781513",
     "exception": false,
     "start_time": "2022-05-12T12:48:29.699975",
     "status": "completed"
    },
    "tags": []
   },
   "outputs": [
    {
     "name": "stdout",
     "output_type": "stream",
     "text": [
      "/kaggle/input/ted-talks/data.csv\n"
     ]
    }
   ],
   "source": [
    "import numpy as np # linear algebra\n",
    "import pandas as pd # data processing, CSV file I/O (e.g. pd.read_csv)\n",
    "import os\n",
    "for dirname, _, filenames in os.walk('/kaggle/input'):\n",
    "    for filename in filenames:\n",
    "        print(os.path.join(dirname, filename))\n",
    "\n",
    "# You can write up to 20GB to the current directory (/kaggle/working/) that gets preserved as output when you create a version using \"Save & Run All\" \n",
    "# You can also write temporary files to /kaggle/temp/, but they won't be saved outside of the current session"
   ]
  },
  {
   "cell_type": "code",
   "execution_count": 2,
   "id": "872b8733",
   "metadata": {
    "execution": {
     "iopub.execute_input": "2022-05-12T12:48:29.892840Z",
     "iopub.status.busy": "2022-05-12T12:48:29.892540Z",
     "iopub.status.idle": "2022-05-12T12:48:29.949106Z",
     "shell.execute_reply": "2022-05-12T12:48:29.948181Z"
    },
    "papermill": {
     "duration": 0.113002,
     "end_time": "2022-05-12T12:48:29.951601",
     "exception": false,
     "start_time": "2022-05-12T12:48:29.838599",
     "status": "completed"
    },
    "tags": []
   },
   "outputs": [],
   "source": [
    "df=pd.read_csv('/kaggle/input/ted-talks/data.csv')"
   ]
  },
  {
   "cell_type": "code",
   "execution_count": 3,
   "id": "57102e8a",
   "metadata": {
    "execution": {
     "iopub.execute_input": "2022-05-12T12:48:30.057580Z",
     "iopub.status.busy": "2022-05-12T12:48:30.057262Z",
     "iopub.status.idle": "2022-05-12T12:48:30.085423Z",
     "shell.execute_reply": "2022-05-12T12:48:30.084489Z"
    },
    "papermill": {
     "duration": 0.084768,
     "end_time": "2022-05-12T12:48:30.087712",
     "exception": false,
     "start_time": "2022-05-12T12:48:30.002944",
     "status": "completed"
    },
    "tags": []
   },
   "outputs": [
    {
     "data": {
      "text/html": [
       "<div>\n",
       "<style scoped>\n",
       "    .dataframe tbody tr th:only-of-type {\n",
       "        vertical-align: middle;\n",
       "    }\n",
       "\n",
       "    .dataframe tbody tr th {\n",
       "        vertical-align: top;\n",
       "    }\n",
       "\n",
       "    .dataframe thead th {\n",
       "        text-align: right;\n",
       "    }\n",
       "</style>\n",
       "<table border=\"1\" class=\"dataframe\">\n",
       "  <thead>\n",
       "    <tr style=\"text-align: right;\">\n",
       "      <th></th>\n",
       "      <th>title</th>\n",
       "      <th>author</th>\n",
       "      <th>date</th>\n",
       "      <th>views</th>\n",
       "      <th>likes</th>\n",
       "      <th>link</th>\n",
       "    </tr>\n",
       "  </thead>\n",
       "  <tbody>\n",
       "    <tr>\n",
       "      <th>0</th>\n",
       "      <td>Climate action needs new frontline leadership</td>\n",
       "      <td>Ozawa Bineshi Albert</td>\n",
       "      <td>December 2021</td>\n",
       "      <td>404000</td>\n",
       "      <td>12000</td>\n",
       "      <td>https://ted.com/talks/ozawa_bineshi_albert_cli...</td>\n",
       "    </tr>\n",
       "    <tr>\n",
       "      <th>1</th>\n",
       "      <td>The dark history of the overthrow of Hawaii</td>\n",
       "      <td>Sydney Iaukea</td>\n",
       "      <td>February 2022</td>\n",
       "      <td>214000</td>\n",
       "      <td>6400</td>\n",
       "      <td>https://ted.com/talks/sydney_iaukea_the_dark_h...</td>\n",
       "    </tr>\n",
       "    <tr>\n",
       "      <th>2</th>\n",
       "      <td>How play can spark new ideas for your business</td>\n",
       "      <td>Martin Reeves</td>\n",
       "      <td>September 2021</td>\n",
       "      <td>412000</td>\n",
       "      <td>12000</td>\n",
       "      <td>https://ted.com/talks/martin_reeves_how_play_c...</td>\n",
       "    </tr>\n",
       "    <tr>\n",
       "      <th>3</th>\n",
       "      <td>Why is China appointing judges to combat clima...</td>\n",
       "      <td>James K. Thornton</td>\n",
       "      <td>October 2021</td>\n",
       "      <td>427000</td>\n",
       "      <td>12000</td>\n",
       "      <td>https://ted.com/talks/james_k_thornton_why_is_...</td>\n",
       "    </tr>\n",
       "    <tr>\n",
       "      <th>4</th>\n",
       "      <td>Cement's carbon problem — and 2 ways to fix it</td>\n",
       "      <td>Mahendra Singhi</td>\n",
       "      <td>October 2021</td>\n",
       "      <td>2400</td>\n",
       "      <td>72</td>\n",
       "      <td>https://ted.com/talks/mahendra_singhi_cement_s...</td>\n",
       "    </tr>\n",
       "    <tr>\n",
       "      <th>...</th>\n",
       "      <td>...</td>\n",
       "      <td>...</td>\n",
       "      <td>...</td>\n",
       "      <td>...</td>\n",
       "      <td>...</td>\n",
       "      <td>...</td>\n",
       "    </tr>\n",
       "    <tr>\n",
       "      <th>5435</th>\n",
       "      <td>The best stats you've ever seen</td>\n",
       "      <td>Hans Rosling</td>\n",
       "      <td>February 2006</td>\n",
       "      <td>15000000</td>\n",
       "      <td>458000</td>\n",
       "      <td>https://ted.com/talks/hans_rosling_the_best_st...</td>\n",
       "    </tr>\n",
       "    <tr>\n",
       "      <th>5436</th>\n",
       "      <td>Do schools kill creativity?</td>\n",
       "      <td>Sir Ken Robinson</td>\n",
       "      <td>February 2006</td>\n",
       "      <td>72000000</td>\n",
       "      <td>2100000</td>\n",
       "      <td>https://ted.com/talks/sir_ken_robinson_do_scho...</td>\n",
       "    </tr>\n",
       "    <tr>\n",
       "      <th>5437</th>\n",
       "      <td>Greening the ghetto</td>\n",
       "      <td>Majora Carter</td>\n",
       "      <td>February 2006</td>\n",
       "      <td>2900000</td>\n",
       "      <td>88000</td>\n",
       "      <td>https://ted.com/talks/majora_carter_greening_t...</td>\n",
       "    </tr>\n",
       "    <tr>\n",
       "      <th>5438</th>\n",
       "      <td>Simplicity sells</td>\n",
       "      <td>David Pogue</td>\n",
       "      <td>February 2006</td>\n",
       "      <td>2000000</td>\n",
       "      <td>60000</td>\n",
       "      <td>https://ted.com/talks/david_pogue_simplicity_s...</td>\n",
       "    </tr>\n",
       "    <tr>\n",
       "      <th>5439</th>\n",
       "      <td>Averting the climate crisis</td>\n",
       "      <td>Al Gore</td>\n",
       "      <td>February 2006</td>\n",
       "      <td>3600000</td>\n",
       "      <td>109000</td>\n",
       "      <td>https://ted.com/talks/al_gore_averting_the_cli...</td>\n",
       "    </tr>\n",
       "  </tbody>\n",
       "</table>\n",
       "<p>5440 rows × 6 columns</p>\n",
       "</div>"
      ],
      "text/plain": [
       "                                                  title                author  \\\n",
       "0         Climate action needs new frontline leadership  Ozawa Bineshi Albert   \n",
       "1           The dark history of the overthrow of Hawaii         Sydney Iaukea   \n",
       "2        How play can spark new ideas for your business         Martin Reeves   \n",
       "3     Why is China appointing judges to combat clima...     James K. Thornton   \n",
       "4        Cement's carbon problem — and 2 ways to fix it       Mahendra Singhi   \n",
       "...                                                 ...                   ...   \n",
       "5435                    The best stats you've ever seen          Hans Rosling   \n",
       "5436                        Do schools kill creativity?      Sir Ken Robinson   \n",
       "5437                                Greening the ghetto         Majora Carter   \n",
       "5438                                   Simplicity sells           David Pogue   \n",
       "5439                        Averting the climate crisis               Al Gore   \n",
       "\n",
       "                date     views    likes  \\\n",
       "0      December 2021    404000    12000   \n",
       "1      February 2022    214000     6400   \n",
       "2     September 2021    412000    12000   \n",
       "3       October 2021    427000    12000   \n",
       "4       October 2021      2400       72   \n",
       "...              ...       ...      ...   \n",
       "5435   February 2006  15000000   458000   \n",
       "5436   February 2006  72000000  2100000   \n",
       "5437   February 2006   2900000    88000   \n",
       "5438   February 2006   2000000    60000   \n",
       "5439   February 2006   3600000   109000   \n",
       "\n",
       "                                                   link  \n",
       "0     https://ted.com/talks/ozawa_bineshi_albert_cli...  \n",
       "1     https://ted.com/talks/sydney_iaukea_the_dark_h...  \n",
       "2     https://ted.com/talks/martin_reeves_how_play_c...  \n",
       "3     https://ted.com/talks/james_k_thornton_why_is_...  \n",
       "4     https://ted.com/talks/mahendra_singhi_cement_s...  \n",
       "...                                                 ...  \n",
       "5435  https://ted.com/talks/hans_rosling_the_best_st...  \n",
       "5436  https://ted.com/talks/sir_ken_robinson_do_scho...  \n",
       "5437  https://ted.com/talks/majora_carter_greening_t...  \n",
       "5438  https://ted.com/talks/david_pogue_simplicity_s...  \n",
       "5439  https://ted.com/talks/al_gore_averting_the_cli...  \n",
       "\n",
       "[5440 rows x 6 columns]"
      ]
     },
     "execution_count": 3,
     "metadata": {},
     "output_type": "execute_result"
    }
   ],
   "source": [
    "df"
   ]
  },
  {
   "cell_type": "code",
   "execution_count": 4,
   "id": "f1871379",
   "metadata": {
    "execution": {
     "iopub.execute_input": "2022-05-12T12:48:30.193834Z",
     "iopub.status.busy": "2022-05-12T12:48:30.193573Z",
     "iopub.status.idle": "2022-05-12T12:48:30.205977Z",
     "shell.execute_reply": "2022-05-12T12:48:30.205111Z"
    },
    "papermill": {
     "duration": 0.06814,
     "end_time": "2022-05-12T12:48:30.208402",
     "exception": false,
     "start_time": "2022-05-12T12:48:30.140262",
     "status": "completed"
    },
    "tags": []
   },
   "outputs": [
    {
     "data": {
      "text/html": [
       "<div>\n",
       "<style scoped>\n",
       "    .dataframe tbody tr th:only-of-type {\n",
       "        vertical-align: middle;\n",
       "    }\n",
       "\n",
       "    .dataframe tbody tr th {\n",
       "        vertical-align: top;\n",
       "    }\n",
       "\n",
       "    .dataframe thead th {\n",
       "        text-align: right;\n",
       "    }\n",
       "</style>\n",
       "<table border=\"1\" class=\"dataframe\">\n",
       "  <thead>\n",
       "    <tr style=\"text-align: right;\">\n",
       "      <th></th>\n",
       "      <th>title</th>\n",
       "      <th>author</th>\n",
       "      <th>date</th>\n",
       "      <th>views</th>\n",
       "      <th>likes</th>\n",
       "      <th>link</th>\n",
       "    </tr>\n",
       "  </thead>\n",
       "  <tbody>\n",
       "    <tr>\n",
       "      <th>0</th>\n",
       "      <td>Climate action needs new frontline leadership</td>\n",
       "      <td>Ozawa Bineshi Albert</td>\n",
       "      <td>December 2021</td>\n",
       "      <td>404000</td>\n",
       "      <td>12000</td>\n",
       "      <td>https://ted.com/talks/ozawa_bineshi_albert_cli...</td>\n",
       "    </tr>\n",
       "    <tr>\n",
       "      <th>1</th>\n",
       "      <td>The dark history of the overthrow of Hawaii</td>\n",
       "      <td>Sydney Iaukea</td>\n",
       "      <td>February 2022</td>\n",
       "      <td>214000</td>\n",
       "      <td>6400</td>\n",
       "      <td>https://ted.com/talks/sydney_iaukea_the_dark_h...</td>\n",
       "    </tr>\n",
       "    <tr>\n",
       "      <th>2</th>\n",
       "      <td>How play can spark new ideas for your business</td>\n",
       "      <td>Martin Reeves</td>\n",
       "      <td>September 2021</td>\n",
       "      <td>412000</td>\n",
       "      <td>12000</td>\n",
       "      <td>https://ted.com/talks/martin_reeves_how_play_c...</td>\n",
       "    </tr>\n",
       "    <tr>\n",
       "      <th>3</th>\n",
       "      <td>Why is China appointing judges to combat clima...</td>\n",
       "      <td>James K. Thornton</td>\n",
       "      <td>October 2021</td>\n",
       "      <td>427000</td>\n",
       "      <td>12000</td>\n",
       "      <td>https://ted.com/talks/james_k_thornton_why_is_...</td>\n",
       "    </tr>\n",
       "    <tr>\n",
       "      <th>4</th>\n",
       "      <td>Cement's carbon problem — and 2 ways to fix it</td>\n",
       "      <td>Mahendra Singhi</td>\n",
       "      <td>October 2021</td>\n",
       "      <td>2400</td>\n",
       "      <td>72</td>\n",
       "      <td>https://ted.com/talks/mahendra_singhi_cement_s...</td>\n",
       "    </tr>\n",
       "    <tr>\n",
       "      <th>5</th>\n",
       "      <td>The tragedy of air pollution — and an urgent d...</td>\n",
       "      <td>Rosamund Adoo-Kissi-Debrah</td>\n",
       "      <td>October 2021</td>\n",
       "      <td>422000</td>\n",
       "      <td>12000</td>\n",
       "      <td>https://ted.com/talks/rosamund_adoo_kissi_debr...</td>\n",
       "    </tr>\n",
       "    <tr>\n",
       "      <th>6</th>\n",
       "      <td>The myth of Narcissus and Echo</td>\n",
       "      <td>Iseult Gillespie</td>\n",
       "      <td>February 2022</td>\n",
       "      <td>412000</td>\n",
       "      <td>12000</td>\n",
       "      <td>https://ted.com/talks/iseult_gillespie_the_myt...</td>\n",
       "    </tr>\n",
       "    <tr>\n",
       "      <th>7</th>\n",
       "      <td>You deserve the right to repair your stuff</td>\n",
       "      <td>Gay Gordon-Byrne</td>\n",
       "      <td>August 2021</td>\n",
       "      <td>455000</td>\n",
       "      <td>13000</td>\n",
       "      <td>https://ted.com/talks/gay_gordon_byrne_you_des...</td>\n",
       "    </tr>\n",
       "    <tr>\n",
       "      <th>8</th>\n",
       "      <td>What nature can teach us about sustainable bus...</td>\n",
       "      <td>Erin Meezan</td>\n",
       "      <td>February 2022</td>\n",
       "      <td>66000</td>\n",
       "      <td>1900</td>\n",
       "      <td>https://ted.com/talks/erin_meezan_what_nature_...</td>\n",
       "    </tr>\n",
       "    <tr>\n",
       "      <th>9</th>\n",
       "      <td>The origins of blackface and Black stereotypes</td>\n",
       "      <td>Dwan Reece</td>\n",
       "      <td>March 2019</td>\n",
       "      <td>584000</td>\n",
       "      <td>17000</td>\n",
       "      <td>https://ted.com/talks/dwan_reece_the_origins_o...</td>\n",
       "    </tr>\n",
       "  </tbody>\n",
       "</table>\n",
       "</div>"
      ],
      "text/plain": [
       "                                               title  \\\n",
       "0      Climate action needs new frontline leadership   \n",
       "1        The dark history of the overthrow of Hawaii   \n",
       "2     How play can spark new ideas for your business   \n",
       "3  Why is China appointing judges to combat clima...   \n",
       "4     Cement's carbon problem — and 2 ways to fix it   \n",
       "5  The tragedy of air pollution — and an urgent d...   \n",
       "6                     The myth of Narcissus and Echo   \n",
       "7         You deserve the right to repair your stuff   \n",
       "8  What nature can teach us about sustainable bus...   \n",
       "9     The origins of blackface and Black stereotypes   \n",
       "\n",
       "                       author            date   views  likes  \\\n",
       "0        Ozawa Bineshi Albert   December 2021  404000  12000   \n",
       "1               Sydney Iaukea   February 2022  214000   6400   \n",
       "2               Martin Reeves  September 2021  412000  12000   \n",
       "3           James K. Thornton    October 2021  427000  12000   \n",
       "4             Mahendra Singhi    October 2021    2400     72   \n",
       "5  Rosamund Adoo-Kissi-Debrah    October 2021  422000  12000   \n",
       "6            Iseult Gillespie   February 2022  412000  12000   \n",
       "7            Gay Gordon-Byrne     August 2021  455000  13000   \n",
       "8                 Erin Meezan   February 2022   66000   1900   \n",
       "9                  Dwan Reece      March 2019  584000  17000   \n",
       "\n",
       "                                                link  \n",
       "0  https://ted.com/talks/ozawa_bineshi_albert_cli...  \n",
       "1  https://ted.com/talks/sydney_iaukea_the_dark_h...  \n",
       "2  https://ted.com/talks/martin_reeves_how_play_c...  \n",
       "3  https://ted.com/talks/james_k_thornton_why_is_...  \n",
       "4  https://ted.com/talks/mahendra_singhi_cement_s...  \n",
       "5  https://ted.com/talks/rosamund_adoo_kissi_debr...  \n",
       "6  https://ted.com/talks/iseult_gillespie_the_myt...  \n",
       "7  https://ted.com/talks/gay_gordon_byrne_you_des...  \n",
       "8  https://ted.com/talks/erin_meezan_what_nature_...  \n",
       "9  https://ted.com/talks/dwan_reece_the_origins_o...  "
      ]
     },
     "execution_count": 4,
     "metadata": {},
     "output_type": "execute_result"
    }
   ],
   "source": [
    "df.head(10)"
   ]
  },
  {
   "cell_type": "code",
   "execution_count": 5,
   "id": "bf907745",
   "metadata": {
    "execution": {
     "iopub.execute_input": "2022-05-12T12:48:30.319785Z",
     "iopub.status.busy": "2022-05-12T12:48:30.319512Z",
     "iopub.status.idle": "2022-05-12T12:48:30.331146Z",
     "shell.execute_reply": "2022-05-12T12:48:30.330304Z"
    },
    "papermill": {
     "duration": 0.067708,
     "end_time": "2022-05-12T12:48:30.333010",
     "exception": false,
     "start_time": "2022-05-12T12:48:30.265302",
     "status": "completed"
    },
    "tags": []
   },
   "outputs": [
    {
     "data": {
      "text/plain": [
       "title     0\n",
       "author    1\n",
       "date      0\n",
       "views     0\n",
       "likes     0\n",
       "link      0\n",
       "dtype: int64"
      ]
     },
     "execution_count": 5,
     "metadata": {},
     "output_type": "execute_result"
    }
   ],
   "source": [
    "df.isnull().sum()\n"
   ]
  },
  {
   "cell_type": "code",
   "execution_count": 6,
   "id": "564e00cf",
   "metadata": {
    "execution": {
     "iopub.execute_input": "2022-05-12T12:48:30.441240Z",
     "iopub.status.busy": "2022-05-12T12:48:30.440296Z",
     "iopub.status.idle": "2022-05-12T12:48:30.453407Z",
     "shell.execute_reply": "2022-05-12T12:48:30.451985Z"
    },
    "papermill": {
     "duration": 0.070895,
     "end_time": "2022-05-12T12:48:30.456905",
     "exception": false,
     "start_time": "2022-05-12T12:48:30.386010",
     "status": "completed"
    },
    "tags": []
   },
   "outputs": [],
   "source": [
    "# processed dataset where we dont have null values using in built func\n",
    "df=df.dropna()"
   ]
  },
  {
   "cell_type": "code",
   "execution_count": 7,
   "id": "567b9317",
   "metadata": {
    "execution": {
     "iopub.execute_input": "2022-05-12T12:48:30.590589Z",
     "iopub.status.busy": "2022-05-12T12:48:30.589801Z",
     "iopub.status.idle": "2022-05-12T12:48:30.599514Z",
     "shell.execute_reply": "2022-05-12T12:48:30.598684Z"
    },
    "papermill": {
     "duration": 0.07766,
     "end_time": "2022-05-12T12:48:30.601674",
     "exception": false,
     "start_time": "2022-05-12T12:48:30.524014",
     "status": "completed"
    },
    "tags": []
   },
   "outputs": [
    {
     "data": {
      "text/plain": [
       "array([['Climate action needs new frontline leadership',\n",
       "        'Ozawa Bineshi Albert', 'December 2021', 404000, 12000,\n",
       "        'https://ted.com/talks/ozawa_bineshi_albert_climate_action_needs_new_frontline_leadership'],\n",
       "       ['The dark history of the overthrow of Hawaii', 'Sydney Iaukea',\n",
       "        'February 2022', 214000, 6400,\n",
       "        'https://ted.com/talks/sydney_iaukea_the_dark_history_of_the_overthrow_of_hawaii'],\n",
       "       ['How play can spark new ideas for your business',\n",
       "        'Martin Reeves', 'September 2021', 412000, 12000,\n",
       "        'https://ted.com/talks/martin_reeves_how_play_can_spark_new_ideas_for_your_business'],\n",
       "       ...,\n",
       "       ['Greening the ghetto', 'Majora Carter', 'February 2006', 2900000,\n",
       "        88000, 'https://ted.com/talks/majora_carter_greening_the_ghetto'],\n",
       "       ['Simplicity sells', 'David Pogue', 'February 2006', 2000000,\n",
       "        60000, 'https://ted.com/talks/david_pogue_simplicity_sells'],\n",
       "       ['Averting the climate crisis', 'Al Gore', 'February 2006',\n",
       "        3600000, 109000,\n",
       "        'https://ted.com/talks/al_gore_averting_the_climate_crisis']],\n",
       "      dtype=object)"
      ]
     },
     "execution_count": 7,
     "metadata": {},
     "output_type": "execute_result"
    }
   ],
   "source": [
    "df.values"
   ]
  },
  {
   "cell_type": "code",
   "execution_count": 8,
   "id": "a89d8af3",
   "metadata": {
    "execution": {
     "iopub.execute_input": "2022-05-12T12:48:30.733712Z",
     "iopub.status.busy": "2022-05-12T12:48:30.733428Z",
     "iopub.status.idle": "2022-05-12T12:48:30.740376Z",
     "shell.execute_reply": "2022-05-12T12:48:30.739732Z"
    },
    "papermill": {
     "duration": 0.074924,
     "end_time": "2022-05-12T12:48:30.744184",
     "exception": false,
     "start_time": "2022-05-12T12:48:30.669260",
     "status": "completed"
    },
    "tags": []
   },
   "outputs": [
    {
     "data": {
      "text/plain": [
       "5439"
      ]
     },
     "execution_count": 8,
     "metadata": {},
     "output_type": "execute_result"
    }
   ],
   "source": [
    "# shape is used to check how many rows and how many columns\n",
    "# df.values.shape()\n",
    "#list in python is called array in numpy (have same indexing slicing)and this is faster \n",
    "#as it is optimized to do multi processing\n",
    "len(df.values)"
   ]
  },
  {
   "cell_type": "code",
   "execution_count": 9,
   "id": "92fe69ae",
   "metadata": {
    "execution": {
     "iopub.execute_input": "2022-05-12T12:48:30.883507Z",
     "iopub.status.busy": "2022-05-12T12:48:30.882905Z",
     "iopub.status.idle": "2022-05-12T12:48:30.888636Z",
     "shell.execute_reply": "2022-05-12T12:48:30.887821Z"
    },
    "papermill": {
     "duration": 0.072148,
     "end_time": "2022-05-12T12:48:30.890972",
     "exception": false,
     "start_time": "2022-05-12T12:48:30.818824",
     "status": "completed"
    },
    "tags": []
   },
   "outputs": [],
   "source": [
    "data=df.values"
   ]
  },
  {
   "cell_type": "code",
   "execution_count": 10,
   "id": "a2f43df1",
   "metadata": {
    "execution": {
     "iopub.execute_input": "2022-05-12T12:48:31.001212Z",
     "iopub.status.busy": "2022-05-12T12:48:31.000620Z",
     "iopub.status.idle": "2022-05-12T12:48:31.006824Z",
     "shell.execute_reply": "2022-05-12T12:48:31.006036Z"
    },
    "papermill": {
     "duration": 0.063173,
     "end_time": "2022-05-12T12:48:31.008795",
     "exception": false,
     "start_time": "2022-05-12T12:48:30.945622",
     "status": "completed"
    },
    "tags": []
   },
   "outputs": [
    {
     "data": {
      "text/plain": [
       "array([['Climate action needs new frontline leadership',\n",
       "        'Ozawa Bineshi Albert', 'December 2021', 404000, 12000,\n",
       "        'https://ted.com/talks/ozawa_bineshi_albert_climate_action_needs_new_frontline_leadership'],\n",
       "       ['The dark history of the overthrow of Hawaii', 'Sydney Iaukea',\n",
       "        'February 2022', 214000, 6400,\n",
       "        'https://ted.com/talks/sydney_iaukea_the_dark_history_of_the_overthrow_of_hawaii'],\n",
       "       ['How play can spark new ideas for your business',\n",
       "        'Martin Reeves', 'September 2021', 412000, 12000,\n",
       "        'https://ted.com/talks/martin_reeves_how_play_can_spark_new_ideas_for_your_business'],\n",
       "       ...,\n",
       "       ['Greening the ghetto', 'Majora Carter', 'February 2006', 2900000,\n",
       "        88000, 'https://ted.com/talks/majora_carter_greening_the_ghetto'],\n",
       "       ['Simplicity sells', 'David Pogue', 'February 2006', 2000000,\n",
       "        60000, 'https://ted.com/talks/david_pogue_simplicity_sells'],\n",
       "       ['Averting the climate crisis', 'Al Gore', 'February 2006',\n",
       "        3600000, 109000,\n",
       "        'https://ted.com/talks/al_gore_averting_the_climate_crisis']],\n",
       "      dtype=object)"
      ]
     },
     "execution_count": 10,
     "metadata": {},
     "output_type": "execute_result"
    }
   ],
   "source": [
    "data"
   ]
  },
  {
   "cell_type": "code",
   "execution_count": 11,
   "id": "41d4bb75",
   "metadata": {
    "execution": {
     "iopub.execute_input": "2022-05-12T12:48:31.124230Z",
     "iopub.status.busy": "2022-05-12T12:48:31.123615Z",
     "iopub.status.idle": "2022-05-12T12:48:31.130004Z",
     "shell.execute_reply": "2022-05-12T12:48:31.128952Z"
    },
    "papermill": {
     "duration": 0.066836,
     "end_time": "2022-05-12T12:48:31.132148",
     "exception": false,
     "start_time": "2022-05-12T12:48:31.065312",
     "status": "completed"
    },
    "tags": []
   },
   "outputs": [
    {
     "data": {
      "text/plain": [
       "array(['Climate action needs new frontline leadership',\n",
       "       'Ozawa Bineshi Albert', 'December 2021', 404000, 12000,\n",
       "       'https://ted.com/talks/ozawa_bineshi_albert_climate_action_needs_new_frontline_leadership'],\n",
       "      dtype=object)"
      ]
     },
     "execution_count": 11,
     "metadata": {},
     "output_type": "execute_result"
    }
   ],
   "source": [
    "data[0]"
   ]
  },
  {
   "cell_type": "code",
   "execution_count": 12,
   "id": "6696bc5c",
   "metadata": {
    "execution": {
     "iopub.execute_input": "2022-05-12T12:48:31.251113Z",
     "iopub.status.busy": "2022-05-12T12:48:31.249596Z",
     "iopub.status.idle": "2022-05-12T12:48:31.257991Z",
     "shell.execute_reply": "2022-05-12T12:48:31.257423Z"
    },
    "papermill": {
     "duration": 0.06996,
     "end_time": "2022-05-12T12:48:31.259992",
     "exception": false,
     "start_time": "2022-05-12T12:48:31.190032",
     "status": "completed"
    },
    "tags": []
   },
   "outputs": [
    {
     "data": {
      "text/plain": [
       "array(['The dark history of the overthrow of Hawaii', 'Sydney Iaukea',\n",
       "       'February 2022', 214000, 6400,\n",
       "       'https://ted.com/talks/sydney_iaukea_the_dark_history_of_the_overthrow_of_hawaii'],\n",
       "      dtype=object)"
      ]
     },
     "execution_count": 12,
     "metadata": {},
     "output_type": "execute_result"
    }
   ],
   "source": [
    "data[1]"
   ]
  },
  {
   "cell_type": "code",
   "execution_count": 13,
   "id": "50f9667c",
   "metadata": {
    "execution": {
     "iopub.execute_input": "2022-05-12T12:48:31.374699Z",
     "iopub.status.busy": "2022-05-12T12:48:31.374090Z",
     "iopub.status.idle": "2022-05-12T12:48:31.380300Z",
     "shell.execute_reply": "2022-05-12T12:48:31.379477Z"
    },
    "papermill": {
     "duration": 0.066529,
     "end_time": "2022-05-12T12:48:31.382616",
     "exception": false,
     "start_time": "2022-05-12T12:48:31.316087",
     "status": "completed"
    },
    "tags": []
   },
   "outputs": [
    {
     "data": {
      "text/plain": [
       "'Climate action needs new frontline leadership'"
      ]
     },
     "execution_count": 13,
     "metadata": {},
     "output_type": "execute_result"
    }
   ],
   "source": [
    "data[0][0]"
   ]
  },
  {
   "cell_type": "code",
   "execution_count": 14,
   "id": "4d6c4b9e",
   "metadata": {
    "execution": {
     "iopub.execute_input": "2022-05-12T12:48:31.495836Z",
     "iopub.status.busy": "2022-05-12T12:48:31.495265Z",
     "iopub.status.idle": "2022-05-12T12:48:31.501614Z",
     "shell.execute_reply": "2022-05-12T12:48:31.500668Z"
    },
    "papermill": {
     "duration": 0.065818,
     "end_time": "2022-05-12T12:48:31.503986",
     "exception": false,
     "start_time": "2022-05-12T12:48:31.438168",
     "status": "completed"
    },
    "tags": []
   },
   "outputs": [
    {
     "data": {
      "text/plain": [
       "'Sydney Iaukea'"
      ]
     },
     "execution_count": 14,
     "metadata": {},
     "output_type": "execute_result"
    }
   ],
   "source": [
    "data[1][1]"
   ]
  },
  {
   "cell_type": "code",
   "execution_count": 15,
   "id": "9a08061d",
   "metadata": {
    "execution": {
     "iopub.execute_input": "2022-05-12T12:48:31.621899Z",
     "iopub.status.busy": "2022-05-12T12:48:31.621443Z",
     "iopub.status.idle": "2022-05-12T12:48:31.631789Z",
     "shell.execute_reply": "2022-05-12T12:48:31.630756Z"
    },
    "papermill": {
     "duration": 0.07103,
     "end_time": "2022-05-12T12:48:31.634099",
     "exception": false,
     "start_time": "2022-05-12T12:48:31.563069",
     "status": "completed"
    },
    "tags": []
   },
   "outputs": [
    {
     "data": {
      "text/plain": [
       "5439"
      ]
     },
     "execution_count": 15,
     "metadata": {},
     "output_type": "execute_result"
    }
   ],
   "source": [
    "author=[]\n",
    "for i in range(len(data)):\n",
    "#     print(data[i][1])\n",
    "    author.append(data[i][1])\n",
    "#author\n",
    "len(author)#number of ted talks "
   ]
  },
  {
   "cell_type": "markdown",
   "id": "2964b86f",
   "metadata": {
    "papermill": {
     "duration": 0.056326,
     "end_time": "2022-05-12T12:48:31.746859",
     "exception": false,
     "start_time": "2022-05-12T12:48:31.690533",
     "status": "completed"
    },
    "tags": []
   },
   "source": [
    "# Total Number of Authors"
   ]
  },
  {
   "cell_type": "code",
   "execution_count": 16,
   "id": "29aa659e",
   "metadata": {
    "execution": {
     "iopub.execute_input": "2022-05-12T12:48:31.863215Z",
     "iopub.status.busy": "2022-05-12T12:48:31.862381Z",
     "iopub.status.idle": "2022-05-12T12:48:31.872976Z",
     "shell.execute_reply": "2022-05-12T12:48:31.871935Z"
    },
    "papermill": {
     "duration": 0.070843,
     "end_time": "2022-05-12T12:48:31.875050",
     "exception": false,
     "start_time": "2022-05-12T12:48:31.804207",
     "status": "completed"
    },
    "tags": []
   },
   "outputs": [
    {
     "data": {
      "text/plain": [
       "4443"
      ]
     },
     "execution_count": 16,
     "metadata": {},
     "output_type": "execute_result"
    }
   ],
   "source": [
    "author=set()\n",
    "for i in range(len(data)):\n",
    "#     print(data[i][1])\n",
    "    author.add(data[i][1])\n",
    "#author\n",
    "len(author)#number of authors"
   ]
  },
  {
   "cell_type": "markdown",
   "id": "6aae292d",
   "metadata": {
    "papermill": {
     "duration": 0.056074,
     "end_time": "2022-05-12T12:48:31.987358",
     "exception": false,
     "start_time": "2022-05-12T12:48:31.931284",
     "status": "completed"
    },
    "tags": []
   },
   "source": [
    "# Ted Talks of Bill Gates"
   ]
  },
  {
   "cell_type": "code",
   "execution_count": 17,
   "id": "d69f66ce",
   "metadata": {
    "execution": {
     "iopub.execute_input": "2022-05-12T12:48:32.104783Z",
     "iopub.status.busy": "2022-05-12T12:48:32.104462Z",
     "iopub.status.idle": "2022-05-12T12:48:32.114908Z",
     "shell.execute_reply": "2022-05-12T12:48:32.114211Z"
    },
    "papermill": {
     "duration": 0.071764,
     "end_time": "2022-05-12T12:48:32.117118",
     "exception": false,
     "start_time": "2022-05-12T12:48:32.045354",
     "status": "completed"
    },
    "tags": []
   },
   "outputs": [
    {
     "name": "stdout",
     "output_type": "stream",
     "text": [
      "['The innovations we need to avoid a climate disaster' 'Bill Gates'\n",
      " 'March 2021' 1700000 53000\n",
      " 'https://ted.com/talks/bill_gates_the_innovations_we_need_to_avoid_a_climate_disaster']\n",
      "['How the pandemic will shape the near future' 'Bill Gates' 'June 2020'\n",
      " 4600000 138000\n",
      " 'https://ted.com/talks/bill_gates_how_the_pandemic_will_shape_the_near_future']\n",
      "['How we must respond to the coronavirus pandemic' 'Bill Gates'\n",
      " 'March 2020' 8600000 259000\n",
      " 'https://ted.com/talks/bill_gates_how_we_must_respond_to_the_coronavirus_pandemic']\n",
      "[\"The next outbreak? We're not ready\" 'Bill Gates' 'March 2015' 43000000\n",
      " 1300000\n",
      " 'https://ted.com/talks/bill_gates_the_next_outbreak_we_re_not_ready']\n",
      "['Teachers need real feedback' 'Bill Gates' 'May 2013' 4500000 135000\n",
      " 'https://ted.com/talks/bill_gates_teachers_need_real_feedback']\n",
      "['How state budgets are breaking US schools' 'Bill Gates' 'March 2011'\n",
      " 2100000 63000\n",
      " 'https://ted.com/talks/bill_gates_how_state_budgets_are_breaking_us_schools']\n",
      "['Innovating to zero!' 'Bill Gates' 'February 2010' 8100000 245000\n",
      " 'https://ted.com/talks/bill_gates_innovating_to_zero']\n",
      "['Mosquitos, malaria and education' 'Bill Gates' 'February 2009' 5200000\n",
      " 156000 'https://ted.com/talks/bill_gates_mosquitos_malaria_and_education']\n"
     ]
    }
   ],
   "source": [
    "c=0\n",
    "s=0\n",
    "for i in range(len(data)):\n",
    "    if(data[i][1]==\"Bill Gates\"):\n",
    "        print(data[i])\n",
    "        "
   ]
  },
  {
   "cell_type": "markdown",
   "id": "2222839c",
   "metadata": {
    "papermill": {
     "duration": 0.056273,
     "end_time": "2022-05-12T12:48:32.232475",
     "exception": false,
     "start_time": "2022-05-12T12:48:32.176202",
     "status": "completed"
    },
    "tags": []
   },
   "source": [
    "# Average Number of Views Of Bill Gates' Ted Talks"
   ]
  },
  {
   "cell_type": "code",
   "execution_count": 18,
   "id": "7bebd8c4",
   "metadata": {
    "execution": {
     "iopub.execute_input": "2022-05-12T12:48:32.351413Z",
     "iopub.status.busy": "2022-05-12T12:48:32.350712Z",
     "iopub.status.idle": "2022-05-12T12:48:32.360060Z",
     "shell.execute_reply": "2022-05-12T12:48:32.358963Z"
    },
    "papermill": {
     "duration": 0.070549,
     "end_time": "2022-05-12T12:48:32.362326",
     "exception": false,
     "start_time": "2022-05-12T12:48:32.291777",
     "status": "completed"
    },
    "tags": []
   },
   "outputs": [
    {
     "name": "stdout",
     "output_type": "stream",
     "text": [
      "9725000.0\n"
     ]
    }
   ],
   "source": [
    "#M1\n",
    "c=0\n",
    "s=0\n",
    "for i in range(len(data)):\n",
    "    if(data[i][1]==\"Bill Gates\"):\n",
    "        s=s+data[i][3]\n",
    "        c=c+1\n",
    "        \n",
    "print(s/c)"
   ]
  },
  {
   "cell_type": "code",
   "execution_count": 19,
   "id": "391ec08e",
   "metadata": {
    "execution": {
     "iopub.execute_input": "2022-05-12T12:48:32.479188Z",
     "iopub.status.busy": "2022-05-12T12:48:32.478352Z",
     "iopub.status.idle": "2022-05-12T12:48:32.488208Z",
     "shell.execute_reply": "2022-05-12T12:48:32.486701Z"
    },
    "papermill": {
     "duration": 0.070952,
     "end_time": "2022-05-12T12:48:32.490796",
     "exception": false,
     "start_time": "2022-05-12T12:48:32.419844",
     "status": "completed"
    },
    "tags": []
   },
   "outputs": [
    {
     "name": "stdout",
     "output_type": "stream",
     "text": [
      "9725000.0\n"
     ]
    }
   ],
   "source": [
    "#M2\n",
    "billgates=[]\n",
    "for i in range(len(data)):\n",
    "    if(data[i][1]==\"Bill Gates\"):\n",
    "        billgates.append(data[i][3])\n",
    "        \n",
    "print(sum(billgates)/len(billgates))"
   ]
  },
  {
   "cell_type": "markdown",
   "id": "5fade93b",
   "metadata": {
    "papermill": {
     "duration": 0.057477,
     "end_time": "2022-05-12T12:48:32.605905",
     "exception": false,
     "start_time": "2022-05-12T12:48:32.548428",
     "status": "completed"
    },
    "tags": []
   },
   "source": [
    "# The author with min views"
   ]
  },
  {
   "cell_type": "code",
   "execution_count": 20,
   "id": "88015566",
   "metadata": {
    "execution": {
     "iopub.execute_input": "2022-05-12T12:48:32.724463Z",
     "iopub.status.busy": "2022-05-12T12:48:32.724182Z",
     "iopub.status.idle": "2022-05-12T12:48:32.740298Z",
     "shell.execute_reply": "2022-05-12T12:48:32.739253Z"
    },
    "papermill": {
     "duration": 0.077846,
     "end_time": "2022-05-12T12:48:32.742629",
     "exception": false,
     "start_time": "2022-05-12T12:48:32.664783",
     "status": "completed"
    },
    "tags": []
   },
   "outputs": [
    {
     "name": "stdout",
     "output_type": "stream",
     "text": [
      "Far Flung 1200\n"
     ]
    }
   ],
   "source": [
    "author=[]\n",
    "for i in range(len(data)):\n",
    "    pair=(data[i][3],data[i][1])\n",
    "    author.append(pair)\n",
    "author.sort()\n",
    "print(author[0][1],author[0][0])\n"
   ]
  },
  {
   "cell_type": "markdown",
   "id": "d1c528cf",
   "metadata": {
    "papermill": {
     "duration": 0.057595,
     "end_time": "2022-05-12T12:48:32.859437",
     "exception": false,
     "start_time": "2022-05-12T12:48:32.801842",
     "status": "completed"
    },
    "tags": []
   },
   "source": [
    "# The author with min views"
   ]
  },
  {
   "cell_type": "code",
   "execution_count": 21,
   "id": "67ddfdc9",
   "metadata": {
    "execution": {
     "iopub.execute_input": "2022-05-12T12:48:32.978132Z",
     "iopub.status.busy": "2022-05-12T12:48:32.977331Z",
     "iopub.status.idle": "2022-05-12T12:48:33.096588Z",
     "shell.execute_reply": "2022-05-12T12:48:33.095716Z"
    },
    "papermill": {
     "duration": 0.181122,
     "end_time": "2022-05-12T12:48:33.098907",
     "exception": false,
     "start_time": "2022-05-12T12:48:32.917785",
     "status": "completed"
    },
    "tags": []
   },
   "outputs": [
    {
     "name": "stdout",
     "output_type": "stream",
     "text": [
      "Sir Ken Robinson 72000000\n"
     ]
    }
   ],
   "source": [
    "author=[]\n",
    "for i in range(len(data)):\n",
    "    pair=(data[i][3],data[i][1])\n",
    "    author.append(pair)\n",
    "author.sort()\n",
    "print(author[5438][1],author[5438][0])\n"
   ]
  },
  {
   "cell_type": "code",
   "execution_count": 22,
   "id": "1194bf6d",
   "metadata": {
    "execution": {
     "iopub.execute_input": "2022-05-12T12:48:33.219393Z",
     "iopub.status.busy": "2022-05-12T12:48:33.219119Z",
     "iopub.status.idle": "2022-05-12T12:48:33.223027Z",
     "shell.execute_reply": "2022-05-12T12:48:33.222264Z"
    },
    "papermill": {
     "duration": 0.067426,
     "end_time": "2022-05-12T12:48:33.225276",
     "exception": false,
     "start_time": "2022-05-12T12:48:33.157850",
     "status": "completed"
    },
    "tags": []
   },
   "outputs": [],
   "source": [
    "# author=[]\n",
    "# for i in range(len(data)):\n",
    "#     pair=[data[i][3],data[i][1]]\n",
    "#     flag=False\n",
    "#     for j in range(len(author)):\n",
    "#         if(pair[1] == author[j][1]):\n",
    "# #             author[j][0]=author[j][0]+pair[0]\n",
    "# # https://www.geeksforgeeks.org/how-to-replace-values-in-a-list-in-python/#:~:text=We%20can%20replace%20values%20inside,new%20value%20using%20list%20slicing.\n",
    "#             newvalue=[]\n",
    "#             newvalue.append(author[j][0]+pair[0])\n",
    "#             author=author[:j]+newvalue+author[j+1:]\n",
    "#             flag=True\n",
    "#     if(flag==False):\n",
    "#         author.append(pair)\n",
    "# author.sort()\n",
    "# print(author[0][1])"
   ]
  },
  {
   "cell_type": "markdown",
   "id": "1785b512",
   "metadata": {
    "papermill": {
     "duration": 0.058842,
     "end_time": "2022-05-12T12:48:33.344375",
     "exception": false,
     "start_time": "2022-05-12T12:48:33.285533",
     "status": "completed"
    },
    "tags": []
   },
   "source": [
    "# Average View per video of Ted Talk"
   ]
  },
  {
   "cell_type": "code",
   "execution_count": 23,
   "id": "fe7cc49a",
   "metadata": {
    "execution": {
     "iopub.execute_input": "2022-05-12T12:48:33.465663Z",
     "iopub.status.busy": "2022-05-12T12:48:33.465381Z",
     "iopub.status.idle": "2022-05-12T12:48:33.475423Z",
     "shell.execute_reply": "2022-05-12T12:48:33.474801Z"
    },
    "papermill": {
     "duration": 0.071735,
     "end_time": "2022-05-12T12:48:33.477241",
     "exception": false,
     "start_time": "2022-05-12T12:48:33.405506",
     "status": "completed"
    },
    "tags": []
   },
   "outputs": [
    {
     "data": {
      "text/plain": [
       "2061954"
      ]
     },
     "execution_count": 23,
     "metadata": {},
     "output_type": "execute_result"
    }
   ],
   "source": [
    "view=[]\n",
    "for i in range(len(data)):\n",
    "    view.append(data[i][3])\n",
    "    \n",
    "int(sum(view)/len(view))\n"
   ]
  },
  {
   "cell_type": "markdown",
   "id": "5d375198",
   "metadata": {
    "papermill": {
     "duration": 0.057721,
     "end_time": "2022-05-12T12:48:33.593183",
     "exception": false,
     "start_time": "2022-05-12T12:48:33.535462",
     "status": "completed"
    },
    "tags": []
   },
   "source": [
    "# Average View per video of Ted Talk of Bill Gates"
   ]
  },
  {
   "cell_type": "code",
   "execution_count": 24,
   "id": "98675b4b",
   "metadata": {
    "execution": {
     "iopub.execute_input": "2022-05-12T12:48:33.713599Z",
     "iopub.status.busy": "2022-05-12T12:48:33.713185Z",
     "iopub.status.idle": "2022-05-12T12:48:33.722505Z",
     "shell.execute_reply": "2022-05-12T12:48:33.721863Z"
    },
    "papermill": {
     "duration": 0.071673,
     "end_time": "2022-05-12T12:48:33.724424",
     "exception": false,
     "start_time": "2022-05-12T12:48:33.652751",
     "status": "completed"
    },
    "tags": []
   },
   "outputs": [
    {
     "data": {
      "text/plain": [
       "9725000"
      ]
     },
     "execution_count": 24,
     "metadata": {},
     "output_type": "execute_result"
    }
   ],
   "source": [
    "view=[]\n",
    "for i in range(len(data)):\n",
    "    if(data[i][1]==\"Bill Gates\"):\n",
    "        view.append(data[i][3])\n",
    "    \n",
    "int(sum(view)/len(view))\n"
   ]
  },
  {
   "cell_type": "markdown",
   "id": "300add5f",
   "metadata": {
    "papermill": {
     "duration": 0.061044,
     "end_time": "2022-05-12T12:48:33.845373",
     "exception": false,
     "start_time": "2022-05-12T12:48:33.784329",
     "status": "completed"
    },
    "tags": []
   },
   "source": [
    "# Most Popular Ted Talk : like/view ratio"
   ]
  },
  {
   "cell_type": "code",
   "execution_count": 25,
   "id": "9c2ae53e",
   "metadata": {
    "execution": {
     "iopub.execute_input": "2022-05-12T12:48:33.964564Z",
     "iopub.status.busy": "2022-05-12T12:48:33.964048Z",
     "iopub.status.idle": "2022-05-12T12:48:33.976518Z",
     "shell.execute_reply": "2022-05-12T12:48:33.975387Z"
    },
    "papermill": {
     "duration": 0.074872,
     "end_time": "2022-05-12T12:48:33.978731",
     "exception": false,
     "start_time": "2022-05-12T12:48:33.903859",
     "status": "completed"
    },
    "tags": []
   },
   "outputs": [
    {
     "name": "stdout",
     "output_type": "stream",
     "text": [
      "36 30\n"
     ]
    }
   ],
   "source": [
    "vtol=[]\n",
    "for i in range(len(data)):\n",
    "#     print(data[i][3],data[i][4],data[i][3]/data[i][4])\n",
    "    vtol.append(int(data[i][3]/data[i][4]))\n",
    "\n",
    "# min(vtol)\n",
    "# max(vtol) #last value will be printed without print\n",
    "print(max(vtol),min(vtol))"
   ]
  },
  {
   "cell_type": "code",
   "execution_count": 26,
   "id": "5a88b556",
   "metadata": {
    "execution": {
     "iopub.execute_input": "2022-05-12T12:48:34.102287Z",
     "iopub.status.busy": "2022-05-12T12:48:34.100985Z",
     "iopub.status.idle": "2022-05-12T12:48:34.112827Z",
     "shell.execute_reply": "2022-05-12T12:48:34.112094Z"
    },
    "papermill": {
     "duration": 0.076023,
     "end_time": "2022-05-12T12:48:34.115403",
     "exception": false,
     "start_time": "2022-05-12T12:48:34.039380",
     "status": "completed"
    },
    "tags": []
   },
   "outputs": [
    {
     "name": "stderr",
     "output_type": "stream",
     "text": [
      "/opt/conda/lib/python3.7/site-packages/ipykernel_launcher.py:1: SettingWithCopyWarning: \n",
      "A value is trying to be set on a copy of a slice from a DataFrame.\n",
      "Try using .loc[row_indexer,col_indexer] = value instead\n",
      "\n",
      "See the caveats in the documentation: https://pandas.pydata.org/pandas-docs/stable/user_guide/indexing.html#returning-a-view-versus-a-copy\n",
      "  \"\"\"Entry point for launching an IPython kernel.\n"
     ]
    }
   ],
   "source": [
    "df['View To Like Ratio']=vtol"
   ]
  },
  {
   "cell_type": "code",
   "execution_count": 27,
   "id": "a06e6bee",
   "metadata": {
    "execution": {
     "iopub.execute_input": "2022-05-12T12:48:34.238147Z",
     "iopub.status.busy": "2022-05-12T12:48:34.237188Z",
     "iopub.status.idle": "2022-05-12T12:48:34.254030Z",
     "shell.execute_reply": "2022-05-12T12:48:34.253175Z"
    },
    "papermill": {
     "duration": 0.079968,
     "end_time": "2022-05-12T12:48:34.256201",
     "exception": false,
     "start_time": "2022-05-12T12:48:34.176233",
     "status": "completed"
    },
    "tags": []
   },
   "outputs": [
    {
     "data": {
      "text/html": [
       "<div>\n",
       "<style scoped>\n",
       "    .dataframe tbody tr th:only-of-type {\n",
       "        vertical-align: middle;\n",
       "    }\n",
       "\n",
       "    .dataframe tbody tr th {\n",
       "        vertical-align: top;\n",
       "    }\n",
       "\n",
       "    .dataframe thead th {\n",
       "        text-align: right;\n",
       "    }\n",
       "</style>\n",
       "<table border=\"1\" class=\"dataframe\">\n",
       "  <thead>\n",
       "    <tr style=\"text-align: right;\">\n",
       "      <th></th>\n",
       "      <th>title</th>\n",
       "      <th>author</th>\n",
       "      <th>date</th>\n",
       "      <th>views</th>\n",
       "      <th>likes</th>\n",
       "      <th>link</th>\n",
       "      <th>View To Like Ratio</th>\n",
       "    </tr>\n",
       "  </thead>\n",
       "  <tbody>\n",
       "    <tr>\n",
       "      <th>0</th>\n",
       "      <td>Climate action needs new frontline leadership</td>\n",
       "      <td>Ozawa Bineshi Albert</td>\n",
       "      <td>December 2021</td>\n",
       "      <td>404000</td>\n",
       "      <td>12000</td>\n",
       "      <td>https://ted.com/talks/ozawa_bineshi_albert_cli...</td>\n",
       "      <td>33</td>\n",
       "    </tr>\n",
       "    <tr>\n",
       "      <th>1</th>\n",
       "      <td>The dark history of the overthrow of Hawaii</td>\n",
       "      <td>Sydney Iaukea</td>\n",
       "      <td>February 2022</td>\n",
       "      <td>214000</td>\n",
       "      <td>6400</td>\n",
       "      <td>https://ted.com/talks/sydney_iaukea_the_dark_h...</td>\n",
       "      <td>33</td>\n",
       "    </tr>\n",
       "    <tr>\n",
       "      <th>2</th>\n",
       "      <td>How play can spark new ideas for your business</td>\n",
       "      <td>Martin Reeves</td>\n",
       "      <td>September 2021</td>\n",
       "      <td>412000</td>\n",
       "      <td>12000</td>\n",
       "      <td>https://ted.com/talks/martin_reeves_how_play_c...</td>\n",
       "      <td>34</td>\n",
       "    </tr>\n",
       "    <tr>\n",
       "      <th>3</th>\n",
       "      <td>Why is China appointing judges to combat clima...</td>\n",
       "      <td>James K. Thornton</td>\n",
       "      <td>October 2021</td>\n",
       "      <td>427000</td>\n",
       "      <td>12000</td>\n",
       "      <td>https://ted.com/talks/james_k_thornton_why_is_...</td>\n",
       "      <td>35</td>\n",
       "    </tr>\n",
       "    <tr>\n",
       "      <th>4</th>\n",
       "      <td>Cement's carbon problem — and 2 ways to fix it</td>\n",
       "      <td>Mahendra Singhi</td>\n",
       "      <td>October 2021</td>\n",
       "      <td>2400</td>\n",
       "      <td>72</td>\n",
       "      <td>https://ted.com/talks/mahendra_singhi_cement_s...</td>\n",
       "      <td>33</td>\n",
       "    </tr>\n",
       "    <tr>\n",
       "      <th>...</th>\n",
       "      <td>...</td>\n",
       "      <td>...</td>\n",
       "      <td>...</td>\n",
       "      <td>...</td>\n",
       "      <td>...</td>\n",
       "      <td>...</td>\n",
       "      <td>...</td>\n",
       "    </tr>\n",
       "    <tr>\n",
       "      <th>5435</th>\n",
       "      <td>The best stats you've ever seen</td>\n",
       "      <td>Hans Rosling</td>\n",
       "      <td>February 2006</td>\n",
       "      <td>15000000</td>\n",
       "      <td>458000</td>\n",
       "      <td>https://ted.com/talks/hans_rosling_the_best_st...</td>\n",
       "      <td>32</td>\n",
       "    </tr>\n",
       "    <tr>\n",
       "      <th>5436</th>\n",
       "      <td>Do schools kill creativity?</td>\n",
       "      <td>Sir Ken Robinson</td>\n",
       "      <td>February 2006</td>\n",
       "      <td>72000000</td>\n",
       "      <td>2100000</td>\n",
       "      <td>https://ted.com/talks/sir_ken_robinson_do_scho...</td>\n",
       "      <td>34</td>\n",
       "    </tr>\n",
       "    <tr>\n",
       "      <th>5437</th>\n",
       "      <td>Greening the ghetto</td>\n",
       "      <td>Majora Carter</td>\n",
       "      <td>February 2006</td>\n",
       "      <td>2900000</td>\n",
       "      <td>88000</td>\n",
       "      <td>https://ted.com/talks/majora_carter_greening_t...</td>\n",
       "      <td>32</td>\n",
       "    </tr>\n",
       "    <tr>\n",
       "      <th>5438</th>\n",
       "      <td>Simplicity sells</td>\n",
       "      <td>David Pogue</td>\n",
       "      <td>February 2006</td>\n",
       "      <td>2000000</td>\n",
       "      <td>60000</td>\n",
       "      <td>https://ted.com/talks/david_pogue_simplicity_s...</td>\n",
       "      <td>33</td>\n",
       "    </tr>\n",
       "    <tr>\n",
       "      <th>5439</th>\n",
       "      <td>Averting the climate crisis</td>\n",
       "      <td>Al Gore</td>\n",
       "      <td>February 2006</td>\n",
       "      <td>3600000</td>\n",
       "      <td>109000</td>\n",
       "      <td>https://ted.com/talks/al_gore_averting_the_cli...</td>\n",
       "      <td>33</td>\n",
       "    </tr>\n",
       "  </tbody>\n",
       "</table>\n",
       "<p>5439 rows × 7 columns</p>\n",
       "</div>"
      ],
      "text/plain": [
       "                                                  title                author  \\\n",
       "0         Climate action needs new frontline leadership  Ozawa Bineshi Albert   \n",
       "1           The dark history of the overthrow of Hawaii         Sydney Iaukea   \n",
       "2        How play can spark new ideas for your business         Martin Reeves   \n",
       "3     Why is China appointing judges to combat clima...     James K. Thornton   \n",
       "4        Cement's carbon problem — and 2 ways to fix it       Mahendra Singhi   \n",
       "...                                                 ...                   ...   \n",
       "5435                    The best stats you've ever seen          Hans Rosling   \n",
       "5436                        Do schools kill creativity?      Sir Ken Robinson   \n",
       "5437                                Greening the ghetto         Majora Carter   \n",
       "5438                                   Simplicity sells           David Pogue   \n",
       "5439                        Averting the climate crisis               Al Gore   \n",
       "\n",
       "                date     views    likes  \\\n",
       "0      December 2021    404000    12000   \n",
       "1      February 2022    214000     6400   \n",
       "2     September 2021    412000    12000   \n",
       "3       October 2021    427000    12000   \n",
       "4       October 2021      2400       72   \n",
       "...              ...       ...      ...   \n",
       "5435   February 2006  15000000   458000   \n",
       "5436   February 2006  72000000  2100000   \n",
       "5437   February 2006   2900000    88000   \n",
       "5438   February 2006   2000000    60000   \n",
       "5439   February 2006   3600000   109000   \n",
       "\n",
       "                                                   link  View To Like Ratio  \n",
       "0     https://ted.com/talks/ozawa_bineshi_albert_cli...                  33  \n",
       "1     https://ted.com/talks/sydney_iaukea_the_dark_h...                  33  \n",
       "2     https://ted.com/talks/martin_reeves_how_play_c...                  34  \n",
       "3     https://ted.com/talks/james_k_thornton_why_is_...                  35  \n",
       "4     https://ted.com/talks/mahendra_singhi_cement_s...                  33  \n",
       "...                                                 ...                 ...  \n",
       "5435  https://ted.com/talks/hans_rosling_the_best_st...                  32  \n",
       "5436  https://ted.com/talks/sir_ken_robinson_do_scho...                  34  \n",
       "5437  https://ted.com/talks/majora_carter_greening_t...                  32  \n",
       "5438  https://ted.com/talks/david_pogue_simplicity_s...                  33  \n",
       "5439  https://ted.com/talks/al_gore_averting_the_cli...                  33  \n",
       "\n",
       "[5439 rows x 7 columns]"
      ]
     },
     "execution_count": 27,
     "metadata": {},
     "output_type": "execute_result"
    }
   ],
   "source": [
    "df"
   ]
  },
  {
   "cell_type": "code",
   "execution_count": 28,
   "id": "e1080b80",
   "metadata": {
    "execution": {
     "iopub.execute_input": "2022-05-12T12:48:34.381729Z",
     "iopub.status.busy": "2022-05-12T12:48:34.380924Z",
     "iopub.status.idle": "2022-05-12T12:48:34.384530Z",
     "shell.execute_reply": "2022-05-12T12:48:34.383935Z"
    },
    "papermill": {
     "duration": 0.066944,
     "end_time": "2022-05-12T12:48:34.386370",
     "exception": false,
     "start_time": "2022-05-12T12:48:34.319426",
     "status": "completed"
    },
    "tags": []
   },
   "outputs": [],
   "source": [
    "# del df['view_to_like_ratio']"
   ]
  },
  {
   "cell_type": "code",
   "execution_count": 29,
   "id": "0c3f1617",
   "metadata": {
    "execution": {
     "iopub.execute_input": "2022-05-12T12:48:34.508688Z",
     "iopub.status.busy": "2022-05-12T12:48:34.508260Z",
     "iopub.status.idle": "2022-05-12T12:48:34.523431Z",
     "shell.execute_reply": "2022-05-12T12:48:34.522748Z"
    },
    "papermill": {
     "duration": 0.078831,
     "end_time": "2022-05-12T12:48:34.525288",
     "exception": false,
     "start_time": "2022-05-12T12:48:34.446457",
     "status": "completed"
    },
    "tags": []
   },
   "outputs": [
    {
     "data": {
      "text/html": [
       "<div>\n",
       "<style scoped>\n",
       "    .dataframe tbody tr th:only-of-type {\n",
       "        vertical-align: middle;\n",
       "    }\n",
       "\n",
       "    .dataframe tbody tr th {\n",
       "        vertical-align: top;\n",
       "    }\n",
       "\n",
       "    .dataframe thead th {\n",
       "        text-align: right;\n",
       "    }\n",
       "</style>\n",
       "<table border=\"1\" class=\"dataframe\">\n",
       "  <thead>\n",
       "    <tr style=\"text-align: right;\">\n",
       "      <th></th>\n",
       "      <th>title</th>\n",
       "      <th>author</th>\n",
       "      <th>date</th>\n",
       "      <th>views</th>\n",
       "      <th>likes</th>\n",
       "      <th>link</th>\n",
       "      <th>View To Like Ratio</th>\n",
       "    </tr>\n",
       "  </thead>\n",
       "  <tbody>\n",
       "    <tr>\n",
       "      <th>0</th>\n",
       "      <td>Climate action needs new frontline leadership</td>\n",
       "      <td>Ozawa Bineshi Albert</td>\n",
       "      <td>December 2021</td>\n",
       "      <td>404000</td>\n",
       "      <td>12000</td>\n",
       "      <td>https://ted.com/talks/ozawa_bineshi_albert_cli...</td>\n",
       "      <td>33</td>\n",
       "    </tr>\n",
       "    <tr>\n",
       "      <th>1</th>\n",
       "      <td>The dark history of the overthrow of Hawaii</td>\n",
       "      <td>Sydney Iaukea</td>\n",
       "      <td>February 2022</td>\n",
       "      <td>214000</td>\n",
       "      <td>6400</td>\n",
       "      <td>https://ted.com/talks/sydney_iaukea_the_dark_h...</td>\n",
       "      <td>33</td>\n",
       "    </tr>\n",
       "    <tr>\n",
       "      <th>2</th>\n",
       "      <td>How play can spark new ideas for your business</td>\n",
       "      <td>Martin Reeves</td>\n",
       "      <td>September 2021</td>\n",
       "      <td>412000</td>\n",
       "      <td>12000</td>\n",
       "      <td>https://ted.com/talks/martin_reeves_how_play_c...</td>\n",
       "      <td>34</td>\n",
       "    </tr>\n",
       "    <tr>\n",
       "      <th>3</th>\n",
       "      <td>Why is China appointing judges to combat clima...</td>\n",
       "      <td>James K. Thornton</td>\n",
       "      <td>October 2021</td>\n",
       "      <td>427000</td>\n",
       "      <td>12000</td>\n",
       "      <td>https://ted.com/talks/james_k_thornton_why_is_...</td>\n",
       "      <td>35</td>\n",
       "    </tr>\n",
       "    <tr>\n",
       "      <th>4</th>\n",
       "      <td>Cement's carbon problem — and 2 ways to fix it</td>\n",
       "      <td>Mahendra Singhi</td>\n",
       "      <td>October 2021</td>\n",
       "      <td>2400</td>\n",
       "      <td>72</td>\n",
       "      <td>https://ted.com/talks/mahendra_singhi_cement_s...</td>\n",
       "      <td>33</td>\n",
       "    </tr>\n",
       "    <tr>\n",
       "      <th>...</th>\n",
       "      <td>...</td>\n",
       "      <td>...</td>\n",
       "      <td>...</td>\n",
       "      <td>...</td>\n",
       "      <td>...</td>\n",
       "      <td>...</td>\n",
       "      <td>...</td>\n",
       "    </tr>\n",
       "    <tr>\n",
       "      <th>5435</th>\n",
       "      <td>The best stats you've ever seen</td>\n",
       "      <td>Hans Rosling</td>\n",
       "      <td>February 2006</td>\n",
       "      <td>15000000</td>\n",
       "      <td>458000</td>\n",
       "      <td>https://ted.com/talks/hans_rosling_the_best_st...</td>\n",
       "      <td>32</td>\n",
       "    </tr>\n",
       "    <tr>\n",
       "      <th>5436</th>\n",
       "      <td>Do schools kill creativity?</td>\n",
       "      <td>Sir Ken Robinson</td>\n",
       "      <td>February 2006</td>\n",
       "      <td>72000000</td>\n",
       "      <td>2100000</td>\n",
       "      <td>https://ted.com/talks/sir_ken_robinson_do_scho...</td>\n",
       "      <td>34</td>\n",
       "    </tr>\n",
       "    <tr>\n",
       "      <th>5437</th>\n",
       "      <td>Greening the ghetto</td>\n",
       "      <td>Majora Carter</td>\n",
       "      <td>February 2006</td>\n",
       "      <td>2900000</td>\n",
       "      <td>88000</td>\n",
       "      <td>https://ted.com/talks/majora_carter_greening_t...</td>\n",
       "      <td>32</td>\n",
       "    </tr>\n",
       "    <tr>\n",
       "      <th>5438</th>\n",
       "      <td>Simplicity sells</td>\n",
       "      <td>David Pogue</td>\n",
       "      <td>February 2006</td>\n",
       "      <td>2000000</td>\n",
       "      <td>60000</td>\n",
       "      <td>https://ted.com/talks/david_pogue_simplicity_s...</td>\n",
       "      <td>33</td>\n",
       "    </tr>\n",
       "    <tr>\n",
       "      <th>5439</th>\n",
       "      <td>Averting the climate crisis</td>\n",
       "      <td>Al Gore</td>\n",
       "      <td>February 2006</td>\n",
       "      <td>3600000</td>\n",
       "      <td>109000</td>\n",
       "      <td>https://ted.com/talks/al_gore_averting_the_cli...</td>\n",
       "      <td>33</td>\n",
       "    </tr>\n",
       "  </tbody>\n",
       "</table>\n",
       "<p>5439 rows × 7 columns</p>\n",
       "</div>"
      ],
      "text/plain": [
       "                                                  title                author  \\\n",
       "0         Climate action needs new frontline leadership  Ozawa Bineshi Albert   \n",
       "1           The dark history of the overthrow of Hawaii         Sydney Iaukea   \n",
       "2        How play can spark new ideas for your business         Martin Reeves   \n",
       "3     Why is China appointing judges to combat clima...     James K. Thornton   \n",
       "4        Cement's carbon problem — and 2 ways to fix it       Mahendra Singhi   \n",
       "...                                                 ...                   ...   \n",
       "5435                    The best stats you've ever seen          Hans Rosling   \n",
       "5436                        Do schools kill creativity?      Sir Ken Robinson   \n",
       "5437                                Greening the ghetto         Majora Carter   \n",
       "5438                                   Simplicity sells           David Pogue   \n",
       "5439                        Averting the climate crisis               Al Gore   \n",
       "\n",
       "                date     views    likes  \\\n",
       "0      December 2021    404000    12000   \n",
       "1      February 2022    214000     6400   \n",
       "2     September 2021    412000    12000   \n",
       "3       October 2021    427000    12000   \n",
       "4       October 2021      2400       72   \n",
       "...              ...       ...      ...   \n",
       "5435   February 2006  15000000   458000   \n",
       "5436   February 2006  72000000  2100000   \n",
       "5437   February 2006   2900000    88000   \n",
       "5438   February 2006   2000000    60000   \n",
       "5439   February 2006   3600000   109000   \n",
       "\n",
       "                                                   link  View To Like Ratio  \n",
       "0     https://ted.com/talks/ozawa_bineshi_albert_cli...                  33  \n",
       "1     https://ted.com/talks/sydney_iaukea_the_dark_h...                  33  \n",
       "2     https://ted.com/talks/martin_reeves_how_play_c...                  34  \n",
       "3     https://ted.com/talks/james_k_thornton_why_is_...                  35  \n",
       "4     https://ted.com/talks/mahendra_singhi_cement_s...                  33  \n",
       "...                                                 ...                 ...  \n",
       "5435  https://ted.com/talks/hans_rosling_the_best_st...                  32  \n",
       "5436  https://ted.com/talks/sir_ken_robinson_do_scho...                  34  \n",
       "5437  https://ted.com/talks/majora_carter_greening_t...                  32  \n",
       "5438  https://ted.com/talks/david_pogue_simplicity_s...                  33  \n",
       "5439  https://ted.com/talks/al_gore_averting_the_cli...                  33  \n",
       "\n",
       "[5439 rows x 7 columns]"
      ]
     },
     "execution_count": 29,
     "metadata": {},
     "output_type": "execute_result"
    }
   ],
   "source": [
    "df"
   ]
  },
  {
   "cell_type": "code",
   "execution_count": 30,
   "id": "59e8fb71",
   "metadata": {
    "execution": {
     "iopub.execute_input": "2022-05-12T12:48:34.648779Z",
     "iopub.status.busy": "2022-05-12T12:48:34.648489Z",
     "iopub.status.idle": "2022-05-12T12:48:34.652364Z",
     "shell.execute_reply": "2022-05-12T12:48:34.651383Z"
    },
    "papermill": {
     "duration": 0.068238,
     "end_time": "2022-05-12T12:48:34.654529",
     "exception": false,
     "start_time": "2022-05-12T12:48:34.586291",
     "status": "completed"
    },
    "tags": []
   },
   "outputs": [],
   "source": [
    "#del df.view to like ratio\n",
    "# del df['view to like ratio']"
   ]
  },
  {
   "cell_type": "code",
   "execution_count": 31,
   "id": "1326a72d",
   "metadata": {
    "execution": {
     "iopub.execute_input": "2022-05-12T12:48:34.780946Z",
     "iopub.status.busy": "2022-05-12T12:48:34.780332Z",
     "iopub.status.idle": "2022-05-12T12:48:34.796770Z",
     "shell.execute_reply": "2022-05-12T12:48:34.795923Z"
    },
    "papermill": {
     "duration": 0.082248,
     "end_time": "2022-05-12T12:48:34.798990",
     "exception": false,
     "start_time": "2022-05-12T12:48:34.716742",
     "status": "completed"
    },
    "tags": []
   },
   "outputs": [
    {
     "data": {
      "text/html": [
       "<div>\n",
       "<style scoped>\n",
       "    .dataframe tbody tr th:only-of-type {\n",
       "        vertical-align: middle;\n",
       "    }\n",
       "\n",
       "    .dataframe tbody tr th {\n",
       "        vertical-align: top;\n",
       "    }\n",
       "\n",
       "    .dataframe thead th {\n",
       "        text-align: right;\n",
       "    }\n",
       "</style>\n",
       "<table border=\"1\" class=\"dataframe\">\n",
       "  <thead>\n",
       "    <tr style=\"text-align: right;\">\n",
       "      <th></th>\n",
       "      <th>title</th>\n",
       "      <th>author</th>\n",
       "      <th>date</th>\n",
       "      <th>views</th>\n",
       "      <th>likes</th>\n",
       "      <th>link</th>\n",
       "      <th>View To Like Ratio</th>\n",
       "    </tr>\n",
       "  </thead>\n",
       "  <tbody>\n",
       "    <tr>\n",
       "      <th>0</th>\n",
       "      <td>Climate action needs new frontline leadership</td>\n",
       "      <td>Ozawa Bineshi Albert</td>\n",
       "      <td>December 2021</td>\n",
       "      <td>404000</td>\n",
       "      <td>12000</td>\n",
       "      <td>https://ted.com/talks/ozawa_bineshi_albert_cli...</td>\n",
       "      <td>33</td>\n",
       "    </tr>\n",
       "    <tr>\n",
       "      <th>1</th>\n",
       "      <td>The dark history of the overthrow of Hawaii</td>\n",
       "      <td>Sydney Iaukea</td>\n",
       "      <td>February 2022</td>\n",
       "      <td>214000</td>\n",
       "      <td>6400</td>\n",
       "      <td>https://ted.com/talks/sydney_iaukea_the_dark_h...</td>\n",
       "      <td>33</td>\n",
       "    </tr>\n",
       "    <tr>\n",
       "      <th>2</th>\n",
       "      <td>How play can spark new ideas for your business</td>\n",
       "      <td>Martin Reeves</td>\n",
       "      <td>September 2021</td>\n",
       "      <td>412000</td>\n",
       "      <td>12000</td>\n",
       "      <td>https://ted.com/talks/martin_reeves_how_play_c...</td>\n",
       "      <td>34</td>\n",
       "    </tr>\n",
       "    <tr>\n",
       "      <th>3</th>\n",
       "      <td>Why is China appointing judges to combat clima...</td>\n",
       "      <td>James K. Thornton</td>\n",
       "      <td>October 2021</td>\n",
       "      <td>427000</td>\n",
       "      <td>12000</td>\n",
       "      <td>https://ted.com/talks/james_k_thornton_why_is_...</td>\n",
       "      <td>35</td>\n",
       "    </tr>\n",
       "    <tr>\n",
       "      <th>4</th>\n",
       "      <td>Cement's carbon problem — and 2 ways to fix it</td>\n",
       "      <td>Mahendra Singhi</td>\n",
       "      <td>October 2021</td>\n",
       "      <td>2400</td>\n",
       "      <td>72</td>\n",
       "      <td>https://ted.com/talks/mahendra_singhi_cement_s...</td>\n",
       "      <td>33</td>\n",
       "    </tr>\n",
       "    <tr>\n",
       "      <th>...</th>\n",
       "      <td>...</td>\n",
       "      <td>...</td>\n",
       "      <td>...</td>\n",
       "      <td>...</td>\n",
       "      <td>...</td>\n",
       "      <td>...</td>\n",
       "      <td>...</td>\n",
       "    </tr>\n",
       "    <tr>\n",
       "      <th>5435</th>\n",
       "      <td>The best stats you've ever seen</td>\n",
       "      <td>Hans Rosling</td>\n",
       "      <td>February 2006</td>\n",
       "      <td>15000000</td>\n",
       "      <td>458000</td>\n",
       "      <td>https://ted.com/talks/hans_rosling_the_best_st...</td>\n",
       "      <td>32</td>\n",
       "    </tr>\n",
       "    <tr>\n",
       "      <th>5436</th>\n",
       "      <td>Do schools kill creativity?</td>\n",
       "      <td>Sir Ken Robinson</td>\n",
       "      <td>February 2006</td>\n",
       "      <td>72000000</td>\n",
       "      <td>2100000</td>\n",
       "      <td>https://ted.com/talks/sir_ken_robinson_do_scho...</td>\n",
       "      <td>34</td>\n",
       "    </tr>\n",
       "    <tr>\n",
       "      <th>5437</th>\n",
       "      <td>Greening the ghetto</td>\n",
       "      <td>Majora Carter</td>\n",
       "      <td>February 2006</td>\n",
       "      <td>2900000</td>\n",
       "      <td>88000</td>\n",
       "      <td>https://ted.com/talks/majora_carter_greening_t...</td>\n",
       "      <td>32</td>\n",
       "    </tr>\n",
       "    <tr>\n",
       "      <th>5438</th>\n",
       "      <td>Simplicity sells</td>\n",
       "      <td>David Pogue</td>\n",
       "      <td>February 2006</td>\n",
       "      <td>2000000</td>\n",
       "      <td>60000</td>\n",
       "      <td>https://ted.com/talks/david_pogue_simplicity_s...</td>\n",
       "      <td>33</td>\n",
       "    </tr>\n",
       "    <tr>\n",
       "      <th>5439</th>\n",
       "      <td>Averting the climate crisis</td>\n",
       "      <td>Al Gore</td>\n",
       "      <td>February 2006</td>\n",
       "      <td>3600000</td>\n",
       "      <td>109000</td>\n",
       "      <td>https://ted.com/talks/al_gore_averting_the_cli...</td>\n",
       "      <td>33</td>\n",
       "    </tr>\n",
       "  </tbody>\n",
       "</table>\n",
       "<p>5439 rows × 7 columns</p>\n",
       "</div>"
      ],
      "text/plain": [
       "                                                  title                author  \\\n",
       "0         Climate action needs new frontline leadership  Ozawa Bineshi Albert   \n",
       "1           The dark history of the overthrow of Hawaii         Sydney Iaukea   \n",
       "2        How play can spark new ideas for your business         Martin Reeves   \n",
       "3     Why is China appointing judges to combat clima...     James K. Thornton   \n",
       "4        Cement's carbon problem — and 2 ways to fix it       Mahendra Singhi   \n",
       "...                                                 ...                   ...   \n",
       "5435                    The best stats you've ever seen          Hans Rosling   \n",
       "5436                        Do schools kill creativity?      Sir Ken Robinson   \n",
       "5437                                Greening the ghetto         Majora Carter   \n",
       "5438                                   Simplicity sells           David Pogue   \n",
       "5439                        Averting the climate crisis               Al Gore   \n",
       "\n",
       "                date     views    likes  \\\n",
       "0      December 2021    404000    12000   \n",
       "1      February 2022    214000     6400   \n",
       "2     September 2021    412000    12000   \n",
       "3       October 2021    427000    12000   \n",
       "4       October 2021      2400       72   \n",
       "...              ...       ...      ...   \n",
       "5435   February 2006  15000000   458000   \n",
       "5436   February 2006  72000000  2100000   \n",
       "5437   February 2006   2900000    88000   \n",
       "5438   February 2006   2000000    60000   \n",
       "5439   February 2006   3600000   109000   \n",
       "\n",
       "                                                   link  View To Like Ratio  \n",
       "0     https://ted.com/talks/ozawa_bineshi_albert_cli...                  33  \n",
       "1     https://ted.com/talks/sydney_iaukea_the_dark_h...                  33  \n",
       "2     https://ted.com/talks/martin_reeves_how_play_c...                  34  \n",
       "3     https://ted.com/talks/james_k_thornton_why_is_...                  35  \n",
       "4     https://ted.com/talks/mahendra_singhi_cement_s...                  33  \n",
       "...                                                 ...                 ...  \n",
       "5435  https://ted.com/talks/hans_rosling_the_best_st...                  32  \n",
       "5436  https://ted.com/talks/sir_ken_robinson_do_scho...                  34  \n",
       "5437  https://ted.com/talks/majora_carter_greening_t...                  32  \n",
       "5438  https://ted.com/talks/david_pogue_simplicity_s...                  33  \n",
       "5439  https://ted.com/talks/al_gore_averting_the_cli...                  33  \n",
       "\n",
       "[5439 rows x 7 columns]"
      ]
     },
     "execution_count": 31,
     "metadata": {},
     "output_type": "execute_result"
    }
   ],
   "source": [
    "df"
   ]
  },
  {
   "cell_type": "code",
   "execution_count": 32,
   "id": "66509ec7",
   "metadata": {
    "execution": {
     "iopub.execute_input": "2022-05-12T12:48:34.928732Z",
     "iopub.status.busy": "2022-05-12T12:48:34.928450Z",
     "iopub.status.idle": "2022-05-12T12:48:34.935435Z",
     "shell.execute_reply": "2022-05-12T12:48:34.934609Z"
    },
    "papermill": {
     "duration": 0.073372,
     "end_time": "2022-05-12T12:48:34.937580",
     "exception": false,
     "start_time": "2022-05-12T12:48:34.864208",
     "status": "completed"
    },
    "tags": []
   },
   "outputs": [
    {
     "data": {
      "text/plain": [
       "0           Climate action needs new frontline leadership\n",
       "1             The dark history of the overthrow of Hawaii\n",
       "2          How play can spark new ideas for your business\n",
       "3       Why is China appointing judges to combat clima...\n",
       "4          Cement's carbon problem — and 2 ways to fix it\n",
       "                              ...                        \n",
       "5435                      The best stats you've ever seen\n",
       "5436                          Do schools kill creativity?\n",
       "5437                                  Greening the ghetto\n",
       "5438                                     Simplicity sells\n",
       "5439                          Averting the climate crisis\n",
       "Name: title, Length: 5439, dtype: object"
      ]
     },
     "execution_count": 32,
     "metadata": {},
     "output_type": "execute_result"
    }
   ],
   "source": [
    "df.title"
   ]
  },
  {
   "cell_type": "code",
   "execution_count": 33,
   "id": "a4df0979",
   "metadata": {
    "execution": {
     "iopub.execute_input": "2022-05-12T12:48:35.064721Z",
     "iopub.status.busy": "2022-05-12T12:48:35.064393Z",
     "iopub.status.idle": "2022-05-12T12:48:35.071797Z",
     "shell.execute_reply": "2022-05-12T12:48:35.070915Z"
    },
    "papermill": {
     "duration": 0.073868,
     "end_time": "2022-05-12T12:48:35.074224",
     "exception": false,
     "start_time": "2022-05-12T12:48:35.000356",
     "status": "completed"
    },
    "tags": []
   },
   "outputs": [
    {
     "data": {
      "text/plain": [
       "0           Climate action needs new frontline leadership\n",
       "1             The dark history of the overthrow of Hawaii\n",
       "2          How play can spark new ideas for your business\n",
       "3       Why is China appointing judges to combat clima...\n",
       "4          Cement's carbon problem — and 2 ways to fix it\n",
       "                              ...                        \n",
       "5435                      The best stats you've ever seen\n",
       "5436                          Do schools kill creativity?\n",
       "5437                                  Greening the ghetto\n",
       "5438                                     Simplicity sells\n",
       "5439                          Averting the climate crisis\n",
       "Name: title, Length: 5439, dtype: object"
      ]
     },
     "execution_count": 33,
     "metadata": {},
     "output_type": "execute_result"
    }
   ],
   "source": [
    "df['title']"
   ]
  },
  {
   "cell_type": "markdown",
   "id": "d80db120",
   "metadata": {
    "papermill": {
     "duration": 0.069136,
     "end_time": "2022-05-12T12:48:35.211358",
     "exception": false,
     "start_time": "2022-05-12T12:48:35.142222",
     "status": "completed"
    },
    "tags": []
   },
   "source": [
    "# Ted Talks of Bill Gates"
   ]
  },
  {
   "cell_type": "code",
   "execution_count": 34,
   "id": "2acebcbb",
   "metadata": {
    "execution": {
     "iopub.execute_input": "2022-05-12T12:48:35.340507Z",
     "iopub.status.busy": "2022-05-12T12:48:35.340118Z",
     "iopub.status.idle": "2022-05-12T12:48:35.354645Z",
     "shell.execute_reply": "2022-05-12T12:48:35.354010Z"
    },
    "papermill": {
     "duration": 0.080938,
     "end_time": "2022-05-12T12:48:35.356734",
     "exception": false,
     "start_time": "2022-05-12T12:48:35.275796",
     "status": "completed"
    },
    "tags": []
   },
   "outputs": [
    {
     "data": {
      "text/html": [
       "<div>\n",
       "<style scoped>\n",
       "    .dataframe tbody tr th:only-of-type {\n",
       "        vertical-align: middle;\n",
       "    }\n",
       "\n",
       "    .dataframe tbody tr th {\n",
       "        vertical-align: top;\n",
       "    }\n",
       "\n",
       "    .dataframe thead th {\n",
       "        text-align: right;\n",
       "    }\n",
       "</style>\n",
       "<table border=\"1\" class=\"dataframe\">\n",
       "  <thead>\n",
       "    <tr style=\"text-align: right;\">\n",
       "      <th></th>\n",
       "      <th>title</th>\n",
       "      <th>author</th>\n",
       "      <th>date</th>\n",
       "      <th>views</th>\n",
       "      <th>likes</th>\n",
       "      <th>link</th>\n",
       "      <th>View To Like Ratio</th>\n",
       "    </tr>\n",
       "  </thead>\n",
       "  <tbody>\n",
       "    <tr>\n",
       "      <th>403</th>\n",
       "      <td>The innovations we need to avoid a climate dis...</td>\n",
       "      <td>Bill Gates</td>\n",
       "      <td>March 2021</td>\n",
       "      <td>1700000</td>\n",
       "      <td>53000</td>\n",
       "      <td>https://ted.com/talks/bill_gates_the_innovatio...</td>\n",
       "      <td>32</td>\n",
       "    </tr>\n",
       "    <tr>\n",
       "      <th>789</th>\n",
       "      <td>How the pandemic will shape the near future</td>\n",
       "      <td>Bill Gates</td>\n",
       "      <td>June 2020</td>\n",
       "      <td>4600000</td>\n",
       "      <td>138000</td>\n",
       "      <td>https://ted.com/talks/bill_gates_how_the_pande...</td>\n",
       "      <td>33</td>\n",
       "    </tr>\n",
       "    <tr>\n",
       "      <th>952</th>\n",
       "      <td>How we must respond to the coronavirus pandemic</td>\n",
       "      <td>Bill Gates</td>\n",
       "      <td>March 2020</td>\n",
       "      <td>8600000</td>\n",
       "      <td>259000</td>\n",
       "      <td>https://ted.com/talks/bill_gates_how_we_must_r...</td>\n",
       "      <td>33</td>\n",
       "    </tr>\n",
       "    <tr>\n",
       "      <th>3251</th>\n",
       "      <td>The next outbreak? We're not ready</td>\n",
       "      <td>Bill Gates</td>\n",
       "      <td>March 2015</td>\n",
       "      <td>43000000</td>\n",
       "      <td>1300000</td>\n",
       "      <td>https://ted.com/talks/bill_gates_the_next_outb...</td>\n",
       "      <td>33</td>\n",
       "    </tr>\n",
       "    <tr>\n",
       "      <th>3878</th>\n",
       "      <td>Teachers need real feedback</td>\n",
       "      <td>Bill Gates</td>\n",
       "      <td>May 2013</td>\n",
       "      <td>4500000</td>\n",
       "      <td>135000</td>\n",
       "      <td>https://ted.com/talks/bill_gates_teachers_need...</td>\n",
       "      <td>33</td>\n",
       "    </tr>\n",
       "    <tr>\n",
       "      <th>4560</th>\n",
       "      <td>How state budgets are breaking US schools</td>\n",
       "      <td>Bill Gates</td>\n",
       "      <td>March 2011</td>\n",
       "      <td>2100000</td>\n",
       "      <td>63000</td>\n",
       "      <td>https://ted.com/talks/bill_gates_how_state_bud...</td>\n",
       "      <td>33</td>\n",
       "    </tr>\n",
       "    <tr>\n",
       "      <th>4824</th>\n",
       "      <td>Innovating to zero!</td>\n",
       "      <td>Bill Gates</td>\n",
       "      <td>February 2010</td>\n",
       "      <td>8100000</td>\n",
       "      <td>245000</td>\n",
       "      <td>https://ted.com/talks/bill_gates_innovating_to...</td>\n",
       "      <td>33</td>\n",
       "    </tr>\n",
       "    <tr>\n",
       "      <th>5062</th>\n",
       "      <td>Mosquitos, malaria and education</td>\n",
       "      <td>Bill Gates</td>\n",
       "      <td>February 2009</td>\n",
       "      <td>5200000</td>\n",
       "      <td>156000</td>\n",
       "      <td>https://ted.com/talks/bill_gates_mosquitos_mal...</td>\n",
       "      <td>33</td>\n",
       "    </tr>\n",
       "  </tbody>\n",
       "</table>\n",
       "</div>"
      ],
      "text/plain": [
       "                                                  title      author  \\\n",
       "403   The innovations we need to avoid a climate dis...  Bill Gates   \n",
       "789         How the pandemic will shape the near future  Bill Gates   \n",
       "952     How we must respond to the coronavirus pandemic  Bill Gates   \n",
       "3251                 The next outbreak? We're not ready  Bill Gates   \n",
       "3878                        Teachers need real feedback  Bill Gates   \n",
       "4560          How state budgets are breaking US schools  Bill Gates   \n",
       "4824                                Innovating to zero!  Bill Gates   \n",
       "5062                   Mosquitos, malaria and education  Bill Gates   \n",
       "\n",
       "               date     views    likes  \\\n",
       "403      March 2021   1700000    53000   \n",
       "789       June 2020   4600000   138000   \n",
       "952      March 2020   8600000   259000   \n",
       "3251     March 2015  43000000  1300000   \n",
       "3878       May 2013   4500000   135000   \n",
       "4560     March 2011   2100000    63000   \n",
       "4824  February 2010   8100000   245000   \n",
       "5062  February 2009   5200000   156000   \n",
       "\n",
       "                                                   link  View To Like Ratio  \n",
       "403   https://ted.com/talks/bill_gates_the_innovatio...                  32  \n",
       "789   https://ted.com/talks/bill_gates_how_the_pande...                  33  \n",
       "952   https://ted.com/talks/bill_gates_how_we_must_r...                  33  \n",
       "3251  https://ted.com/talks/bill_gates_the_next_outb...                  33  \n",
       "3878  https://ted.com/talks/bill_gates_teachers_need...                  33  \n",
       "4560  https://ted.com/talks/bill_gates_how_state_bud...                  33  \n",
       "4824  https://ted.com/talks/bill_gates_innovating_to...                  33  \n",
       "5062  https://ted.com/talks/bill_gates_mosquitos_mal...                  33  "
      ]
     },
     "execution_count": 34,
     "metadata": {},
     "output_type": "execute_result"
    }
   ],
   "source": [
    "df[df['author']=='Bill Gates']"
   ]
  },
  {
   "cell_type": "code",
   "execution_count": 35,
   "id": "07a7af47",
   "metadata": {
    "execution": {
     "iopub.execute_input": "2022-05-12T12:48:35.486889Z",
     "iopub.status.busy": "2022-05-12T12:48:35.486305Z",
     "iopub.status.idle": "2022-05-12T12:48:35.494884Z",
     "shell.execute_reply": "2022-05-12T12:48:35.493826Z"
    },
    "papermill": {
     "duration": 0.076397,
     "end_time": "2022-05-12T12:48:35.497412",
     "exception": false,
     "start_time": "2022-05-12T12:48:35.421015",
     "status": "completed"
    },
    "tags": []
   },
   "outputs": [
    {
     "data": {
      "text/plain": [
       "403      1700000\n",
       "789      4600000\n",
       "952      8600000\n",
       "3251    43000000\n",
       "3878     4500000\n",
       "4560     2100000\n",
       "4824     8100000\n",
       "5062     5200000\n",
       "Name: views, dtype: int64"
      ]
     },
     "execution_count": 35,
     "metadata": {},
     "output_type": "execute_result"
    }
   ],
   "source": [
    "df[df['author']=='Bill Gates']['views']"
   ]
  },
  {
   "cell_type": "code",
   "execution_count": 36,
   "id": "0702f3de",
   "metadata": {
    "execution": {
     "iopub.execute_input": "2022-05-12T12:48:35.630904Z",
     "iopub.status.busy": "2022-05-12T12:48:35.630319Z",
     "iopub.status.idle": "2022-05-12T12:48:35.638255Z",
     "shell.execute_reply": "2022-05-12T12:48:35.637381Z"
    },
    "papermill": {
     "duration": 0.078029,
     "end_time": "2022-05-12T12:48:35.640412",
     "exception": false,
     "start_time": "2022-05-12T12:48:35.562383",
     "status": "completed"
    },
    "tags": []
   },
   "outputs": [
    {
     "data": {
      "text/plain": [
       "9725000.0"
      ]
     },
     "execution_count": 36,
     "metadata": {},
     "output_type": "execute_result"
    }
   ],
   "source": [
    "df[df['author']=='Bill Gates']['views'].mean()"
   ]
  },
  {
   "cell_type": "code",
   "execution_count": 37,
   "id": "7558b9b9",
   "metadata": {
    "execution": {
     "iopub.execute_input": "2022-05-12T12:48:35.778094Z",
     "iopub.status.busy": "2022-05-12T12:48:35.777254Z",
     "iopub.status.idle": "2022-05-12T12:48:35.792724Z",
     "shell.execute_reply": "2022-05-12T12:48:35.791987Z"
    },
    "papermill": {
     "duration": 0.087405,
     "end_time": "2022-05-12T12:48:35.794752",
     "exception": false,
     "start_time": "2022-05-12T12:48:35.707347",
     "status": "completed"
    },
    "tags": []
   },
   "outputs": [
    {
     "data": {
      "text/plain": [
       "count             5439\n",
       "unique            4443\n",
       "top       Alex Gendler\n",
       "freq                45\n",
       "Name: author, dtype: object"
      ]
     },
     "execution_count": 37,
     "metadata": {},
     "output_type": "execute_result"
    }
   ],
   "source": [
    "#which author has given the maximum number of tedtalks\n",
    "df['author'].describe()"
   ]
  },
  {
   "cell_type": "code",
   "execution_count": 38,
   "id": "d06a162a",
   "metadata": {
    "execution": {
     "iopub.execute_input": "2022-05-12T12:48:35.929046Z",
     "iopub.status.busy": "2022-05-12T12:48:35.928172Z",
     "iopub.status.idle": "2022-05-12T12:48:35.935612Z",
     "shell.execute_reply": "2022-05-12T12:48:35.934959Z"
    },
    "papermill": {
     "duration": 0.075335,
     "end_time": "2022-05-12T12:48:35.937523",
     "exception": false,
     "start_time": "2022-05-12T12:48:35.862188",
     "status": "completed"
    },
    "tags": []
   },
   "outputs": [
    {
     "data": {
      "text/plain": [
       "0       Ozawa Bineshi Albert\n",
       "1              Sydney Iaukea\n",
       "2              Martin Reeves\n",
       "3          James K. Thornton\n",
       "4            Mahendra Singhi\n",
       "                ...         \n",
       "5435            Hans Rosling\n",
       "5436        Sir Ken Robinson\n",
       "5437           Majora Carter\n",
       "5438             David Pogue\n",
       "5439                 Al Gore\n",
       "Name: author, Length: 5439, dtype: object"
      ]
     },
     "execution_count": 38,
     "metadata": {},
     "output_type": "execute_result"
    }
   ],
   "source": [
    "# df['author'].describe\n",
    "df['author']"
   ]
  },
  {
   "cell_type": "code",
   "execution_count": 39,
   "id": "9baf6a07",
   "metadata": {
    "execution": {
     "iopub.execute_input": "2022-05-12T12:48:36.072194Z",
     "iopub.status.busy": "2022-05-12T12:48:36.071470Z",
     "iopub.status.idle": "2022-05-12T12:48:36.080832Z",
     "shell.execute_reply": "2022-05-12T12:48:36.079941Z"
    },
    "papermill": {
     "duration": 0.078707,
     "end_time": "2022-05-12T12:48:36.082915",
     "exception": false,
     "start_time": "2022-05-12T12:48:36.004208",
     "status": "completed"
    },
    "tags": []
   },
   "outputs": [
    {
     "data": {
      "text/plain": [
       "187196000"
      ]
     },
     "execution_count": 39,
     "metadata": {},
     "output_type": "execute_result"
    }
   ],
   "source": [
    "df[df['author']=='Alex Gendler']['views'].sum() # author with maximum views in total"
   ]
  },
  {
   "cell_type": "markdown",
   "id": "7365d4da",
   "metadata": {
    "papermill": {
     "duration": 0.065117,
     "end_time": "2022-05-12T12:48:36.213794",
     "exception": false,
     "start_time": "2022-05-12T12:48:36.148677",
     "status": "completed"
    },
    "tags": []
   },
   "source": [
    "# Sort "
   ]
  },
  {
   "cell_type": "markdown",
   "id": "0e54ee24",
   "metadata": {
    "papermill": {
     "duration": 0.065397,
     "end_time": "2022-05-12T12:48:36.345045",
     "exception": false,
     "start_time": "2022-05-12T12:48:36.279648",
     "status": "completed"
    },
    "tags": []
   },
   "source": [
    "On which day of the month we have most number of tedtalks"
   ]
  },
  {
   "cell_type": "code",
   "execution_count": null,
   "id": "e827a2cf",
   "metadata": {
    "papermill": {
     "duration": 0.065613,
     "end_time": "2022-05-12T12:48:36.476742",
     "exception": false,
     "start_time": "2022-05-12T12:48:36.411129",
     "status": "completed"
    },
    "tags": []
   },
   "outputs": [],
   "source": []
  },
  {
   "cell_type": "markdown",
   "id": "e12444fa",
   "metadata": {
    "papermill": {
     "duration": 0.065229,
     "end_time": "2022-05-12T12:48:36.608055",
     "exception": false,
     "start_time": "2022-05-12T12:48:36.542826",
     "status": "completed"
    },
    "tags": []
   },
   "source": [
    "On which month of the year we have most number of tedtalks"
   ]
  },
  {
   "cell_type": "markdown",
   "id": "2afbc02d",
   "metadata": {
    "papermill": {
     "duration": 0.067205,
     "end_time": "2022-05-12T12:48:36.742066",
     "exception": false,
     "start_time": "2022-05-12T12:48:36.674861",
     "status": "completed"
    },
    "tags": []
   },
   "source": [
    "which year most ted talks happended"
   ]
  },
  {
   "cell_type": "markdown",
   "id": "628c672d",
   "metadata": {
    "papermill": {
     "duration": 0.066414,
     "end_time": "2022-05-12T12:48:36.873969",
     "exception": false,
     "start_time": "2022-05-12T12:48:36.807555",
     "status": "completed"
    },
    "tags": []
   },
   "source": [
    "trend"
   ]
  },
  {
   "cell_type": "markdown",
   "id": "62e0fb19",
   "metadata": {
    "papermill": {
     "duration": 0.065354,
     "end_time": "2022-05-12T12:48:37.004535",
     "exception": false,
     "start_time": "2022-05-12T12:48:36.939181",
     "status": "completed"
    },
    "tags": []
   },
   "source": [
    "description of all the columns"
   ]
  },
  {
   "cell_type": "markdown",
   "id": "603b72ec",
   "metadata": {
    "papermill": {
     "duration": 0.065303,
     "end_time": "2022-05-12T12:48:37.136737",
     "exception": false,
     "start_time": "2022-05-12T12:48:37.071434",
     "status": "completed"
    },
    "tags": []
   },
   "source": [
    "# Learn about space : all Ted Talks concerning space"
   ]
  },
  {
   "cell_type": "code",
   "execution_count": 40,
   "id": "06274c62",
   "metadata": {
    "execution": {
     "iopub.execute_input": "2022-05-12T12:48:37.269765Z",
     "iopub.status.busy": "2022-05-12T12:48:37.269328Z",
     "iopub.status.idle": "2022-05-12T12:48:37.275237Z",
     "shell.execute_reply": "2022-05-12T12:48:37.274322Z"
    },
    "papermill": {
     "duration": 0.075861,
     "end_time": "2022-05-12T12:48:37.277901",
     "exception": false,
     "start_time": "2022-05-12T12:48:37.202040",
     "status": "completed"
    },
    "tags": []
   },
   "outputs": [
    {
     "name": "stdout",
     "output_type": "stream",
     "text": [
      "True\n",
      "False\n",
      "False\n",
      "True\n",
      "True\n"
     ]
    }
   ],
   "source": [
    "#problem :\n",
    "print('price'=='price')\n",
    "print('space'=='Space')\n",
    "print('space'=='SPACE')\n",
    "print('space'=='Space'.lower())\n",
    "print('space'=='SPACE'.lower())"
   ]
  },
  {
   "cell_type": "code",
   "execution_count": 41,
   "id": "28fc64c8",
   "metadata": {
    "execution": {
     "iopub.execute_input": "2022-05-12T12:48:37.413670Z",
     "iopub.status.busy": "2022-05-12T12:48:37.413072Z",
     "iopub.status.idle": "2022-05-12T12:48:37.423644Z",
     "shell.execute_reply": "2022-05-12T12:48:37.422762Z"
    },
    "papermill": {
     "duration": 0.080866,
     "end_time": "2022-05-12T12:48:37.425783",
     "exception": false,
     "start_time": "2022-05-12T12:48:37.344917",
     "status": "completed"
    },
    "tags": []
   },
   "outputs": [
    {
     "name": "stdout",
     "output_type": "stream",
     "text": [
      "['\"The Rich Man\\'s House\" / \"Woke Up This Morning (With My Mind Stayed on Freedom)\"'\n",
      " ' Resistance Revival Chorus' 'December 2018' 6100 184\n",
      " 'https://ted.com/talks/resistance_revival_chorus_the_rich_man_s_house_woke_up_this_morning_with_my_mind_stayed_on_freedom']\n",
      "[\"A woman's fury holds lifetimes of wisdom\" 'Tracee Ellis Ross'\n",
      " 'April 2018' 1600000 48000\n",
      " 'https://ted.com/talks/tracee_ellis_ross_a_woman_s_fury_holds_lifetimes_of_wisdom']\n"
     ]
    }
   ],
   "source": [
    "#topic='space' two type of spaces\n",
    "topic='black hole' #act as personal recommender\n",
    "topic1=\"man's\"\n",
    "for i in range(len(data)):\n",
    "    if(topic1 in data[i][0].lower()):\n",
    "        print(data[i])\n",
    "    "
   ]
  }
 ],
 "metadata": {
  "kernelspec": {
   "display_name": "Python 3",
   "language": "python",
   "name": "python3"
  },
  "language_info": {
   "codemirror_mode": {
    "name": "ipython",
    "version": 3
   },
   "file_extension": ".py",
   "mimetype": "text/x-python",
   "name": "python",
   "nbconvert_exporter": "python",
   "pygments_lexer": "ipython3",
   "version": "3.7.12"
  },
  "papermill": {
   "default_parameters": {},
   "duration": 19.242713,
   "end_time": "2022-05-12T12:48:38.214673",
   "environment_variables": {},
   "exception": null,
   "input_path": "__notebook__.ipynb",
   "output_path": "__notebook__.ipynb",
   "parameters": {},
   "start_time": "2022-05-12T12:48:18.971960",
   "version": "2.3.4"
  }
 },
 "nbformat": 4,
 "nbformat_minor": 5
}
