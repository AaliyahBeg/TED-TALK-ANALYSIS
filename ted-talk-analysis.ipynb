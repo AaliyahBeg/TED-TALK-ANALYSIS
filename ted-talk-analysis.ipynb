{
 "cells": [
  {
   "cell_type": "code",
   "execution_count": 1,
   "id": "4807a85f",
   "metadata": {
    "_cell_guid": "b1076dfc-b9ad-4769-8c92-a6c4dae69d19",
    "_uuid": "8f2839f25d086af736a60e9eeb907d3b93b6e0e5",
    "execution": {
     "iopub.execute_input": "2022-05-12T13:15:05.098330Z",
     "iopub.status.busy": "2022-05-12T13:15:05.097793Z",
     "iopub.status.idle": "2022-05-12T13:15:05.119486Z",
     "shell.execute_reply": "2022-05-12T13:15:05.118654Z"
    },
    "papermill": {
     "duration": 0.080575,
     "end_time": "2022-05-12T13:15:05.122110",
     "exception": false,
     "start_time": "2022-05-12T13:15:05.041535",
     "status": "completed"
    },
    "tags": []
   },
   "outputs": [
    {
     "name": "stdout",
     "output_type": "stream",
     "text": [
      "/kaggle/input/ted-talks/data.csv\n"
     ]
    }
   ],
   "source": [
    "import numpy as np # linear algebra\n",
    "import pandas as pd # data processing, CSV file I/O (e.g. pd.read_csv)\n",
    "import os\n",
    "for dirname, _, filenames in os.walk('/kaggle/input'):\n",
    "    for filename in filenames:\n",
    "        print(os.path.join(dirname, filename))\n",
    "\n",
    "# You can write up to 20GB to the current directory (/kaggle/working/) that gets preserved as output when you create a version using \"Save & Run All\" \n",
    "# You can also write temporary files to /kaggle/temp/, but they won't be saved outside of the current session"
   ]
  },
  {
   "cell_type": "markdown",
   "id": "9e03677e",
   "metadata": {
    "papermill": {
     "duration": 0.053919,
     "end_time": "2022-05-12T13:15:05.230462",
     "exception": false,
     "start_time": "2022-05-12T13:15:05.176543",
     "status": "completed"
    },
    "tags": []
   },
   "source": [
    "<!-- https://www.geeksforgeeks.org/check-if-element-exists-in-list-in-python/ -->\n",
    "<!-- http://www.idc-online.com/technical_references/pdfs/information_technology/Pairs_in_Python.pdf -->\n",
    "<!-- https://www.geeksforgeeks.org/how-to-replace-values-in-a-list-in-python/#:~:text=We%20can%20replace%20values%20inside,new%20value%20using%20list%20slicing. -->\n",
    "<!-- https://stackoverflow.com/questions/8220702/error-int-object-is-not-subscriptable-python -->\n",
    "<!-- https://stackoverflow.com/questions/22496657/how-can-i-access-each-element-of-a-pair-in-a-pair-list -->\n",
    "<!-- https://careerkarma.com/blog/how-to-initialize-a-list-in-python/#:~:text=To%20initialize%20a%20list%20in,is%20to%20use%20square%20brackets. -->"
   ]
  },
  {
   "cell_type": "code",
   "execution_count": 2,
   "id": "7ee86e68",
   "metadata": {
    "execution": {
     "iopub.execute_input": "2022-05-12T13:15:05.336475Z",
     "iopub.status.busy": "2022-05-12T13:15:05.335651Z",
     "iopub.status.idle": "2022-05-12T13:15:05.388339Z",
     "shell.execute_reply": "2022-05-12T13:15:05.387655Z"
    },
    "papermill": {
     "duration": 0.108534,
     "end_time": "2022-05-12T13:15:05.390716",
     "exception": false,
     "start_time": "2022-05-12T13:15:05.282182",
     "status": "completed"
    },
    "tags": []
   },
   "outputs": [],
   "source": [
    "df=pd.read_csv('/kaggle/input/ted-talks/data.csv')"
   ]
  },
  {
   "cell_type": "code",
   "execution_count": 3,
   "id": "a0c3273c",
   "metadata": {
    "execution": {
     "iopub.execute_input": "2022-05-12T13:15:05.498360Z",
     "iopub.status.busy": "2022-05-12T13:15:05.497377Z",
     "iopub.status.idle": "2022-05-12T13:15:05.526760Z",
     "shell.execute_reply": "2022-05-12T13:15:05.525846Z"
    },
    "papermill": {
     "duration": 0.085993,
     "end_time": "2022-05-12T13:15:05.529314",
     "exception": false,
     "start_time": "2022-05-12T13:15:05.443321",
     "status": "completed"
    },
    "tags": []
   },
   "outputs": [
    {
     "data": {
      "text/html": [
       "<div>\n",
       "<style scoped>\n",
       "    .dataframe tbody tr th:only-of-type {\n",
       "        vertical-align: middle;\n",
       "    }\n",
       "\n",
       "    .dataframe tbody tr th {\n",
       "        vertical-align: top;\n",
       "    }\n",
       "\n",
       "    .dataframe thead th {\n",
       "        text-align: right;\n",
       "    }\n",
       "</style>\n",
       "<table border=\"1\" class=\"dataframe\">\n",
       "  <thead>\n",
       "    <tr style=\"text-align: right;\">\n",
       "      <th></th>\n",
       "      <th>title</th>\n",
       "      <th>author</th>\n",
       "      <th>date</th>\n",
       "      <th>views</th>\n",
       "      <th>likes</th>\n",
       "      <th>link</th>\n",
       "    </tr>\n",
       "  </thead>\n",
       "  <tbody>\n",
       "    <tr>\n",
       "      <th>0</th>\n",
       "      <td>Climate action needs new frontline leadership</td>\n",
       "      <td>Ozawa Bineshi Albert</td>\n",
       "      <td>December 2021</td>\n",
       "      <td>404000</td>\n",
       "      <td>12000</td>\n",
       "      <td>https://ted.com/talks/ozawa_bineshi_albert_cli...</td>\n",
       "    </tr>\n",
       "    <tr>\n",
       "      <th>1</th>\n",
       "      <td>The dark history of the overthrow of Hawaii</td>\n",
       "      <td>Sydney Iaukea</td>\n",
       "      <td>February 2022</td>\n",
       "      <td>214000</td>\n",
       "      <td>6400</td>\n",
       "      <td>https://ted.com/talks/sydney_iaukea_the_dark_h...</td>\n",
       "    </tr>\n",
       "    <tr>\n",
       "      <th>2</th>\n",
       "      <td>How play can spark new ideas for your business</td>\n",
       "      <td>Martin Reeves</td>\n",
       "      <td>September 2021</td>\n",
       "      <td>412000</td>\n",
       "      <td>12000</td>\n",
       "      <td>https://ted.com/talks/martin_reeves_how_play_c...</td>\n",
       "    </tr>\n",
       "    <tr>\n",
       "      <th>3</th>\n",
       "      <td>Why is China appointing judges to combat clima...</td>\n",
       "      <td>James K. Thornton</td>\n",
       "      <td>October 2021</td>\n",
       "      <td>427000</td>\n",
       "      <td>12000</td>\n",
       "      <td>https://ted.com/talks/james_k_thornton_why_is_...</td>\n",
       "    </tr>\n",
       "    <tr>\n",
       "      <th>4</th>\n",
       "      <td>Cement's carbon problem — and 2 ways to fix it</td>\n",
       "      <td>Mahendra Singhi</td>\n",
       "      <td>October 2021</td>\n",
       "      <td>2400</td>\n",
       "      <td>72</td>\n",
       "      <td>https://ted.com/talks/mahendra_singhi_cement_s...</td>\n",
       "    </tr>\n",
       "    <tr>\n",
       "      <th>...</th>\n",
       "      <td>...</td>\n",
       "      <td>...</td>\n",
       "      <td>...</td>\n",
       "      <td>...</td>\n",
       "      <td>...</td>\n",
       "      <td>...</td>\n",
       "    </tr>\n",
       "    <tr>\n",
       "      <th>5435</th>\n",
       "      <td>The best stats you've ever seen</td>\n",
       "      <td>Hans Rosling</td>\n",
       "      <td>February 2006</td>\n",
       "      <td>15000000</td>\n",
       "      <td>458000</td>\n",
       "      <td>https://ted.com/talks/hans_rosling_the_best_st...</td>\n",
       "    </tr>\n",
       "    <tr>\n",
       "      <th>5436</th>\n",
       "      <td>Do schools kill creativity?</td>\n",
       "      <td>Sir Ken Robinson</td>\n",
       "      <td>February 2006</td>\n",
       "      <td>72000000</td>\n",
       "      <td>2100000</td>\n",
       "      <td>https://ted.com/talks/sir_ken_robinson_do_scho...</td>\n",
       "    </tr>\n",
       "    <tr>\n",
       "      <th>5437</th>\n",
       "      <td>Greening the ghetto</td>\n",
       "      <td>Majora Carter</td>\n",
       "      <td>February 2006</td>\n",
       "      <td>2900000</td>\n",
       "      <td>88000</td>\n",
       "      <td>https://ted.com/talks/majora_carter_greening_t...</td>\n",
       "    </tr>\n",
       "    <tr>\n",
       "      <th>5438</th>\n",
       "      <td>Simplicity sells</td>\n",
       "      <td>David Pogue</td>\n",
       "      <td>February 2006</td>\n",
       "      <td>2000000</td>\n",
       "      <td>60000</td>\n",
       "      <td>https://ted.com/talks/david_pogue_simplicity_s...</td>\n",
       "    </tr>\n",
       "    <tr>\n",
       "      <th>5439</th>\n",
       "      <td>Averting the climate crisis</td>\n",
       "      <td>Al Gore</td>\n",
       "      <td>February 2006</td>\n",
       "      <td>3600000</td>\n",
       "      <td>109000</td>\n",
       "      <td>https://ted.com/talks/al_gore_averting_the_cli...</td>\n",
       "    </tr>\n",
       "  </tbody>\n",
       "</table>\n",
       "<p>5440 rows × 6 columns</p>\n",
       "</div>"
      ],
      "text/plain": [
       "                                                  title                author  \\\n",
       "0         Climate action needs new frontline leadership  Ozawa Bineshi Albert   \n",
       "1           The dark history of the overthrow of Hawaii         Sydney Iaukea   \n",
       "2        How play can spark new ideas for your business         Martin Reeves   \n",
       "3     Why is China appointing judges to combat clima...     James K. Thornton   \n",
       "4        Cement's carbon problem — and 2 ways to fix it       Mahendra Singhi   \n",
       "...                                                 ...                   ...   \n",
       "5435                    The best stats you've ever seen          Hans Rosling   \n",
       "5436                        Do schools kill creativity?      Sir Ken Robinson   \n",
       "5437                                Greening the ghetto         Majora Carter   \n",
       "5438                                   Simplicity sells           David Pogue   \n",
       "5439                        Averting the climate crisis               Al Gore   \n",
       "\n",
       "                date     views    likes  \\\n",
       "0      December 2021    404000    12000   \n",
       "1      February 2022    214000     6400   \n",
       "2     September 2021    412000    12000   \n",
       "3       October 2021    427000    12000   \n",
       "4       October 2021      2400       72   \n",
       "...              ...       ...      ...   \n",
       "5435   February 2006  15000000   458000   \n",
       "5436   February 2006  72000000  2100000   \n",
       "5437   February 2006   2900000    88000   \n",
       "5438   February 2006   2000000    60000   \n",
       "5439   February 2006   3600000   109000   \n",
       "\n",
       "                                                   link  \n",
       "0     https://ted.com/talks/ozawa_bineshi_albert_cli...  \n",
       "1     https://ted.com/talks/sydney_iaukea_the_dark_h...  \n",
       "2     https://ted.com/talks/martin_reeves_how_play_c...  \n",
       "3     https://ted.com/talks/james_k_thornton_why_is_...  \n",
       "4     https://ted.com/talks/mahendra_singhi_cement_s...  \n",
       "...                                                 ...  \n",
       "5435  https://ted.com/talks/hans_rosling_the_best_st...  \n",
       "5436  https://ted.com/talks/sir_ken_robinson_do_scho...  \n",
       "5437  https://ted.com/talks/majora_carter_greening_t...  \n",
       "5438  https://ted.com/talks/david_pogue_simplicity_s...  \n",
       "5439  https://ted.com/talks/al_gore_averting_the_cli...  \n",
       "\n",
       "[5440 rows x 6 columns]"
      ]
     },
     "execution_count": 3,
     "metadata": {},
     "output_type": "execute_result"
    }
   ],
   "source": [
    "df"
   ]
  },
  {
   "cell_type": "markdown",
   "id": "0d4474a2",
   "metadata": {
    "papermill": {
     "duration": 0.052211,
     "end_time": "2022-05-12T13:15:05.636125",
     "exception": false,
     "start_time": "2022-05-12T13:15:05.583914",
     "status": "completed"
    },
    "tags": []
   },
   "source": [
    "1.http://www.idc-online.com/technical_references/pdfs/information_technology/Pairs_in_Python.pdf\n",
    "2.https://www.geeksforgeeks.org/check-if-element-exists-in-list-in-python/\n",
    "3.https://www.geeksforgeeks.org/how-to-replace-values-in-a-list-in-python/#:~:text=We%20can%20replace%20values%20inside,new%20value%20using%20list%20slicing.\n",
    "4.https://stackoverflow.com/questions/8220702/error-int-object-is-not-subscriptable-python\n",
    "5.https://stackoverflow.com/questions/22496657/how-can-i-access-each-element-of-a-pair-in-a-pair-list\n",
    "6.https://careerkarma.com/blog/how-to-initialize-a-list-in-python/#:~:text=To%20initialize%20a%20list%20in,is%20to%20use%20square%20brackets."
   ]
  },
  {
   "cell_type": "code",
   "execution_count": 4,
   "id": "2c43961d",
   "metadata": {
    "execution": {
     "iopub.execute_input": "2022-05-12T13:15:05.743919Z",
     "iopub.status.busy": "2022-05-12T13:15:05.743316Z",
     "iopub.status.idle": "2022-05-12T13:15:05.757141Z",
     "shell.execute_reply": "2022-05-12T13:15:05.756240Z"
    },
    "papermill": {
     "duration": 0.071452,
     "end_time": "2022-05-12T13:15:05.759705",
     "exception": false,
     "start_time": "2022-05-12T13:15:05.688253",
     "status": "completed"
    },
    "tags": []
   },
   "outputs": [
    {
     "data": {
      "text/html": [
       "<div>\n",
       "<style scoped>\n",
       "    .dataframe tbody tr th:only-of-type {\n",
       "        vertical-align: middle;\n",
       "    }\n",
       "\n",
       "    .dataframe tbody tr th {\n",
       "        vertical-align: top;\n",
       "    }\n",
       "\n",
       "    .dataframe thead th {\n",
       "        text-align: right;\n",
       "    }\n",
       "</style>\n",
       "<table border=\"1\" class=\"dataframe\">\n",
       "  <thead>\n",
       "    <tr style=\"text-align: right;\">\n",
       "      <th></th>\n",
       "      <th>title</th>\n",
       "      <th>author</th>\n",
       "      <th>date</th>\n",
       "      <th>views</th>\n",
       "      <th>likes</th>\n",
       "      <th>link</th>\n",
       "    </tr>\n",
       "  </thead>\n",
       "  <tbody>\n",
       "    <tr>\n",
       "      <th>0</th>\n",
       "      <td>Climate action needs new frontline leadership</td>\n",
       "      <td>Ozawa Bineshi Albert</td>\n",
       "      <td>December 2021</td>\n",
       "      <td>404000</td>\n",
       "      <td>12000</td>\n",
       "      <td>https://ted.com/talks/ozawa_bineshi_albert_cli...</td>\n",
       "    </tr>\n",
       "    <tr>\n",
       "      <th>1</th>\n",
       "      <td>The dark history of the overthrow of Hawaii</td>\n",
       "      <td>Sydney Iaukea</td>\n",
       "      <td>February 2022</td>\n",
       "      <td>214000</td>\n",
       "      <td>6400</td>\n",
       "      <td>https://ted.com/talks/sydney_iaukea_the_dark_h...</td>\n",
       "    </tr>\n",
       "    <tr>\n",
       "      <th>2</th>\n",
       "      <td>How play can spark new ideas for your business</td>\n",
       "      <td>Martin Reeves</td>\n",
       "      <td>September 2021</td>\n",
       "      <td>412000</td>\n",
       "      <td>12000</td>\n",
       "      <td>https://ted.com/talks/martin_reeves_how_play_c...</td>\n",
       "    </tr>\n",
       "    <tr>\n",
       "      <th>3</th>\n",
       "      <td>Why is China appointing judges to combat clima...</td>\n",
       "      <td>James K. Thornton</td>\n",
       "      <td>October 2021</td>\n",
       "      <td>427000</td>\n",
       "      <td>12000</td>\n",
       "      <td>https://ted.com/talks/james_k_thornton_why_is_...</td>\n",
       "    </tr>\n",
       "    <tr>\n",
       "      <th>4</th>\n",
       "      <td>Cement's carbon problem — and 2 ways to fix it</td>\n",
       "      <td>Mahendra Singhi</td>\n",
       "      <td>October 2021</td>\n",
       "      <td>2400</td>\n",
       "      <td>72</td>\n",
       "      <td>https://ted.com/talks/mahendra_singhi_cement_s...</td>\n",
       "    </tr>\n",
       "    <tr>\n",
       "      <th>5</th>\n",
       "      <td>The tragedy of air pollution — and an urgent d...</td>\n",
       "      <td>Rosamund Adoo-Kissi-Debrah</td>\n",
       "      <td>October 2021</td>\n",
       "      <td>422000</td>\n",
       "      <td>12000</td>\n",
       "      <td>https://ted.com/talks/rosamund_adoo_kissi_debr...</td>\n",
       "    </tr>\n",
       "    <tr>\n",
       "      <th>6</th>\n",
       "      <td>The myth of Narcissus and Echo</td>\n",
       "      <td>Iseult Gillespie</td>\n",
       "      <td>February 2022</td>\n",
       "      <td>412000</td>\n",
       "      <td>12000</td>\n",
       "      <td>https://ted.com/talks/iseult_gillespie_the_myt...</td>\n",
       "    </tr>\n",
       "    <tr>\n",
       "      <th>7</th>\n",
       "      <td>You deserve the right to repair your stuff</td>\n",
       "      <td>Gay Gordon-Byrne</td>\n",
       "      <td>August 2021</td>\n",
       "      <td>455000</td>\n",
       "      <td>13000</td>\n",
       "      <td>https://ted.com/talks/gay_gordon_byrne_you_des...</td>\n",
       "    </tr>\n",
       "    <tr>\n",
       "      <th>8</th>\n",
       "      <td>What nature can teach us about sustainable bus...</td>\n",
       "      <td>Erin Meezan</td>\n",
       "      <td>February 2022</td>\n",
       "      <td>66000</td>\n",
       "      <td>1900</td>\n",
       "      <td>https://ted.com/talks/erin_meezan_what_nature_...</td>\n",
       "    </tr>\n",
       "    <tr>\n",
       "      <th>9</th>\n",
       "      <td>The origins of blackface and Black stereotypes</td>\n",
       "      <td>Dwan Reece</td>\n",
       "      <td>March 2019</td>\n",
       "      <td>584000</td>\n",
       "      <td>17000</td>\n",
       "      <td>https://ted.com/talks/dwan_reece_the_origins_o...</td>\n",
       "    </tr>\n",
       "  </tbody>\n",
       "</table>\n",
       "</div>"
      ],
      "text/plain": [
       "                                               title  \\\n",
       "0      Climate action needs new frontline leadership   \n",
       "1        The dark history of the overthrow of Hawaii   \n",
       "2     How play can spark new ideas for your business   \n",
       "3  Why is China appointing judges to combat clima...   \n",
       "4     Cement's carbon problem — and 2 ways to fix it   \n",
       "5  The tragedy of air pollution — and an urgent d...   \n",
       "6                     The myth of Narcissus and Echo   \n",
       "7         You deserve the right to repair your stuff   \n",
       "8  What nature can teach us about sustainable bus...   \n",
       "9     The origins of blackface and Black stereotypes   \n",
       "\n",
       "                       author            date   views  likes  \\\n",
       "0        Ozawa Bineshi Albert   December 2021  404000  12000   \n",
       "1               Sydney Iaukea   February 2022  214000   6400   \n",
       "2               Martin Reeves  September 2021  412000  12000   \n",
       "3           James K. Thornton    October 2021  427000  12000   \n",
       "4             Mahendra Singhi    October 2021    2400     72   \n",
       "5  Rosamund Adoo-Kissi-Debrah    October 2021  422000  12000   \n",
       "6            Iseult Gillespie   February 2022  412000  12000   \n",
       "7            Gay Gordon-Byrne     August 2021  455000  13000   \n",
       "8                 Erin Meezan   February 2022   66000   1900   \n",
       "9                  Dwan Reece      March 2019  584000  17000   \n",
       "\n",
       "                                                link  \n",
       "0  https://ted.com/talks/ozawa_bineshi_albert_cli...  \n",
       "1  https://ted.com/talks/sydney_iaukea_the_dark_h...  \n",
       "2  https://ted.com/talks/martin_reeves_how_play_c...  \n",
       "3  https://ted.com/talks/james_k_thornton_why_is_...  \n",
       "4  https://ted.com/talks/mahendra_singhi_cement_s...  \n",
       "5  https://ted.com/talks/rosamund_adoo_kissi_debr...  \n",
       "6  https://ted.com/talks/iseult_gillespie_the_myt...  \n",
       "7  https://ted.com/talks/gay_gordon_byrne_you_des...  \n",
       "8  https://ted.com/talks/erin_meezan_what_nature_...  \n",
       "9  https://ted.com/talks/dwan_reece_the_origins_o...  "
      ]
     },
     "execution_count": 4,
     "metadata": {},
     "output_type": "execute_result"
    }
   ],
   "source": [
    "df.head(10)"
   ]
  },
  {
   "cell_type": "code",
   "execution_count": 5,
   "id": "e0e27a57",
   "metadata": {
    "execution": {
     "iopub.execute_input": "2022-05-12T13:15:05.870941Z",
     "iopub.status.busy": "2022-05-12T13:15:05.870501Z",
     "iopub.status.idle": "2022-05-12T13:15:05.881332Z",
     "shell.execute_reply": "2022-05-12T13:15:05.880490Z"
    },
    "papermill": {
     "duration": 0.068673,
     "end_time": "2022-05-12T13:15:05.883445",
     "exception": false,
     "start_time": "2022-05-12T13:15:05.814772",
     "status": "completed"
    },
    "tags": []
   },
   "outputs": [
    {
     "data": {
      "text/plain": [
       "title     0\n",
       "author    1\n",
       "date      0\n",
       "views     0\n",
       "likes     0\n",
       "link      0\n",
       "dtype: int64"
      ]
     },
     "execution_count": 5,
     "metadata": {},
     "output_type": "execute_result"
    }
   ],
   "source": [
    "df.isnull().sum()\n"
   ]
  },
  {
   "cell_type": "code",
   "execution_count": 6,
   "id": "06da1c05",
   "metadata": {
    "execution": {
     "iopub.execute_input": "2022-05-12T13:15:05.993372Z",
     "iopub.status.busy": "2022-05-12T13:15:05.992715Z",
     "iopub.status.idle": "2022-05-12T13:15:06.005509Z",
     "shell.execute_reply": "2022-05-12T13:15:06.004475Z"
    },
    "papermill": {
     "duration": 0.069965,
     "end_time": "2022-05-12T13:15:06.008008",
     "exception": false,
     "start_time": "2022-05-12T13:15:05.938043",
     "status": "completed"
    },
    "tags": []
   },
   "outputs": [],
   "source": [
    "# processed dataset where we dont have null values using in built func\n",
    "df=df.dropna()"
   ]
  },
  {
   "cell_type": "code",
   "execution_count": 7,
   "id": "0597fa18",
   "metadata": {
    "execution": {
     "iopub.execute_input": "2022-05-12T13:15:06.118812Z",
     "iopub.status.busy": "2022-05-12T13:15:06.118496Z",
     "iopub.status.idle": "2022-05-12T13:15:06.125687Z",
     "shell.execute_reply": "2022-05-12T13:15:06.125109Z"
    },
    "papermill": {
     "duration": 0.063596,
     "end_time": "2022-05-12T13:15:06.127539",
     "exception": false,
     "start_time": "2022-05-12T13:15:06.063943",
     "status": "completed"
    },
    "tags": []
   },
   "outputs": [
    {
     "data": {
      "text/plain": [
       "array([['Climate action needs new frontline leadership',\n",
       "        'Ozawa Bineshi Albert', 'December 2021', 404000, 12000,\n",
       "        'https://ted.com/talks/ozawa_bineshi_albert_climate_action_needs_new_frontline_leadership'],\n",
       "       ['The dark history of the overthrow of Hawaii', 'Sydney Iaukea',\n",
       "        'February 2022', 214000, 6400,\n",
       "        'https://ted.com/talks/sydney_iaukea_the_dark_history_of_the_overthrow_of_hawaii'],\n",
       "       ['How play can spark new ideas for your business',\n",
       "        'Martin Reeves', 'September 2021', 412000, 12000,\n",
       "        'https://ted.com/talks/martin_reeves_how_play_can_spark_new_ideas_for_your_business'],\n",
       "       ...,\n",
       "       ['Greening the ghetto', 'Majora Carter', 'February 2006', 2900000,\n",
       "        88000, 'https://ted.com/talks/majora_carter_greening_the_ghetto'],\n",
       "       ['Simplicity sells', 'David Pogue', 'February 2006', 2000000,\n",
       "        60000, 'https://ted.com/talks/david_pogue_simplicity_sells'],\n",
       "       ['Averting the climate crisis', 'Al Gore', 'February 2006',\n",
       "        3600000, 109000,\n",
       "        'https://ted.com/talks/al_gore_averting_the_climate_crisis']],\n",
       "      dtype=object)"
      ]
     },
     "execution_count": 7,
     "metadata": {},
     "output_type": "execute_result"
    }
   ],
   "source": [
    "df.values"
   ]
  },
  {
   "cell_type": "code",
   "execution_count": 8,
   "id": "5a4daf46",
   "metadata": {
    "execution": {
     "iopub.execute_input": "2022-05-12T13:15:06.237232Z",
     "iopub.status.busy": "2022-05-12T13:15:06.236735Z",
     "iopub.status.idle": "2022-05-12T13:15:06.243226Z",
     "shell.execute_reply": "2022-05-12T13:15:06.242674Z"
    },
    "papermill": {
     "duration": 0.063935,
     "end_time": "2022-05-12T13:15:06.245148",
     "exception": false,
     "start_time": "2022-05-12T13:15:06.181213",
     "status": "completed"
    },
    "tags": []
   },
   "outputs": [
    {
     "data": {
      "text/plain": [
       "5439"
      ]
     },
     "execution_count": 8,
     "metadata": {},
     "output_type": "execute_result"
    }
   ],
   "source": [
    "# shape is used to check how many rows and how many columns\n",
    "# df.values.shape()\n",
    "#list in python is called array in numpy (have same indexing slicing)and this is faster \n",
    "#as it is optimized to do multi processing\n",
    "len(df.values)"
   ]
  },
  {
   "cell_type": "code",
   "execution_count": 9,
   "id": "373d208a",
   "metadata": {
    "execution": {
     "iopub.execute_input": "2022-05-12T13:15:06.355447Z",
     "iopub.status.busy": "2022-05-12T13:15:06.355120Z",
     "iopub.status.idle": "2022-05-12T13:15:06.360284Z",
     "shell.execute_reply": "2022-05-12T13:15:06.359410Z"
    },
    "papermill": {
     "duration": 0.062731,
     "end_time": "2022-05-12T13:15:06.362314",
     "exception": false,
     "start_time": "2022-05-12T13:15:06.299583",
     "status": "completed"
    },
    "tags": []
   },
   "outputs": [],
   "source": [
    "data=df.values"
   ]
  },
  {
   "cell_type": "code",
   "execution_count": 10,
   "id": "363b8945",
   "metadata": {
    "execution": {
     "iopub.execute_input": "2022-05-12T13:15:06.472819Z",
     "iopub.status.busy": "2022-05-12T13:15:06.472067Z",
     "iopub.status.idle": "2022-05-12T13:15:06.478168Z",
     "shell.execute_reply": "2022-05-12T13:15:06.477560Z"
    },
    "papermill": {
     "duration": 0.063651,
     "end_time": "2022-05-12T13:15:06.480316",
     "exception": false,
     "start_time": "2022-05-12T13:15:06.416665",
     "status": "completed"
    },
    "tags": []
   },
   "outputs": [
    {
     "data": {
      "text/plain": [
       "array([['Climate action needs new frontline leadership',\n",
       "        'Ozawa Bineshi Albert', 'December 2021', 404000, 12000,\n",
       "        'https://ted.com/talks/ozawa_bineshi_albert_climate_action_needs_new_frontline_leadership'],\n",
       "       ['The dark history of the overthrow of Hawaii', 'Sydney Iaukea',\n",
       "        'February 2022', 214000, 6400,\n",
       "        'https://ted.com/talks/sydney_iaukea_the_dark_history_of_the_overthrow_of_hawaii'],\n",
       "       ['How play can spark new ideas for your business',\n",
       "        'Martin Reeves', 'September 2021', 412000, 12000,\n",
       "        'https://ted.com/talks/martin_reeves_how_play_can_spark_new_ideas_for_your_business'],\n",
       "       ...,\n",
       "       ['Greening the ghetto', 'Majora Carter', 'February 2006', 2900000,\n",
       "        88000, 'https://ted.com/talks/majora_carter_greening_the_ghetto'],\n",
       "       ['Simplicity sells', 'David Pogue', 'February 2006', 2000000,\n",
       "        60000, 'https://ted.com/talks/david_pogue_simplicity_sells'],\n",
       "       ['Averting the climate crisis', 'Al Gore', 'February 2006',\n",
       "        3600000, 109000,\n",
       "        'https://ted.com/talks/al_gore_averting_the_climate_crisis']],\n",
       "      dtype=object)"
      ]
     },
     "execution_count": 10,
     "metadata": {},
     "output_type": "execute_result"
    }
   ],
   "source": [
    "data"
   ]
  },
  {
   "cell_type": "code",
   "execution_count": 11,
   "id": "2ac2c404",
   "metadata": {
    "execution": {
     "iopub.execute_input": "2022-05-12T13:15:06.596946Z",
     "iopub.status.busy": "2022-05-12T13:15:06.596378Z",
     "iopub.status.idle": "2022-05-12T13:15:06.601624Z",
     "shell.execute_reply": "2022-05-12T13:15:06.600816Z"
    },
    "papermill": {
     "duration": 0.064712,
     "end_time": "2022-05-12T13:15:06.603566",
     "exception": false,
     "start_time": "2022-05-12T13:15:06.538854",
     "status": "completed"
    },
    "tags": []
   },
   "outputs": [
    {
     "data": {
      "text/plain": [
       "array(['Climate action needs new frontline leadership',\n",
       "       'Ozawa Bineshi Albert', 'December 2021', 404000, 12000,\n",
       "       'https://ted.com/talks/ozawa_bineshi_albert_climate_action_needs_new_frontline_leadership'],\n",
       "      dtype=object)"
      ]
     },
     "execution_count": 11,
     "metadata": {},
     "output_type": "execute_result"
    }
   ],
   "source": [
    "data[0]"
   ]
  },
  {
   "cell_type": "code",
   "execution_count": 12,
   "id": "d37d289c",
   "metadata": {
    "execution": {
     "iopub.execute_input": "2022-05-12T13:15:06.716294Z",
     "iopub.status.busy": "2022-05-12T13:15:06.715718Z",
     "iopub.status.idle": "2022-05-12T13:15:06.721416Z",
     "shell.execute_reply": "2022-05-12T13:15:06.720689Z"
    },
    "papermill": {
     "duration": 0.064438,
     "end_time": "2022-05-12T13:15:06.723327",
     "exception": false,
     "start_time": "2022-05-12T13:15:06.658889",
     "status": "completed"
    },
    "tags": []
   },
   "outputs": [
    {
     "data": {
      "text/plain": [
       "array(['The dark history of the overthrow of Hawaii', 'Sydney Iaukea',\n",
       "       'February 2022', 214000, 6400,\n",
       "       'https://ted.com/talks/sydney_iaukea_the_dark_history_of_the_overthrow_of_hawaii'],\n",
       "      dtype=object)"
      ]
     },
     "execution_count": 12,
     "metadata": {},
     "output_type": "execute_result"
    }
   ],
   "source": [
    "data[1]"
   ]
  },
  {
   "cell_type": "code",
   "execution_count": 13,
   "id": "c122eb96",
   "metadata": {
    "execution": {
     "iopub.execute_input": "2022-05-12T13:15:06.837255Z",
     "iopub.status.busy": "2022-05-12T13:15:06.836710Z",
     "iopub.status.idle": "2022-05-12T13:15:06.841667Z",
     "shell.execute_reply": "2022-05-12T13:15:06.840983Z"
    },
    "papermill": {
     "duration": 0.064733,
     "end_time": "2022-05-12T13:15:06.843692",
     "exception": false,
     "start_time": "2022-05-12T13:15:06.778959",
     "status": "completed"
    },
    "tags": []
   },
   "outputs": [
    {
     "data": {
      "text/plain": [
       "'Climate action needs new frontline leadership'"
      ]
     },
     "execution_count": 13,
     "metadata": {},
     "output_type": "execute_result"
    }
   ],
   "source": [
    "data[0][0]"
   ]
  },
  {
   "cell_type": "code",
   "execution_count": 14,
   "id": "488c52b9",
   "metadata": {
    "execution": {
     "iopub.execute_input": "2022-05-12T13:15:06.962204Z",
     "iopub.status.busy": "2022-05-12T13:15:06.961698Z",
     "iopub.status.idle": "2022-05-12T13:15:06.968445Z",
     "shell.execute_reply": "2022-05-12T13:15:06.967493Z"
    },
    "papermill": {
     "duration": 0.066903,
     "end_time": "2022-05-12T13:15:06.970397",
     "exception": false,
     "start_time": "2022-05-12T13:15:06.903494",
     "status": "completed"
    },
    "tags": []
   },
   "outputs": [
    {
     "data": {
      "text/plain": [
       "'Sydney Iaukea'"
      ]
     },
     "execution_count": 14,
     "metadata": {},
     "output_type": "execute_result"
    }
   ],
   "source": [
    "data[1][1]"
   ]
  },
  {
   "cell_type": "code",
   "execution_count": 15,
   "id": "521e8521",
   "metadata": {
    "execution": {
     "iopub.execute_input": "2022-05-12T13:15:07.086087Z",
     "iopub.status.busy": "2022-05-12T13:15:07.085590Z",
     "iopub.status.idle": "2022-05-12T13:15:07.095421Z",
     "shell.execute_reply": "2022-05-12T13:15:07.094498Z"
    },
    "papermill": {
     "duration": 0.070483,
     "end_time": "2022-05-12T13:15:07.097578",
     "exception": false,
     "start_time": "2022-05-12T13:15:07.027095",
     "status": "completed"
    },
    "tags": []
   },
   "outputs": [
    {
     "data": {
      "text/plain": [
       "5439"
      ]
     },
     "execution_count": 15,
     "metadata": {},
     "output_type": "execute_result"
    }
   ],
   "source": [
    "author=[]\n",
    "for i in range(len(data)):\n",
    "#     print(data[i][1])\n",
    "    author.append(data[i][1])\n",
    "#author\n",
    "len(author)#number of ted talks "
   ]
  },
  {
   "cell_type": "markdown",
   "id": "c211f60f",
   "metadata": {
    "papermill": {
     "duration": 0.056856,
     "end_time": "2022-05-12T13:15:07.210812",
     "exception": false,
     "start_time": "2022-05-12T13:15:07.153956",
     "status": "completed"
    },
    "tags": []
   },
   "source": [
    "# Total Number of Authors"
   ]
  },
  {
   "cell_type": "code",
   "execution_count": 16,
   "id": "447c7bd9",
   "metadata": {
    "execution": {
     "iopub.execute_input": "2022-05-12T13:15:07.325956Z",
     "iopub.status.busy": "2022-05-12T13:15:07.325458Z",
     "iopub.status.idle": "2022-05-12T13:15:07.335492Z",
     "shell.execute_reply": "2022-05-12T13:15:07.334619Z"
    },
    "papermill": {
     "duration": 0.070393,
     "end_time": "2022-05-12T13:15:07.337641",
     "exception": false,
     "start_time": "2022-05-12T13:15:07.267248",
     "status": "completed"
    },
    "tags": []
   },
   "outputs": [
    {
     "data": {
      "text/plain": [
       "4443"
      ]
     },
     "execution_count": 16,
     "metadata": {},
     "output_type": "execute_result"
    }
   ],
   "source": [
    "author=set()\n",
    "for i in range(len(data)):\n",
    "#     print(data[i][1])\n",
    "    author.add(data[i][1])\n",
    "#author\n",
    "len(author)#number of authors"
   ]
  },
  {
   "cell_type": "markdown",
   "id": "41d4ac53",
   "metadata": {
    "papermill": {
     "duration": 0.056484,
     "end_time": "2022-05-12T13:15:07.452642",
     "exception": false,
     "start_time": "2022-05-12T13:15:07.396158",
     "status": "completed"
    },
    "tags": []
   },
   "source": [
    "# Ted Talks of Bill Gates"
   ]
  },
  {
   "cell_type": "code",
   "execution_count": 17,
   "id": "d61c0800",
   "metadata": {
    "execution": {
     "iopub.execute_input": "2022-05-12T13:15:07.570194Z",
     "iopub.status.busy": "2022-05-12T13:15:07.569914Z",
     "iopub.status.idle": "2022-05-12T13:15:07.579426Z",
     "shell.execute_reply": "2022-05-12T13:15:07.578672Z"
    },
    "papermill": {
     "duration": 0.070756,
     "end_time": "2022-05-12T13:15:07.582120",
     "exception": false,
     "start_time": "2022-05-12T13:15:07.511364",
     "status": "completed"
    },
    "tags": []
   },
   "outputs": [
    {
     "name": "stdout",
     "output_type": "stream",
     "text": [
      "['The innovations we need to avoid a climate disaster' 'Bill Gates'\n",
      " 'March 2021' 1700000 53000\n",
      " 'https://ted.com/talks/bill_gates_the_innovations_we_need_to_avoid_a_climate_disaster']\n",
      "['How the pandemic will shape the near future' 'Bill Gates' 'June 2020'\n",
      " 4600000 138000\n",
      " 'https://ted.com/talks/bill_gates_how_the_pandemic_will_shape_the_near_future']\n",
      "['How we must respond to the coronavirus pandemic' 'Bill Gates'\n",
      " 'March 2020' 8600000 259000\n",
      " 'https://ted.com/talks/bill_gates_how_we_must_respond_to_the_coronavirus_pandemic']\n",
      "[\"The next outbreak? We're not ready\" 'Bill Gates' 'March 2015' 43000000\n",
      " 1300000\n",
      " 'https://ted.com/talks/bill_gates_the_next_outbreak_we_re_not_ready']\n",
      "['Teachers need real feedback' 'Bill Gates' 'May 2013' 4500000 135000\n",
      " 'https://ted.com/talks/bill_gates_teachers_need_real_feedback']\n",
      "['How state budgets are breaking US schools' 'Bill Gates' 'March 2011'\n",
      " 2100000 63000\n",
      " 'https://ted.com/talks/bill_gates_how_state_budgets_are_breaking_us_schools']\n",
      "['Innovating to zero!' 'Bill Gates' 'February 2010' 8100000 245000\n",
      " 'https://ted.com/talks/bill_gates_innovating_to_zero']\n",
      "['Mosquitos, malaria and education' 'Bill Gates' 'February 2009' 5200000\n",
      " 156000 'https://ted.com/talks/bill_gates_mosquitos_malaria_and_education']\n"
     ]
    }
   ],
   "source": [
    "c=0\n",
    "s=0\n",
    "for i in range(len(data)):\n",
    "    if(data[i][1]==\"Bill Gates\"):\n",
    "        print(data[i])\n",
    "        "
   ]
  },
  {
   "cell_type": "markdown",
   "id": "1b760dda",
   "metadata": {
    "papermill": {
     "duration": 0.058089,
     "end_time": "2022-05-12T13:15:07.699331",
     "exception": false,
     "start_time": "2022-05-12T13:15:07.641242",
     "status": "completed"
    },
    "tags": []
   },
   "source": [
    "# Average Number of Views Of Bill Gates' Ted Talks"
   ]
  },
  {
   "cell_type": "code",
   "execution_count": 18,
   "id": "40faaad3",
   "metadata": {
    "execution": {
     "iopub.execute_input": "2022-05-12T13:15:07.820265Z",
     "iopub.status.busy": "2022-05-12T13:15:07.819653Z",
     "iopub.status.idle": "2022-05-12T13:15:07.828135Z",
     "shell.execute_reply": "2022-05-12T13:15:07.827248Z"
    },
    "papermill": {
     "duration": 0.072309,
     "end_time": "2022-05-12T13:15:07.831175",
     "exception": false,
     "start_time": "2022-05-12T13:15:07.758866",
     "status": "completed"
    },
    "tags": []
   },
   "outputs": [
    {
     "name": "stdout",
     "output_type": "stream",
     "text": [
      "9725000.0\n"
     ]
    }
   ],
   "source": [
    "#M1\n",
    "c=0\n",
    "s=0\n",
    "for i in range(len(data)):\n",
    "    if(data[i][1]==\"Bill Gates\"):\n",
    "        s=s+data[i][3]\n",
    "        c=c+1\n",
    "        \n",
    "print(s/c)"
   ]
  },
  {
   "cell_type": "code",
   "execution_count": 19,
   "id": "87c303cf",
   "metadata": {
    "execution": {
     "iopub.execute_input": "2022-05-12T13:15:07.951833Z",
     "iopub.status.busy": "2022-05-12T13:15:07.951372Z",
     "iopub.status.idle": "2022-05-12T13:15:07.959924Z",
     "shell.execute_reply": "2022-05-12T13:15:07.958731Z"
    },
    "papermill": {
     "duration": 0.069928,
     "end_time": "2022-05-12T13:15:07.961977",
     "exception": false,
     "start_time": "2022-05-12T13:15:07.892049",
     "status": "completed"
    },
    "tags": []
   },
   "outputs": [
    {
     "name": "stdout",
     "output_type": "stream",
     "text": [
      "9725000.0\n"
     ]
    }
   ],
   "source": [
    "#M2\n",
    "billgates=[]\n",
    "for i in range(len(data)):\n",
    "    if(data[i][1]==\"Bill Gates\"):\n",
    "        billgates.append(data[i][3])\n",
    "        \n",
    "print(sum(billgates)/len(billgates))"
   ]
  },
  {
   "cell_type": "markdown",
   "id": "800214bd",
   "metadata": {
    "papermill": {
     "duration": 0.059457,
     "end_time": "2022-05-12T13:15:08.081257",
     "exception": false,
     "start_time": "2022-05-12T13:15:08.021800",
     "status": "completed"
    },
    "tags": []
   },
   "source": [
    "# The author with min views"
   ]
  },
  {
   "cell_type": "code",
   "execution_count": 20,
   "id": "e591389d",
   "metadata": {
    "execution": {
     "iopub.execute_input": "2022-05-12T13:15:08.201644Z",
     "iopub.status.busy": "2022-05-12T13:15:08.201304Z",
     "iopub.status.idle": "2022-05-12T13:15:08.218232Z",
     "shell.execute_reply": "2022-05-12T13:15:08.217290Z"
    },
    "papermill": {
     "duration": 0.078909,
     "end_time": "2022-05-12T13:15:08.220511",
     "exception": false,
     "start_time": "2022-05-12T13:15:08.141602",
     "status": "completed"
    },
    "tags": []
   },
   "outputs": [
    {
     "name": "stdout",
     "output_type": "stream",
     "text": [
      "Far Flung 1200\n"
     ]
    }
   ],
   "source": [
    "author=[]\n",
    "for i in range(len(data)):\n",
    "    pair=(data[i][3],data[i][1])\n",
    "    author.append(pair)\n",
    "author.sort()\n",
    "print(author[0][1],author[0][0])\n"
   ]
  },
  {
   "cell_type": "markdown",
   "id": "6524ed78",
   "metadata": {
    "papermill": {
     "duration": 0.05743,
     "end_time": "2022-05-12T13:15:08.336142",
     "exception": false,
     "start_time": "2022-05-12T13:15:08.278712",
     "status": "completed"
    },
    "tags": []
   },
   "source": [
    "# The author with min views"
   ]
  },
  {
   "cell_type": "code",
   "execution_count": 21,
   "id": "d2f34dd2",
   "metadata": {
    "execution": {
     "iopub.execute_input": "2022-05-12T13:15:08.457090Z",
     "iopub.status.busy": "2022-05-12T13:15:08.456485Z",
     "iopub.status.idle": "2022-05-12T13:15:08.580502Z",
     "shell.execute_reply": "2022-05-12T13:15:08.579502Z"
    },
    "papermill": {
     "duration": 0.189623,
     "end_time": "2022-05-12T13:15:08.583634",
     "exception": false,
     "start_time": "2022-05-12T13:15:08.394011",
     "status": "completed"
    },
    "tags": []
   },
   "outputs": [
    {
     "name": "stdout",
     "output_type": "stream",
     "text": [
      "Sir Ken Robinson 72000000\n"
     ]
    }
   ],
   "source": [
    "author=[]\n",
    "for i in range(len(data)):\n",
    "    pair=(data[i][3],data[i][1])\n",
    "    author.append(pair)\n",
    "author.sort()\n",
    "print(author[5438][1],author[5438][0])\n"
   ]
  },
  {
   "cell_type": "code",
   "execution_count": 22,
   "id": "831b7cac",
   "metadata": {
    "execution": {
     "iopub.execute_input": "2022-05-12T13:15:08.708594Z",
     "iopub.status.busy": "2022-05-12T13:15:08.708265Z",
     "iopub.status.idle": "2022-05-12T13:15:08.712142Z",
     "shell.execute_reply": "2022-05-12T13:15:08.711488Z"
    },
    "papermill": {
     "duration": 0.068975,
     "end_time": "2022-05-12T13:15:08.714191",
     "exception": false,
     "start_time": "2022-05-12T13:15:08.645216",
     "status": "completed"
    },
    "tags": []
   },
   "outputs": [],
   "source": [
    "# author=[]\n",
    "# for i in range(len(data)):\n",
    "#     pair=[data[i][3],data[i][1]]\n",
    "#     flag=False\n",
    "#     for j in range(len(author)):\n",
    "#         if(pair[1] == author[j][1]):\n",
    "# #             author[j][0]=author[j][0]+pair[0]\n",
    "# # https://www.geeksforgeeks.org/how-to-replace-values-in-a-list-in-python/#:~:text=We%20can%20replace%20values%20inside,new%20value%20using%20list%20slicing.\n",
    "#             newvalue=[]\n",
    "#             newvalue.append(author[j][0]+pair[0])\n",
    "#             author=author[:j]+newvalue+author[j+1:]\n",
    "#             flag=True\n",
    "#     if(flag==False):\n",
    "#         author.append(pair)\n",
    "# author.sort()\n",
    "# print(author[0][1])"
   ]
  },
  {
   "cell_type": "markdown",
   "id": "50be4088",
   "metadata": {
    "papermill": {
     "duration": 0.05992,
     "end_time": "2022-05-12T13:15:08.837024",
     "exception": false,
     "start_time": "2022-05-12T13:15:08.777104",
     "status": "completed"
    },
    "tags": []
   },
   "source": [
    "# Average View per video of Ted Talk"
   ]
  },
  {
   "cell_type": "code",
   "execution_count": 23,
   "id": "9c6c3f46",
   "metadata": {
    "execution": {
     "iopub.execute_input": "2022-05-12T13:15:08.963546Z",
     "iopub.status.busy": "2022-05-12T13:15:08.962942Z",
     "iopub.status.idle": "2022-05-12T13:15:08.972524Z",
     "shell.execute_reply": "2022-05-12T13:15:08.971519Z"
    },
    "papermill": {
     "duration": 0.07677,
     "end_time": "2022-05-12T13:15:08.975249",
     "exception": false,
     "start_time": "2022-05-12T13:15:08.898479",
     "status": "completed"
    },
    "tags": []
   },
   "outputs": [
    {
     "data": {
      "text/plain": [
       "2061954"
      ]
     },
     "execution_count": 23,
     "metadata": {},
     "output_type": "execute_result"
    }
   ],
   "source": [
    "view=[]\n",
    "for i in range(len(data)):\n",
    "    view.append(data[i][3])\n",
    "    \n",
    "int(sum(view)/len(view))\n"
   ]
  },
  {
   "cell_type": "markdown",
   "id": "12c691ee",
   "metadata": {
    "papermill": {
     "duration": 0.060607,
     "end_time": "2022-05-12T13:15:09.097978",
     "exception": false,
     "start_time": "2022-05-12T13:15:09.037371",
     "status": "completed"
    },
    "tags": []
   },
   "source": [
    "# Average View per video of Ted Talk of Bill Gates"
   ]
  },
  {
   "cell_type": "code",
   "execution_count": 24,
   "id": "bd547b96",
   "metadata": {
    "execution": {
     "iopub.execute_input": "2022-05-12T13:15:09.218969Z",
     "iopub.status.busy": "2022-05-12T13:15:09.218660Z",
     "iopub.status.idle": "2022-05-12T13:15:09.228590Z",
     "shell.execute_reply": "2022-05-12T13:15:09.227508Z"
    },
    "papermill": {
     "duration": 0.072625,
     "end_time": "2022-05-12T13:15:09.230642",
     "exception": false,
     "start_time": "2022-05-12T13:15:09.158017",
     "status": "completed"
    },
    "tags": []
   },
   "outputs": [
    {
     "data": {
      "text/plain": [
       "9725000"
      ]
     },
     "execution_count": 24,
     "metadata": {},
     "output_type": "execute_result"
    }
   ],
   "source": [
    "view=[]\n",
    "for i in range(len(data)):\n",
    "    if(data[i][1]==\"Bill Gates\"):\n",
    "        view.append(data[i][3])\n",
    "    \n",
    "int(sum(view)/len(view))\n"
   ]
  },
  {
   "cell_type": "markdown",
   "id": "9872ded8",
   "metadata": {
    "papermill": {
     "duration": 0.062964,
     "end_time": "2022-05-12T13:15:09.353615",
     "exception": false,
     "start_time": "2022-05-12T13:15:09.290651",
     "status": "completed"
    },
    "tags": []
   },
   "source": [
    "# Most Popular Ted Talk : like/view ratio"
   ]
  },
  {
   "cell_type": "code",
   "execution_count": 25,
   "id": "a9333c83",
   "metadata": {
    "execution": {
     "iopub.execute_input": "2022-05-12T13:15:09.474789Z",
     "iopub.status.busy": "2022-05-12T13:15:09.474477Z",
     "iopub.status.idle": "2022-05-12T13:15:09.486795Z",
     "shell.execute_reply": "2022-05-12T13:15:09.485612Z"
    },
    "papermill": {
     "duration": 0.07576,
     "end_time": "2022-05-12T13:15:09.489206",
     "exception": false,
     "start_time": "2022-05-12T13:15:09.413446",
     "status": "completed"
    },
    "tags": []
   },
   "outputs": [
    {
     "name": "stdout",
     "output_type": "stream",
     "text": [
      "36 30\n"
     ]
    }
   ],
   "source": [
    "vtol=[]\n",
    "for i in range(len(data)):\n",
    "#     print(data[i][3],data[i][4],data[i][3]/data[i][4])\n",
    "    vtol.append(int(data[i][3]/data[i][4]))\n",
    "\n",
    "# min(vtol)\n",
    "# max(vtol) #last value will be printed without print\n",
    "print(max(vtol),min(vtol))"
   ]
  },
  {
   "cell_type": "code",
   "execution_count": 26,
   "id": "65ed2b95",
   "metadata": {
    "execution": {
     "iopub.execute_input": "2022-05-12T13:15:09.614225Z",
     "iopub.status.busy": "2022-05-12T13:15:09.613916Z",
     "iopub.status.idle": "2022-05-12T13:15:09.625165Z",
     "shell.execute_reply": "2022-05-12T13:15:09.624474Z"
    },
    "papermill": {
     "duration": 0.076223,
     "end_time": "2022-05-12T13:15:09.627515",
     "exception": false,
     "start_time": "2022-05-12T13:15:09.551292",
     "status": "completed"
    },
    "tags": []
   },
   "outputs": [
    {
     "name": "stderr",
     "output_type": "stream",
     "text": [
      "/opt/conda/lib/python3.7/site-packages/ipykernel_launcher.py:1: SettingWithCopyWarning: \n",
      "A value is trying to be set on a copy of a slice from a DataFrame.\n",
      "Try using .loc[row_indexer,col_indexer] = value instead\n",
      "\n",
      "See the caveats in the documentation: https://pandas.pydata.org/pandas-docs/stable/user_guide/indexing.html#returning-a-view-versus-a-copy\n",
      "  \"\"\"Entry point for launching an IPython kernel.\n"
     ]
    }
   ],
   "source": [
    "df['View To Like Ratio']=vtol"
   ]
  },
  {
   "cell_type": "code",
   "execution_count": 27,
   "id": "3ec87bf8",
   "metadata": {
    "execution": {
     "iopub.execute_input": "2022-05-12T13:15:09.753422Z",
     "iopub.status.busy": "2022-05-12T13:15:09.753080Z",
     "iopub.status.idle": "2022-05-12T13:15:09.771092Z",
     "shell.execute_reply": "2022-05-12T13:15:09.770463Z"
    },
    "papermill": {
     "duration": 0.083922,
     "end_time": "2022-05-12T13:15:09.772990",
     "exception": false,
     "start_time": "2022-05-12T13:15:09.689068",
     "status": "completed"
    },
    "tags": []
   },
   "outputs": [
    {
     "data": {
      "text/html": [
       "<div>\n",
       "<style scoped>\n",
       "    .dataframe tbody tr th:only-of-type {\n",
       "        vertical-align: middle;\n",
       "    }\n",
       "\n",
       "    .dataframe tbody tr th {\n",
       "        vertical-align: top;\n",
       "    }\n",
       "\n",
       "    .dataframe thead th {\n",
       "        text-align: right;\n",
       "    }\n",
       "</style>\n",
       "<table border=\"1\" class=\"dataframe\">\n",
       "  <thead>\n",
       "    <tr style=\"text-align: right;\">\n",
       "      <th></th>\n",
       "      <th>title</th>\n",
       "      <th>author</th>\n",
       "      <th>date</th>\n",
       "      <th>views</th>\n",
       "      <th>likes</th>\n",
       "      <th>link</th>\n",
       "      <th>View To Like Ratio</th>\n",
       "    </tr>\n",
       "  </thead>\n",
       "  <tbody>\n",
       "    <tr>\n",
       "      <th>0</th>\n",
       "      <td>Climate action needs new frontline leadership</td>\n",
       "      <td>Ozawa Bineshi Albert</td>\n",
       "      <td>December 2021</td>\n",
       "      <td>404000</td>\n",
       "      <td>12000</td>\n",
       "      <td>https://ted.com/talks/ozawa_bineshi_albert_cli...</td>\n",
       "      <td>33</td>\n",
       "    </tr>\n",
       "    <tr>\n",
       "      <th>1</th>\n",
       "      <td>The dark history of the overthrow of Hawaii</td>\n",
       "      <td>Sydney Iaukea</td>\n",
       "      <td>February 2022</td>\n",
       "      <td>214000</td>\n",
       "      <td>6400</td>\n",
       "      <td>https://ted.com/talks/sydney_iaukea_the_dark_h...</td>\n",
       "      <td>33</td>\n",
       "    </tr>\n",
       "    <tr>\n",
       "      <th>2</th>\n",
       "      <td>How play can spark new ideas for your business</td>\n",
       "      <td>Martin Reeves</td>\n",
       "      <td>September 2021</td>\n",
       "      <td>412000</td>\n",
       "      <td>12000</td>\n",
       "      <td>https://ted.com/talks/martin_reeves_how_play_c...</td>\n",
       "      <td>34</td>\n",
       "    </tr>\n",
       "    <tr>\n",
       "      <th>3</th>\n",
       "      <td>Why is China appointing judges to combat clima...</td>\n",
       "      <td>James K. Thornton</td>\n",
       "      <td>October 2021</td>\n",
       "      <td>427000</td>\n",
       "      <td>12000</td>\n",
       "      <td>https://ted.com/talks/james_k_thornton_why_is_...</td>\n",
       "      <td>35</td>\n",
       "    </tr>\n",
       "    <tr>\n",
       "      <th>4</th>\n",
       "      <td>Cement's carbon problem — and 2 ways to fix it</td>\n",
       "      <td>Mahendra Singhi</td>\n",
       "      <td>October 2021</td>\n",
       "      <td>2400</td>\n",
       "      <td>72</td>\n",
       "      <td>https://ted.com/talks/mahendra_singhi_cement_s...</td>\n",
       "      <td>33</td>\n",
       "    </tr>\n",
       "    <tr>\n",
       "      <th>...</th>\n",
       "      <td>...</td>\n",
       "      <td>...</td>\n",
       "      <td>...</td>\n",
       "      <td>...</td>\n",
       "      <td>...</td>\n",
       "      <td>...</td>\n",
       "      <td>...</td>\n",
       "    </tr>\n",
       "    <tr>\n",
       "      <th>5435</th>\n",
       "      <td>The best stats you've ever seen</td>\n",
       "      <td>Hans Rosling</td>\n",
       "      <td>February 2006</td>\n",
       "      <td>15000000</td>\n",
       "      <td>458000</td>\n",
       "      <td>https://ted.com/talks/hans_rosling_the_best_st...</td>\n",
       "      <td>32</td>\n",
       "    </tr>\n",
       "    <tr>\n",
       "      <th>5436</th>\n",
       "      <td>Do schools kill creativity?</td>\n",
       "      <td>Sir Ken Robinson</td>\n",
       "      <td>February 2006</td>\n",
       "      <td>72000000</td>\n",
       "      <td>2100000</td>\n",
       "      <td>https://ted.com/talks/sir_ken_robinson_do_scho...</td>\n",
       "      <td>34</td>\n",
       "    </tr>\n",
       "    <tr>\n",
       "      <th>5437</th>\n",
       "      <td>Greening the ghetto</td>\n",
       "      <td>Majora Carter</td>\n",
       "      <td>February 2006</td>\n",
       "      <td>2900000</td>\n",
       "      <td>88000</td>\n",
       "      <td>https://ted.com/talks/majora_carter_greening_t...</td>\n",
       "      <td>32</td>\n",
       "    </tr>\n",
       "    <tr>\n",
       "      <th>5438</th>\n",
       "      <td>Simplicity sells</td>\n",
       "      <td>David Pogue</td>\n",
       "      <td>February 2006</td>\n",
       "      <td>2000000</td>\n",
       "      <td>60000</td>\n",
       "      <td>https://ted.com/talks/david_pogue_simplicity_s...</td>\n",
       "      <td>33</td>\n",
       "    </tr>\n",
       "    <tr>\n",
       "      <th>5439</th>\n",
       "      <td>Averting the climate crisis</td>\n",
       "      <td>Al Gore</td>\n",
       "      <td>February 2006</td>\n",
       "      <td>3600000</td>\n",
       "      <td>109000</td>\n",
       "      <td>https://ted.com/talks/al_gore_averting_the_cli...</td>\n",
       "      <td>33</td>\n",
       "    </tr>\n",
       "  </tbody>\n",
       "</table>\n",
       "<p>5439 rows × 7 columns</p>\n",
       "</div>"
      ],
      "text/plain": [
       "                                                  title                author  \\\n",
       "0         Climate action needs new frontline leadership  Ozawa Bineshi Albert   \n",
       "1           The dark history of the overthrow of Hawaii         Sydney Iaukea   \n",
       "2        How play can spark new ideas for your business         Martin Reeves   \n",
       "3     Why is China appointing judges to combat clima...     James K. Thornton   \n",
       "4        Cement's carbon problem — and 2 ways to fix it       Mahendra Singhi   \n",
       "...                                                 ...                   ...   \n",
       "5435                    The best stats you've ever seen          Hans Rosling   \n",
       "5436                        Do schools kill creativity?      Sir Ken Robinson   \n",
       "5437                                Greening the ghetto         Majora Carter   \n",
       "5438                                   Simplicity sells           David Pogue   \n",
       "5439                        Averting the climate crisis               Al Gore   \n",
       "\n",
       "                date     views    likes  \\\n",
       "0      December 2021    404000    12000   \n",
       "1      February 2022    214000     6400   \n",
       "2     September 2021    412000    12000   \n",
       "3       October 2021    427000    12000   \n",
       "4       October 2021      2400       72   \n",
       "...              ...       ...      ...   \n",
       "5435   February 2006  15000000   458000   \n",
       "5436   February 2006  72000000  2100000   \n",
       "5437   February 2006   2900000    88000   \n",
       "5438   February 2006   2000000    60000   \n",
       "5439   February 2006   3600000   109000   \n",
       "\n",
       "                                                   link  View To Like Ratio  \n",
       "0     https://ted.com/talks/ozawa_bineshi_albert_cli...                  33  \n",
       "1     https://ted.com/talks/sydney_iaukea_the_dark_h...                  33  \n",
       "2     https://ted.com/talks/martin_reeves_how_play_c...                  34  \n",
       "3     https://ted.com/talks/james_k_thornton_why_is_...                  35  \n",
       "4     https://ted.com/talks/mahendra_singhi_cement_s...                  33  \n",
       "...                                                 ...                 ...  \n",
       "5435  https://ted.com/talks/hans_rosling_the_best_st...                  32  \n",
       "5436  https://ted.com/talks/sir_ken_robinson_do_scho...                  34  \n",
       "5437  https://ted.com/talks/majora_carter_greening_t...                  32  \n",
       "5438  https://ted.com/talks/david_pogue_simplicity_s...                  33  \n",
       "5439  https://ted.com/talks/al_gore_averting_the_cli...                  33  \n",
       "\n",
       "[5439 rows x 7 columns]"
      ]
     },
     "execution_count": 27,
     "metadata": {},
     "output_type": "execute_result"
    }
   ],
   "source": [
    "df"
   ]
  },
  {
   "cell_type": "code",
   "execution_count": 28,
   "id": "7142dcb3",
   "metadata": {
    "execution": {
     "iopub.execute_input": "2022-05-12T13:15:09.901393Z",
     "iopub.status.busy": "2022-05-12T13:15:09.900925Z",
     "iopub.status.idle": "2022-05-12T13:15:09.904839Z",
     "shell.execute_reply": "2022-05-12T13:15:09.904085Z"
    },
    "papermill": {
     "duration": 0.070974,
     "end_time": "2022-05-12T13:15:09.906797",
     "exception": false,
     "start_time": "2022-05-12T13:15:09.835823",
     "status": "completed"
    },
    "tags": []
   },
   "outputs": [],
   "source": [
    "# del df['view_to_like_ratio']"
   ]
  },
  {
   "cell_type": "code",
   "execution_count": 29,
   "id": "73850cce",
   "metadata": {
    "execution": {
     "iopub.execute_input": "2022-05-12T13:15:10.033475Z",
     "iopub.status.busy": "2022-05-12T13:15:10.032671Z",
     "iopub.status.idle": "2022-05-12T13:15:10.048193Z",
     "shell.execute_reply": "2022-05-12T13:15:10.047511Z"
    },
    "papermill": {
     "duration": 0.080539,
     "end_time": "2022-05-12T13:15:10.050143",
     "exception": false,
     "start_time": "2022-05-12T13:15:09.969604",
     "status": "completed"
    },
    "tags": []
   },
   "outputs": [
    {
     "data": {
      "text/html": [
       "<div>\n",
       "<style scoped>\n",
       "    .dataframe tbody tr th:only-of-type {\n",
       "        vertical-align: middle;\n",
       "    }\n",
       "\n",
       "    .dataframe tbody tr th {\n",
       "        vertical-align: top;\n",
       "    }\n",
       "\n",
       "    .dataframe thead th {\n",
       "        text-align: right;\n",
       "    }\n",
       "</style>\n",
       "<table border=\"1\" class=\"dataframe\">\n",
       "  <thead>\n",
       "    <tr style=\"text-align: right;\">\n",
       "      <th></th>\n",
       "      <th>title</th>\n",
       "      <th>author</th>\n",
       "      <th>date</th>\n",
       "      <th>views</th>\n",
       "      <th>likes</th>\n",
       "      <th>link</th>\n",
       "      <th>View To Like Ratio</th>\n",
       "    </tr>\n",
       "  </thead>\n",
       "  <tbody>\n",
       "    <tr>\n",
       "      <th>0</th>\n",
       "      <td>Climate action needs new frontline leadership</td>\n",
       "      <td>Ozawa Bineshi Albert</td>\n",
       "      <td>December 2021</td>\n",
       "      <td>404000</td>\n",
       "      <td>12000</td>\n",
       "      <td>https://ted.com/talks/ozawa_bineshi_albert_cli...</td>\n",
       "      <td>33</td>\n",
       "    </tr>\n",
       "    <tr>\n",
       "      <th>1</th>\n",
       "      <td>The dark history of the overthrow of Hawaii</td>\n",
       "      <td>Sydney Iaukea</td>\n",
       "      <td>February 2022</td>\n",
       "      <td>214000</td>\n",
       "      <td>6400</td>\n",
       "      <td>https://ted.com/talks/sydney_iaukea_the_dark_h...</td>\n",
       "      <td>33</td>\n",
       "    </tr>\n",
       "    <tr>\n",
       "      <th>2</th>\n",
       "      <td>How play can spark new ideas for your business</td>\n",
       "      <td>Martin Reeves</td>\n",
       "      <td>September 2021</td>\n",
       "      <td>412000</td>\n",
       "      <td>12000</td>\n",
       "      <td>https://ted.com/talks/martin_reeves_how_play_c...</td>\n",
       "      <td>34</td>\n",
       "    </tr>\n",
       "    <tr>\n",
       "      <th>3</th>\n",
       "      <td>Why is China appointing judges to combat clima...</td>\n",
       "      <td>James K. Thornton</td>\n",
       "      <td>October 2021</td>\n",
       "      <td>427000</td>\n",
       "      <td>12000</td>\n",
       "      <td>https://ted.com/talks/james_k_thornton_why_is_...</td>\n",
       "      <td>35</td>\n",
       "    </tr>\n",
       "    <tr>\n",
       "      <th>4</th>\n",
       "      <td>Cement's carbon problem — and 2 ways to fix it</td>\n",
       "      <td>Mahendra Singhi</td>\n",
       "      <td>October 2021</td>\n",
       "      <td>2400</td>\n",
       "      <td>72</td>\n",
       "      <td>https://ted.com/talks/mahendra_singhi_cement_s...</td>\n",
       "      <td>33</td>\n",
       "    </tr>\n",
       "    <tr>\n",
       "      <th>...</th>\n",
       "      <td>...</td>\n",
       "      <td>...</td>\n",
       "      <td>...</td>\n",
       "      <td>...</td>\n",
       "      <td>...</td>\n",
       "      <td>...</td>\n",
       "      <td>...</td>\n",
       "    </tr>\n",
       "    <tr>\n",
       "      <th>5435</th>\n",
       "      <td>The best stats you've ever seen</td>\n",
       "      <td>Hans Rosling</td>\n",
       "      <td>February 2006</td>\n",
       "      <td>15000000</td>\n",
       "      <td>458000</td>\n",
       "      <td>https://ted.com/talks/hans_rosling_the_best_st...</td>\n",
       "      <td>32</td>\n",
       "    </tr>\n",
       "    <tr>\n",
       "      <th>5436</th>\n",
       "      <td>Do schools kill creativity?</td>\n",
       "      <td>Sir Ken Robinson</td>\n",
       "      <td>February 2006</td>\n",
       "      <td>72000000</td>\n",
       "      <td>2100000</td>\n",
       "      <td>https://ted.com/talks/sir_ken_robinson_do_scho...</td>\n",
       "      <td>34</td>\n",
       "    </tr>\n",
       "    <tr>\n",
       "      <th>5437</th>\n",
       "      <td>Greening the ghetto</td>\n",
       "      <td>Majora Carter</td>\n",
       "      <td>February 2006</td>\n",
       "      <td>2900000</td>\n",
       "      <td>88000</td>\n",
       "      <td>https://ted.com/talks/majora_carter_greening_t...</td>\n",
       "      <td>32</td>\n",
       "    </tr>\n",
       "    <tr>\n",
       "      <th>5438</th>\n",
       "      <td>Simplicity sells</td>\n",
       "      <td>David Pogue</td>\n",
       "      <td>February 2006</td>\n",
       "      <td>2000000</td>\n",
       "      <td>60000</td>\n",
       "      <td>https://ted.com/talks/david_pogue_simplicity_s...</td>\n",
       "      <td>33</td>\n",
       "    </tr>\n",
       "    <tr>\n",
       "      <th>5439</th>\n",
       "      <td>Averting the climate crisis</td>\n",
       "      <td>Al Gore</td>\n",
       "      <td>February 2006</td>\n",
       "      <td>3600000</td>\n",
       "      <td>109000</td>\n",
       "      <td>https://ted.com/talks/al_gore_averting_the_cli...</td>\n",
       "      <td>33</td>\n",
       "    </tr>\n",
       "  </tbody>\n",
       "</table>\n",
       "<p>5439 rows × 7 columns</p>\n",
       "</div>"
      ],
      "text/plain": [
       "                                                  title                author  \\\n",
       "0         Climate action needs new frontline leadership  Ozawa Bineshi Albert   \n",
       "1           The dark history of the overthrow of Hawaii         Sydney Iaukea   \n",
       "2        How play can spark new ideas for your business         Martin Reeves   \n",
       "3     Why is China appointing judges to combat clima...     James K. Thornton   \n",
       "4        Cement's carbon problem — and 2 ways to fix it       Mahendra Singhi   \n",
       "...                                                 ...                   ...   \n",
       "5435                    The best stats you've ever seen          Hans Rosling   \n",
       "5436                        Do schools kill creativity?      Sir Ken Robinson   \n",
       "5437                                Greening the ghetto         Majora Carter   \n",
       "5438                                   Simplicity sells           David Pogue   \n",
       "5439                        Averting the climate crisis               Al Gore   \n",
       "\n",
       "                date     views    likes  \\\n",
       "0      December 2021    404000    12000   \n",
       "1      February 2022    214000     6400   \n",
       "2     September 2021    412000    12000   \n",
       "3       October 2021    427000    12000   \n",
       "4       October 2021      2400       72   \n",
       "...              ...       ...      ...   \n",
       "5435   February 2006  15000000   458000   \n",
       "5436   February 2006  72000000  2100000   \n",
       "5437   February 2006   2900000    88000   \n",
       "5438   February 2006   2000000    60000   \n",
       "5439   February 2006   3600000   109000   \n",
       "\n",
       "                                                   link  View To Like Ratio  \n",
       "0     https://ted.com/talks/ozawa_bineshi_albert_cli...                  33  \n",
       "1     https://ted.com/talks/sydney_iaukea_the_dark_h...                  33  \n",
       "2     https://ted.com/talks/martin_reeves_how_play_c...                  34  \n",
       "3     https://ted.com/talks/james_k_thornton_why_is_...                  35  \n",
       "4     https://ted.com/talks/mahendra_singhi_cement_s...                  33  \n",
       "...                                                 ...                 ...  \n",
       "5435  https://ted.com/talks/hans_rosling_the_best_st...                  32  \n",
       "5436  https://ted.com/talks/sir_ken_robinson_do_scho...                  34  \n",
       "5437  https://ted.com/talks/majora_carter_greening_t...                  32  \n",
       "5438  https://ted.com/talks/david_pogue_simplicity_s...                  33  \n",
       "5439  https://ted.com/talks/al_gore_averting_the_cli...                  33  \n",
       "\n",
       "[5439 rows x 7 columns]"
      ]
     },
     "execution_count": 29,
     "metadata": {},
     "output_type": "execute_result"
    }
   ],
   "source": [
    "df"
   ]
  },
  {
   "cell_type": "code",
   "execution_count": 30,
   "id": "dc029d06",
   "metadata": {
    "execution": {
     "iopub.execute_input": "2022-05-12T13:15:10.182220Z",
     "iopub.status.busy": "2022-05-12T13:15:10.181314Z",
     "iopub.status.idle": "2022-05-12T13:15:10.185309Z",
     "shell.execute_reply": "2022-05-12T13:15:10.184655Z"
    },
    "papermill": {
     "duration": 0.074027,
     "end_time": "2022-05-12T13:15:10.188367",
     "exception": false,
     "start_time": "2022-05-12T13:15:10.114340",
     "status": "completed"
    },
    "tags": []
   },
   "outputs": [],
   "source": [
    "#del df.view to like ratio\n",
    "# del df['view to like ratio']"
   ]
  },
  {
   "cell_type": "code",
   "execution_count": 31,
   "id": "6908f6f2",
   "metadata": {
    "execution": {
     "iopub.execute_input": "2022-05-12T13:15:10.316579Z",
     "iopub.status.busy": "2022-05-12T13:15:10.316266Z",
     "iopub.status.idle": "2022-05-12T13:15:10.334316Z",
     "shell.execute_reply": "2022-05-12T13:15:10.333337Z"
    },
    "papermill": {
     "duration": 0.08397,
     "end_time": "2022-05-12T13:15:10.336577",
     "exception": false,
     "start_time": "2022-05-12T13:15:10.252607",
     "status": "completed"
    },
    "tags": []
   },
   "outputs": [
    {
     "data": {
      "text/html": [
       "<div>\n",
       "<style scoped>\n",
       "    .dataframe tbody tr th:only-of-type {\n",
       "        vertical-align: middle;\n",
       "    }\n",
       "\n",
       "    .dataframe tbody tr th {\n",
       "        vertical-align: top;\n",
       "    }\n",
       "\n",
       "    .dataframe thead th {\n",
       "        text-align: right;\n",
       "    }\n",
       "</style>\n",
       "<table border=\"1\" class=\"dataframe\">\n",
       "  <thead>\n",
       "    <tr style=\"text-align: right;\">\n",
       "      <th></th>\n",
       "      <th>title</th>\n",
       "      <th>author</th>\n",
       "      <th>date</th>\n",
       "      <th>views</th>\n",
       "      <th>likes</th>\n",
       "      <th>link</th>\n",
       "      <th>View To Like Ratio</th>\n",
       "    </tr>\n",
       "  </thead>\n",
       "  <tbody>\n",
       "    <tr>\n",
       "      <th>0</th>\n",
       "      <td>Climate action needs new frontline leadership</td>\n",
       "      <td>Ozawa Bineshi Albert</td>\n",
       "      <td>December 2021</td>\n",
       "      <td>404000</td>\n",
       "      <td>12000</td>\n",
       "      <td>https://ted.com/talks/ozawa_bineshi_albert_cli...</td>\n",
       "      <td>33</td>\n",
       "    </tr>\n",
       "    <tr>\n",
       "      <th>1</th>\n",
       "      <td>The dark history of the overthrow of Hawaii</td>\n",
       "      <td>Sydney Iaukea</td>\n",
       "      <td>February 2022</td>\n",
       "      <td>214000</td>\n",
       "      <td>6400</td>\n",
       "      <td>https://ted.com/talks/sydney_iaukea_the_dark_h...</td>\n",
       "      <td>33</td>\n",
       "    </tr>\n",
       "    <tr>\n",
       "      <th>2</th>\n",
       "      <td>How play can spark new ideas for your business</td>\n",
       "      <td>Martin Reeves</td>\n",
       "      <td>September 2021</td>\n",
       "      <td>412000</td>\n",
       "      <td>12000</td>\n",
       "      <td>https://ted.com/talks/martin_reeves_how_play_c...</td>\n",
       "      <td>34</td>\n",
       "    </tr>\n",
       "    <tr>\n",
       "      <th>3</th>\n",
       "      <td>Why is China appointing judges to combat clima...</td>\n",
       "      <td>James K. Thornton</td>\n",
       "      <td>October 2021</td>\n",
       "      <td>427000</td>\n",
       "      <td>12000</td>\n",
       "      <td>https://ted.com/talks/james_k_thornton_why_is_...</td>\n",
       "      <td>35</td>\n",
       "    </tr>\n",
       "    <tr>\n",
       "      <th>4</th>\n",
       "      <td>Cement's carbon problem — and 2 ways to fix it</td>\n",
       "      <td>Mahendra Singhi</td>\n",
       "      <td>October 2021</td>\n",
       "      <td>2400</td>\n",
       "      <td>72</td>\n",
       "      <td>https://ted.com/talks/mahendra_singhi_cement_s...</td>\n",
       "      <td>33</td>\n",
       "    </tr>\n",
       "    <tr>\n",
       "      <th>...</th>\n",
       "      <td>...</td>\n",
       "      <td>...</td>\n",
       "      <td>...</td>\n",
       "      <td>...</td>\n",
       "      <td>...</td>\n",
       "      <td>...</td>\n",
       "      <td>...</td>\n",
       "    </tr>\n",
       "    <tr>\n",
       "      <th>5435</th>\n",
       "      <td>The best stats you've ever seen</td>\n",
       "      <td>Hans Rosling</td>\n",
       "      <td>February 2006</td>\n",
       "      <td>15000000</td>\n",
       "      <td>458000</td>\n",
       "      <td>https://ted.com/talks/hans_rosling_the_best_st...</td>\n",
       "      <td>32</td>\n",
       "    </tr>\n",
       "    <tr>\n",
       "      <th>5436</th>\n",
       "      <td>Do schools kill creativity?</td>\n",
       "      <td>Sir Ken Robinson</td>\n",
       "      <td>February 2006</td>\n",
       "      <td>72000000</td>\n",
       "      <td>2100000</td>\n",
       "      <td>https://ted.com/talks/sir_ken_robinson_do_scho...</td>\n",
       "      <td>34</td>\n",
       "    </tr>\n",
       "    <tr>\n",
       "      <th>5437</th>\n",
       "      <td>Greening the ghetto</td>\n",
       "      <td>Majora Carter</td>\n",
       "      <td>February 2006</td>\n",
       "      <td>2900000</td>\n",
       "      <td>88000</td>\n",
       "      <td>https://ted.com/talks/majora_carter_greening_t...</td>\n",
       "      <td>32</td>\n",
       "    </tr>\n",
       "    <tr>\n",
       "      <th>5438</th>\n",
       "      <td>Simplicity sells</td>\n",
       "      <td>David Pogue</td>\n",
       "      <td>February 2006</td>\n",
       "      <td>2000000</td>\n",
       "      <td>60000</td>\n",
       "      <td>https://ted.com/talks/david_pogue_simplicity_s...</td>\n",
       "      <td>33</td>\n",
       "    </tr>\n",
       "    <tr>\n",
       "      <th>5439</th>\n",
       "      <td>Averting the climate crisis</td>\n",
       "      <td>Al Gore</td>\n",
       "      <td>February 2006</td>\n",
       "      <td>3600000</td>\n",
       "      <td>109000</td>\n",
       "      <td>https://ted.com/talks/al_gore_averting_the_cli...</td>\n",
       "      <td>33</td>\n",
       "    </tr>\n",
       "  </tbody>\n",
       "</table>\n",
       "<p>5439 rows × 7 columns</p>\n",
       "</div>"
      ],
      "text/plain": [
       "                                                  title                author  \\\n",
       "0         Climate action needs new frontline leadership  Ozawa Bineshi Albert   \n",
       "1           The dark history of the overthrow of Hawaii         Sydney Iaukea   \n",
       "2        How play can spark new ideas for your business         Martin Reeves   \n",
       "3     Why is China appointing judges to combat clima...     James K. Thornton   \n",
       "4        Cement's carbon problem — and 2 ways to fix it       Mahendra Singhi   \n",
       "...                                                 ...                   ...   \n",
       "5435                    The best stats you've ever seen          Hans Rosling   \n",
       "5436                        Do schools kill creativity?      Sir Ken Robinson   \n",
       "5437                                Greening the ghetto         Majora Carter   \n",
       "5438                                   Simplicity sells           David Pogue   \n",
       "5439                        Averting the climate crisis               Al Gore   \n",
       "\n",
       "                date     views    likes  \\\n",
       "0      December 2021    404000    12000   \n",
       "1      February 2022    214000     6400   \n",
       "2     September 2021    412000    12000   \n",
       "3       October 2021    427000    12000   \n",
       "4       October 2021      2400       72   \n",
       "...              ...       ...      ...   \n",
       "5435   February 2006  15000000   458000   \n",
       "5436   February 2006  72000000  2100000   \n",
       "5437   February 2006   2900000    88000   \n",
       "5438   February 2006   2000000    60000   \n",
       "5439   February 2006   3600000   109000   \n",
       "\n",
       "                                                   link  View To Like Ratio  \n",
       "0     https://ted.com/talks/ozawa_bineshi_albert_cli...                  33  \n",
       "1     https://ted.com/talks/sydney_iaukea_the_dark_h...                  33  \n",
       "2     https://ted.com/talks/martin_reeves_how_play_c...                  34  \n",
       "3     https://ted.com/talks/james_k_thornton_why_is_...                  35  \n",
       "4     https://ted.com/talks/mahendra_singhi_cement_s...                  33  \n",
       "...                                                 ...                 ...  \n",
       "5435  https://ted.com/talks/hans_rosling_the_best_st...                  32  \n",
       "5436  https://ted.com/talks/sir_ken_robinson_do_scho...                  34  \n",
       "5437  https://ted.com/talks/majora_carter_greening_t...                  32  \n",
       "5438  https://ted.com/talks/david_pogue_simplicity_s...                  33  \n",
       "5439  https://ted.com/talks/al_gore_averting_the_cli...                  33  \n",
       "\n",
       "[5439 rows x 7 columns]"
      ]
     },
     "execution_count": 31,
     "metadata": {},
     "output_type": "execute_result"
    }
   ],
   "source": [
    "df"
   ]
  },
  {
   "cell_type": "code",
   "execution_count": 32,
   "id": "399037cb",
   "metadata": {
    "execution": {
     "iopub.execute_input": "2022-05-12T13:15:10.464960Z",
     "iopub.status.busy": "2022-05-12T13:15:10.464417Z",
     "iopub.status.idle": "2022-05-12T13:15:10.471523Z",
     "shell.execute_reply": "2022-05-12T13:15:10.470795Z"
    },
    "papermill": {
     "duration": 0.073526,
     "end_time": "2022-05-12T13:15:10.473506",
     "exception": false,
     "start_time": "2022-05-12T13:15:10.399980",
     "status": "completed"
    },
    "tags": []
   },
   "outputs": [
    {
     "data": {
      "text/plain": [
       "0           Climate action needs new frontline leadership\n",
       "1             The dark history of the overthrow of Hawaii\n",
       "2          How play can spark new ideas for your business\n",
       "3       Why is China appointing judges to combat clima...\n",
       "4          Cement's carbon problem — and 2 ways to fix it\n",
       "                              ...                        \n",
       "5435                      The best stats you've ever seen\n",
       "5436                          Do schools kill creativity?\n",
       "5437                                  Greening the ghetto\n",
       "5438                                     Simplicity sells\n",
       "5439                          Averting the climate crisis\n",
       "Name: title, Length: 5439, dtype: object"
      ]
     },
     "execution_count": 32,
     "metadata": {},
     "output_type": "execute_result"
    }
   ],
   "source": [
    "df.title"
   ]
  },
  {
   "cell_type": "code",
   "execution_count": 33,
   "id": "3a611680",
   "metadata": {
    "execution": {
     "iopub.execute_input": "2022-05-12T13:15:10.603534Z",
     "iopub.status.busy": "2022-05-12T13:15:10.603018Z",
     "iopub.status.idle": "2022-05-12T13:15:10.609445Z",
     "shell.execute_reply": "2022-05-12T13:15:10.608810Z"
    },
    "papermill": {
     "duration": 0.072771,
     "end_time": "2022-05-12T13:15:10.611297",
     "exception": false,
     "start_time": "2022-05-12T13:15:10.538526",
     "status": "completed"
    },
    "tags": []
   },
   "outputs": [
    {
     "data": {
      "text/plain": [
       "0           Climate action needs new frontline leadership\n",
       "1             The dark history of the overthrow of Hawaii\n",
       "2          How play can spark new ideas for your business\n",
       "3       Why is China appointing judges to combat clima...\n",
       "4          Cement's carbon problem — and 2 ways to fix it\n",
       "                              ...                        \n",
       "5435                      The best stats you've ever seen\n",
       "5436                          Do schools kill creativity?\n",
       "5437                                  Greening the ghetto\n",
       "5438                                     Simplicity sells\n",
       "5439                          Averting the climate crisis\n",
       "Name: title, Length: 5439, dtype: object"
      ]
     },
     "execution_count": 33,
     "metadata": {},
     "output_type": "execute_result"
    }
   ],
   "source": [
    "df['title']"
   ]
  },
  {
   "cell_type": "markdown",
   "id": "67a99781",
   "metadata": {
    "papermill": {
     "duration": 0.064233,
     "end_time": "2022-05-12T13:15:10.739906",
     "exception": false,
     "start_time": "2022-05-12T13:15:10.675673",
     "status": "completed"
    },
    "tags": []
   },
   "source": [
    "# Ted Talks of Bill Gates"
   ]
  },
  {
   "cell_type": "code",
   "execution_count": 34,
   "id": "d5ae89d1",
   "metadata": {
    "execution": {
     "iopub.execute_input": "2022-05-12T13:15:10.872756Z",
     "iopub.status.busy": "2022-05-12T13:15:10.872155Z",
     "iopub.status.idle": "2022-05-12T13:15:10.886529Z",
     "shell.execute_reply": "2022-05-12T13:15:10.885734Z"
    },
    "papermill": {
     "duration": 0.081466,
     "end_time": "2022-05-12T13:15:10.888548",
     "exception": false,
     "start_time": "2022-05-12T13:15:10.807082",
     "status": "completed"
    },
    "tags": []
   },
   "outputs": [
    {
     "data": {
      "text/html": [
       "<div>\n",
       "<style scoped>\n",
       "    .dataframe tbody tr th:only-of-type {\n",
       "        vertical-align: middle;\n",
       "    }\n",
       "\n",
       "    .dataframe tbody tr th {\n",
       "        vertical-align: top;\n",
       "    }\n",
       "\n",
       "    .dataframe thead th {\n",
       "        text-align: right;\n",
       "    }\n",
       "</style>\n",
       "<table border=\"1\" class=\"dataframe\">\n",
       "  <thead>\n",
       "    <tr style=\"text-align: right;\">\n",
       "      <th></th>\n",
       "      <th>title</th>\n",
       "      <th>author</th>\n",
       "      <th>date</th>\n",
       "      <th>views</th>\n",
       "      <th>likes</th>\n",
       "      <th>link</th>\n",
       "      <th>View To Like Ratio</th>\n",
       "    </tr>\n",
       "  </thead>\n",
       "  <tbody>\n",
       "    <tr>\n",
       "      <th>403</th>\n",
       "      <td>The innovations we need to avoid a climate dis...</td>\n",
       "      <td>Bill Gates</td>\n",
       "      <td>March 2021</td>\n",
       "      <td>1700000</td>\n",
       "      <td>53000</td>\n",
       "      <td>https://ted.com/talks/bill_gates_the_innovatio...</td>\n",
       "      <td>32</td>\n",
       "    </tr>\n",
       "    <tr>\n",
       "      <th>789</th>\n",
       "      <td>How the pandemic will shape the near future</td>\n",
       "      <td>Bill Gates</td>\n",
       "      <td>June 2020</td>\n",
       "      <td>4600000</td>\n",
       "      <td>138000</td>\n",
       "      <td>https://ted.com/talks/bill_gates_how_the_pande...</td>\n",
       "      <td>33</td>\n",
       "    </tr>\n",
       "    <tr>\n",
       "      <th>952</th>\n",
       "      <td>How we must respond to the coronavirus pandemic</td>\n",
       "      <td>Bill Gates</td>\n",
       "      <td>March 2020</td>\n",
       "      <td>8600000</td>\n",
       "      <td>259000</td>\n",
       "      <td>https://ted.com/talks/bill_gates_how_we_must_r...</td>\n",
       "      <td>33</td>\n",
       "    </tr>\n",
       "    <tr>\n",
       "      <th>3251</th>\n",
       "      <td>The next outbreak? We're not ready</td>\n",
       "      <td>Bill Gates</td>\n",
       "      <td>March 2015</td>\n",
       "      <td>43000000</td>\n",
       "      <td>1300000</td>\n",
       "      <td>https://ted.com/talks/bill_gates_the_next_outb...</td>\n",
       "      <td>33</td>\n",
       "    </tr>\n",
       "    <tr>\n",
       "      <th>3878</th>\n",
       "      <td>Teachers need real feedback</td>\n",
       "      <td>Bill Gates</td>\n",
       "      <td>May 2013</td>\n",
       "      <td>4500000</td>\n",
       "      <td>135000</td>\n",
       "      <td>https://ted.com/talks/bill_gates_teachers_need...</td>\n",
       "      <td>33</td>\n",
       "    </tr>\n",
       "    <tr>\n",
       "      <th>4560</th>\n",
       "      <td>How state budgets are breaking US schools</td>\n",
       "      <td>Bill Gates</td>\n",
       "      <td>March 2011</td>\n",
       "      <td>2100000</td>\n",
       "      <td>63000</td>\n",
       "      <td>https://ted.com/talks/bill_gates_how_state_bud...</td>\n",
       "      <td>33</td>\n",
       "    </tr>\n",
       "    <tr>\n",
       "      <th>4824</th>\n",
       "      <td>Innovating to zero!</td>\n",
       "      <td>Bill Gates</td>\n",
       "      <td>February 2010</td>\n",
       "      <td>8100000</td>\n",
       "      <td>245000</td>\n",
       "      <td>https://ted.com/talks/bill_gates_innovating_to...</td>\n",
       "      <td>33</td>\n",
       "    </tr>\n",
       "    <tr>\n",
       "      <th>5062</th>\n",
       "      <td>Mosquitos, malaria and education</td>\n",
       "      <td>Bill Gates</td>\n",
       "      <td>February 2009</td>\n",
       "      <td>5200000</td>\n",
       "      <td>156000</td>\n",
       "      <td>https://ted.com/talks/bill_gates_mosquitos_mal...</td>\n",
       "      <td>33</td>\n",
       "    </tr>\n",
       "  </tbody>\n",
       "</table>\n",
       "</div>"
      ],
      "text/plain": [
       "                                                  title      author  \\\n",
       "403   The innovations we need to avoid a climate dis...  Bill Gates   \n",
       "789         How the pandemic will shape the near future  Bill Gates   \n",
       "952     How we must respond to the coronavirus pandemic  Bill Gates   \n",
       "3251                 The next outbreak? We're not ready  Bill Gates   \n",
       "3878                        Teachers need real feedback  Bill Gates   \n",
       "4560          How state budgets are breaking US schools  Bill Gates   \n",
       "4824                                Innovating to zero!  Bill Gates   \n",
       "5062                   Mosquitos, malaria and education  Bill Gates   \n",
       "\n",
       "               date     views    likes  \\\n",
       "403      March 2021   1700000    53000   \n",
       "789       June 2020   4600000   138000   \n",
       "952      March 2020   8600000   259000   \n",
       "3251     March 2015  43000000  1300000   \n",
       "3878       May 2013   4500000   135000   \n",
       "4560     March 2011   2100000    63000   \n",
       "4824  February 2010   8100000   245000   \n",
       "5062  February 2009   5200000   156000   \n",
       "\n",
       "                                                   link  View To Like Ratio  \n",
       "403   https://ted.com/talks/bill_gates_the_innovatio...                  32  \n",
       "789   https://ted.com/talks/bill_gates_how_the_pande...                  33  \n",
       "952   https://ted.com/talks/bill_gates_how_we_must_r...                  33  \n",
       "3251  https://ted.com/talks/bill_gates_the_next_outb...                  33  \n",
       "3878  https://ted.com/talks/bill_gates_teachers_need...                  33  \n",
       "4560  https://ted.com/talks/bill_gates_how_state_bud...                  33  \n",
       "4824  https://ted.com/talks/bill_gates_innovating_to...                  33  \n",
       "5062  https://ted.com/talks/bill_gates_mosquitos_mal...                  33  "
      ]
     },
     "execution_count": 34,
     "metadata": {},
     "output_type": "execute_result"
    }
   ],
   "source": [
    "df[df['author']=='Bill Gates']"
   ]
  },
  {
   "cell_type": "code",
   "execution_count": 35,
   "id": "fbc4fad5",
   "metadata": {
    "execution": {
     "iopub.execute_input": "2022-05-12T13:15:11.021199Z",
     "iopub.status.busy": "2022-05-12T13:15:11.020608Z",
     "iopub.status.idle": "2022-05-12T13:15:11.028792Z",
     "shell.execute_reply": "2022-05-12T13:15:11.027876Z"
    },
    "papermill": {
     "duration": 0.075862,
     "end_time": "2022-05-12T13:15:11.030867",
     "exception": false,
     "start_time": "2022-05-12T13:15:10.955005",
     "status": "completed"
    },
    "tags": []
   },
   "outputs": [
    {
     "data": {
      "text/plain": [
       "403      1700000\n",
       "789      4600000\n",
       "952      8600000\n",
       "3251    43000000\n",
       "3878     4500000\n",
       "4560     2100000\n",
       "4824     8100000\n",
       "5062     5200000\n",
       "Name: views, dtype: int64"
      ]
     },
     "execution_count": 35,
     "metadata": {},
     "output_type": "execute_result"
    }
   ],
   "source": [
    "df[df['author']=='Bill Gates']['views']"
   ]
  },
  {
   "cell_type": "code",
   "execution_count": 36,
   "id": "0f9dc4f4",
   "metadata": {
    "execution": {
     "iopub.execute_input": "2022-05-12T13:15:11.162118Z",
     "iopub.status.busy": "2022-05-12T13:15:11.161560Z",
     "iopub.status.idle": "2022-05-12T13:15:11.169047Z",
     "shell.execute_reply": "2022-05-12T13:15:11.168366Z"
    },
    "papermill": {
     "duration": 0.075471,
     "end_time": "2022-05-12T13:15:11.171060",
     "exception": false,
     "start_time": "2022-05-12T13:15:11.095589",
     "status": "completed"
    },
    "tags": []
   },
   "outputs": [
    {
     "data": {
      "text/plain": [
       "9725000.0"
      ]
     },
     "execution_count": 36,
     "metadata": {},
     "output_type": "execute_result"
    }
   ],
   "source": [
    "df[df['author']=='Bill Gates']['views'].mean()"
   ]
  },
  {
   "cell_type": "code",
   "execution_count": 37,
   "id": "b3804b56",
   "metadata": {
    "execution": {
     "iopub.execute_input": "2022-05-12T13:15:11.302576Z",
     "iopub.status.busy": "2022-05-12T13:15:11.301965Z",
     "iopub.status.idle": "2022-05-12T13:15:11.315317Z",
     "shell.execute_reply": "2022-05-12T13:15:11.314690Z"
    },
    "papermill": {
     "duration": 0.081061,
     "end_time": "2022-05-12T13:15:11.317134",
     "exception": false,
     "start_time": "2022-05-12T13:15:11.236073",
     "status": "completed"
    },
    "tags": []
   },
   "outputs": [
    {
     "data": {
      "text/plain": [
       "count             5439\n",
       "unique            4443\n",
       "top       Alex Gendler\n",
       "freq                45\n",
       "Name: author, dtype: object"
      ]
     },
     "execution_count": 37,
     "metadata": {},
     "output_type": "execute_result"
    }
   ],
   "source": [
    "#which author has given the maximum number of tedtalks\n",
    "df['author'].describe()"
   ]
  },
  {
   "cell_type": "code",
   "execution_count": 38,
   "id": "7f49b97b",
   "metadata": {
    "execution": {
     "iopub.execute_input": "2022-05-12T13:15:11.449579Z",
     "iopub.status.busy": "2022-05-12T13:15:11.449029Z",
     "iopub.status.idle": "2022-05-12T13:15:11.455578Z",
     "shell.execute_reply": "2022-05-12T13:15:11.454841Z"
    },
    "papermill": {
     "duration": 0.07581,
     "end_time": "2022-05-12T13:15:11.458067",
     "exception": false,
     "start_time": "2022-05-12T13:15:11.382257",
     "status": "completed"
    },
    "tags": []
   },
   "outputs": [
    {
     "data": {
      "text/plain": [
       "0       Ozawa Bineshi Albert\n",
       "1              Sydney Iaukea\n",
       "2              Martin Reeves\n",
       "3          James K. Thornton\n",
       "4            Mahendra Singhi\n",
       "                ...         \n",
       "5435            Hans Rosling\n",
       "5436        Sir Ken Robinson\n",
       "5437           Majora Carter\n",
       "5438             David Pogue\n",
       "5439                 Al Gore\n",
       "Name: author, Length: 5439, dtype: object"
      ]
     },
     "execution_count": 38,
     "metadata": {},
     "output_type": "execute_result"
    }
   ],
   "source": [
    "# df['author'].describe\n",
    "df['author']"
   ]
  },
  {
   "cell_type": "code",
   "execution_count": 39,
   "id": "b55917ef",
   "metadata": {
    "execution": {
     "iopub.execute_input": "2022-05-12T13:15:11.593004Z",
     "iopub.status.busy": "2022-05-12T13:15:11.592433Z",
     "iopub.status.idle": "2022-05-12T13:15:11.600187Z",
     "shell.execute_reply": "2022-05-12T13:15:11.599321Z"
    },
    "papermill": {
     "duration": 0.077096,
     "end_time": "2022-05-12T13:15:11.602175",
     "exception": false,
     "start_time": "2022-05-12T13:15:11.525079",
     "status": "completed"
    },
    "tags": []
   },
   "outputs": [
    {
     "data": {
      "text/plain": [
       "187196000"
      ]
     },
     "execution_count": 39,
     "metadata": {},
     "output_type": "execute_result"
    }
   ],
   "source": [
    "df[df['author']=='Alex Gendler']['views'].sum() # author with maximum views in total"
   ]
  },
  {
   "cell_type": "markdown",
   "id": "50ce3660",
   "metadata": {
    "papermill": {
     "duration": 0.066046,
     "end_time": "2022-05-12T13:15:11.734657",
     "exception": false,
     "start_time": "2022-05-12T13:15:11.668611",
     "status": "completed"
    },
    "tags": []
   },
   "source": [
    "# Sort "
   ]
  },
  {
   "cell_type": "markdown",
   "id": "2f436329",
   "metadata": {
    "papermill": {
     "duration": 0.069428,
     "end_time": "2022-05-12T13:15:11.870775",
     "exception": false,
     "start_time": "2022-05-12T13:15:11.801347",
     "status": "completed"
    },
    "tags": []
   },
   "source": [
    "On which day of the month we have most number of tedtalks"
   ]
  },
  {
   "cell_type": "code",
   "execution_count": null,
   "id": "22b91cb2",
   "metadata": {
    "papermill": {
     "duration": 0.06615,
     "end_time": "2022-05-12T13:15:12.003595",
     "exception": false,
     "start_time": "2022-05-12T13:15:11.937445",
     "status": "completed"
    },
    "tags": []
   },
   "outputs": [],
   "source": []
  },
  {
   "cell_type": "markdown",
   "id": "3f0e2fd3",
   "metadata": {
    "papermill": {
     "duration": 0.065355,
     "end_time": "2022-05-12T13:15:12.134577",
     "exception": false,
     "start_time": "2022-05-12T13:15:12.069222",
     "status": "completed"
    },
    "tags": []
   },
   "source": [
    "On which month of the year we have most number of tedtalks"
   ]
  },
  {
   "cell_type": "markdown",
   "id": "ed42cfe5",
   "metadata": {
    "papermill": {
     "duration": 0.066364,
     "end_time": "2022-05-12T13:15:12.266594",
     "exception": false,
     "start_time": "2022-05-12T13:15:12.200230",
     "status": "completed"
    },
    "tags": []
   },
   "source": [
    "which year most ted talks happended"
   ]
  },
  {
   "cell_type": "markdown",
   "id": "c8792262",
   "metadata": {
    "papermill": {
     "duration": 0.075784,
     "end_time": "2022-05-12T13:15:12.409223",
     "exception": false,
     "start_time": "2022-05-12T13:15:12.333439",
     "status": "completed"
    },
    "tags": []
   },
   "source": [
    "trend"
   ]
  },
  {
   "cell_type": "markdown",
   "id": "0398eaf0",
   "metadata": {
    "papermill": {
     "duration": 0.073951,
     "end_time": "2022-05-12T13:15:12.558139",
     "exception": false,
     "start_time": "2022-05-12T13:15:12.484188",
     "status": "completed"
    },
    "tags": []
   },
   "source": [
    "description of all the columns"
   ]
  },
  {
   "cell_type": "markdown",
   "id": "43e929c7",
   "metadata": {
    "papermill": {
     "duration": 0.087931,
     "end_time": "2022-05-12T13:15:12.714258",
     "exception": false,
     "start_time": "2022-05-12T13:15:12.626327",
     "status": "completed"
    },
    "tags": []
   },
   "source": [
    "# Learn about space : all Ted Talks concerning space"
   ]
  },
  {
   "cell_type": "code",
   "execution_count": 40,
   "id": "ca381604",
   "metadata": {
    "execution": {
     "iopub.execute_input": "2022-05-12T13:15:12.862859Z",
     "iopub.status.busy": "2022-05-12T13:15:12.862073Z",
     "iopub.status.idle": "2022-05-12T13:15:12.869774Z",
     "shell.execute_reply": "2022-05-12T13:15:12.868808Z"
    },
    "papermill": {
     "duration": 0.081031,
     "end_time": "2022-05-12T13:15:12.872846",
     "exception": false,
     "start_time": "2022-05-12T13:15:12.791815",
     "status": "completed"
    },
    "tags": []
   },
   "outputs": [
    {
     "name": "stdout",
     "output_type": "stream",
     "text": [
      "True\n",
      "False\n",
      "False\n",
      "True\n",
      "True\n"
     ]
    }
   ],
   "source": [
    "#problem :\n",
    "print('price'=='price')\n",
    "print('space'=='Space')\n",
    "print('space'=='SPACE')\n",
    "print('space'=='Space'.lower())\n",
    "print('space'=='SPACE'.lower())"
   ]
  },
  {
   "cell_type": "code",
   "execution_count": 41,
   "id": "c2fc3850",
   "metadata": {
    "execution": {
     "iopub.execute_input": "2022-05-12T13:15:13.018651Z",
     "iopub.status.busy": "2022-05-12T13:15:13.017910Z",
     "iopub.status.idle": "2022-05-12T13:15:13.032707Z",
     "shell.execute_reply": "2022-05-12T13:15:13.031856Z"
    },
    "papermill": {
     "duration": 0.08858,
     "end_time": "2022-05-12T13:15:13.035451",
     "exception": false,
     "start_time": "2022-05-12T13:15:12.946871",
     "status": "completed"
    },
    "tags": []
   },
   "outputs": [
    {
     "name": "stdout",
     "output_type": "stream",
     "text": [
      "['\"The Rich Man\\'s House\" / \"Woke Up This Morning (With My Mind Stayed on Freedom)\"'\n",
      " ' Resistance Revival Chorus' 'December 2018' 6100 184\n",
      " 'https://ted.com/talks/resistance_revival_chorus_the_rich_man_s_house_woke_up_this_morning_with_my_mind_stayed_on_freedom']\n",
      "[\"A woman's fury holds lifetimes of wisdom\" 'Tracee Ellis Ross'\n",
      " 'April 2018' 1600000 48000\n",
      " 'https://ted.com/talks/tracee_ellis_ross_a_woman_s_fury_holds_lifetimes_of_wisdom']\n"
     ]
    }
   ],
   "source": [
    "#topic='space' two type of spaces\n",
    "topic='black hole' #act as personal recommender\n",
    "topic1=\"man's\"\n",
    "for i in range(len(data)):\n",
    "    if(topic1 in data[i][0].lower()):\n",
    "        print(data[i])\n",
    "    "
   ]
  }
 ],
 "metadata": {
  "kernelspec": {
   "display_name": "Python 3",
   "language": "python",
   "name": "python3"
  },
  "language_info": {
   "codemirror_mode": {
    "name": "ipython",
    "version": 3
   },
   "file_extension": ".py",
   "mimetype": "text/x-python",
   "name": "python",
   "nbconvert_exporter": "python",
   "pygments_lexer": "ipython3",
   "version": "3.7.12"
  },
  "papermill": {
   "default_parameters": {},
   "duration": 19.742373,
   "end_time": "2022-05-12T13:15:13.829684",
   "environment_variables": {},
   "exception": null,
   "input_path": "__notebook__.ipynb",
   "output_path": "__notebook__.ipynb",
   "parameters": {},
   "start_time": "2022-05-12T13:14:54.087311",
   "version": "2.3.4"
  }
 },
 "nbformat": 4,
 "nbformat_minor": 5
}
